{
 "cells": [
  {
   "cell_type": "code",
   "execution_count": 1,
   "id": "f8d35247",
   "metadata": {},
   "outputs": [],
   "source": [
    "import numpy as np\n",
    "import seaborn as sb\n",
    "import json\n",
    "import pandas as pd\n",
    "import nltk\n",
    "from nltk.tokenize import TreebankWordTokenizer,sent_tokenize\n",
    "import matplotlib.pyplot as plt\n",
    "from tqdm.auto import tqdm\n",
    "import random\n",
    "import re, pickle\n",
    "import contractions as con\n",
    "from string import punctuation\n",
    "from collections import Counter\n",
    "\n",
    "tk = TreebankWordTokenizer()"
   ]
  },
  {
   "cell_type": "code",
   "execution_count": 2,
   "id": "358865e9",
   "metadata": {},
   "outputs": [
    {
     "data": {
      "text/plain": [
       "1748912"
      ]
     },
     "execution_count": 2,
     "metadata": {},
     "output_type": "execute_result"
    }
   ],
   "source": [
    "# load datasets\n",
    "\n",
    "reddit = pd.read_csv('/home/bibek/Downloads/reddit.csv',encoding='latin-1').full_text\n",
    "imdb_reviews = pd.read_csv('IMDB Dataset.csv').review\n",
    "movie_plots = pd.read_csv('wiki_movie_plots_deduped.csv',encoding='latin-1').Plot\n",
    "twitter = pd.read_csv('/home/bibek/notebooks/tweet_16.csv',encoding='latin-1')\n",
    "twitter = twitter[twitter.columns[-1]]\n",
    "\n",
    "text = []\n",
    "\n",
    "text.extend(reddit)\n",
    "text.extend(movie_plots)\n",
    "text.extend(imdb_reviews)\n",
    "text.extend(twitter)\n",
    "\n",
    "len(text)"
   ]
  },
  {
   "cell_type": "code",
   "execution_count": 3,
   "id": "78a34015",
   "metadata": {},
   "outputs": [],
   "source": [
    "def preprocess_text(x):\n",
    "    \"\"\"\n",
    "    cleaning tweets -> \n",
    "    @user -> USER\n",
    "    urls -> LINK\n",
    "    keep only !,.:#? and add space \n",
    "    \"\"\"\n",
    "    x = str(x).replace('&amp;','and').replace('<br />','').replace('&quot;','')\n",
    "    x = x.lower()\n",
    "    x = re.sub(r'[^\\x00-\\x7F]+', \"'\",x)\n",
    "    url_pattern = r'http\\S+|www\\S+'\n",
    "    x = re.sub(url_pattern, 'LINK', x).split()\n",
    "    for i,w in enumerate(x):\n",
    "        if '@' in w:\n",
    "            x[i] = 'USER'\n",
    "    x = ' '.join(x)\n",
    "    punct_to_keep = \"\"\"!,.:#?\"-;//%$'\"\"\"\n",
    "    punct = ''.join([p for p in punctuation if p not in punct_to_keep])\n",
    "    trans = str.maketrans(punct, ' ' * len(punct))\n",
    "    x = x.translate(trans)\n",
    "    x = ''.join(x)\n",
    "    x = re.sub(r'([!\"#$%&\\()*+,-./:;<=>?@\\\\^_`{|}~])\\s*\\1+', r'\\1', x)\n",
    "    x = re.sub(r'([!\"#$%&\\()*+,-./:;<=>?@\\\\^_`{|}~])', r' \\1 ', x)\n",
    "    x = re.sub(r'\\s+', ' ', x).strip().replace(\"'s \",\" 's \")\n",
    "    return x\n",
    "\n"
   ]
  },
  {
   "cell_type": "code",
   "execution_count": 4,
   "id": "19fe33ca",
   "metadata": {},
   "outputs": [],
   "source": [
    "np.random.shuffle(text)"
   ]
  },
  {
   "cell_type": "code",
   "execution_count": 5,
   "id": "50ab36e0",
   "metadata": {
    "scrolled": false
   },
   "outputs": [
    {
     "name": "stdout",
     "output_type": "stream",
     "text": [
      "http://tinyurl.com/abc8vc why bebi gib sad song \n",
      "\n",
      "LINK why bebi gib sad song\n",
      "-----------------------------------------------\n",
      "@shaundiviney why cant bradie chatttt tooo \n",
      "\n",
      "USER why cant bradie chatttt tooo\n",
      "-----------------------------------------------\n",
      "@EggSoup www.Shakeology.com  \n",
      "\n",
      "USER LINK\n",
      "-----------------------------------------------\n",
      "WOAH, its a fkin tsunami goin on outside.. proper heavy rain!!! \n",
      "\n",
      "woah , its a fkin tsunami goin on outside . proper heavy rain !\n",
      "-----------------------------------------------\n",
      "@YoMma will B editing the latest MicroWarpCast show which we recorded 2 weeks ago but I couldn't find the time 2 edit do 2 RL obligations \n",
      "\n",
      "USER will b editing the latest microwarpcast show which we recorded 2 weeks ago but i couldn't find the time 2 edit do 2 rl obligations\n",
      "-----------------------------------------------\n",
      "Hmm I really fancy watching an Ancient Egypt documentary. ANYTHING BUT REVISION \n",
      "\n",
      "hmm i really fancy watching an ancient egypt documentary . anything but revision\n",
      "-----------------------------------------------\n",
      "facebooking \n",
      "\n",
      "facebooking\n",
      "-----------------------------------------------\n",
      "Savannah River Site\n",
      "\n",
      "savannah river site\n",
      "-----------------------------------------------\n",
      "So yeah i'm bored at work only worked a half night new person working tonight my friend chad got fired over some bs i'm sure i'm next \n",
      "\n",
      "so yeah i'm bored at work only worked a half night new person working tonight my friend chad got fired over some bs i'm sure i'm next\n",
      "-----------------------------------------------\n",
      "Should be sleeping, but is watching @nicolerichie on CNN instead \n",
      "\n",
      "should be sleeping , but is watching USER on cnn instead\n",
      "-----------------------------------------------\n"
     ]
    }
   ],
   "source": [
    "# sample cleaned text\n",
    "\n",
    "idx = np.random.randint(0,len(text) - 1,10)\n",
    "\n",
    "for i in idx:\n",
    "    print(text[i])\n",
    "    print()\n",
    "    print(preprocess_text(text[i]))\n",
    "    print('-----------------------------------------------')"
   ]
  },
  {
   "cell_type": "code",
   "execution_count": 6,
   "id": "db7bada3",
   "metadata": {},
   "outputs": [
    {
     "data": {
      "application/vnd.jupyter.widget-view+json": {
       "model_id": "0cb9fb6bedf34b2e9fa1b727f98aead4",
       "version_major": 2,
       "version_minor": 0
      },
      "text/plain": [
       "  0%|          | 0/1748912 [00:00<?, ?it/s]"
      ]
     },
     "metadata": {},
     "output_type": "display_data"
    }
   ],
   "source": [
    "# clean text\n",
    "\n",
    "clean_text = [preprocess_text(x) for x in tqdm(text)]"
   ]
  },
  {
   "cell_type": "code",
   "execution_count": 8,
   "id": "bf09983a",
   "metadata": {},
   "outputs": [],
   "source": [
    "# load pretrained tokenizer\n",
    "\n",
    "from bpe_tokenizer import BPETokenizer\n",
    "\n",
    "if __name__ == \"__main__\":\n",
    "\n",
    "    with open('tokenizer.pkl','rb') as f:\n",
    "        tokenizer = pickle.load(f)"
   ]
  },
  {
   "cell_type": "code",
   "execution_count": 9,
   "id": "a9d38fd3",
   "metadata": {},
   "outputs": [
    {
     "data": {
      "application/vnd.jupyter.widget-view+json": {
       "model_id": "cd2c57becf92478790d683c4114f6aa6",
       "version_major": 2,
       "version_minor": 0
      },
      "text/plain": [
       "  0%|          | 0/1748912 [00:00<?, ?it/s]"
      ]
     },
     "metadata": {},
     "output_type": "display_data"
    },
    {
     "name": "stdout",
     "output_type": "stream",
     "text": [
      "number of sequences : 466991\n"
     ]
    }
   ],
   "source": [
    "# split long sequence in smaller ones and store the data\n",
    "\n",
    "def split_long_text(text,maxlen=200):\n",
    "    sents = sent_tokenize(text)\n",
    "    tmp = []\n",
    "    sent = ''\n",
    "    for s in sents:\n",
    "        if len((s + sent).split()) <= maxlen:\n",
    "            if s.split()[-1] not in punctuation:\n",
    "                sent = sent + s + '.'\n",
    "            else:\n",
    "                sent = sent + s\n",
    "            sent = sent.strip()\n",
    "            sent = re.sub(r'([!\"#$%&\\()*+,-./:;<=>?@\\\\^_`{|}~])', r' \\1 ', sent)\n",
    "            re.sub(r'\\s+', ' ', sent)\n",
    "        else:\n",
    "            sent = re.sub(r'([!\"#$%&\\()*+,-./:;<=>?@\\\\^_`{|}~])', r' \\1 ', sent)\n",
    "            tmp.append(sent)\n",
    "            sent = s\n",
    "    \n",
    "    sent = re.sub(r'([!\"#$%&\\()*+,-./:;<=>?@\\\\^_`{|}~])', r' \\1 ', sent)\n",
    "    sent = re.sub(r'\\s+', ' ', sent)\n",
    "    tmp.append(sent)\n",
    "    \n",
    "    return tmp\n",
    "    \n",
    "\n",
    "\n",
    "text_data = []\n",
    "\n",
    "for text in tqdm(clean_text):\n",
    "    if len(text.split()) >= 30:\n",
    "        splitted_text = split_long_text(text,maxlen=100)\n",
    "        text_data.extend(splitted_text)\n",
    "    \n",
    "    \n",
    "print('number of sequences :',len(text_data))"
   ]
  },
  {
   "cell_type": "code",
   "execution_count": 10,
   "id": "c25e3f92",
   "metadata": {},
   "outputs": [
    {
     "data": {
      "application/vnd.jupyter.widget-view+json": {
       "model_id": "60e039e5e0f24f6793d8bd2d7b0dd709",
       "version_major": 2,
       "version_minor": 0
      },
      "text/plain": [
       "  0%|          | 0/466991 [00:00<?, ?it/s]"
      ]
     },
     "metadata": {},
     "output_type": "display_data"
    }
   ],
   "source": [
    "# tokenize sequences\n",
    "\n",
    "token_seq = []\n",
    "\n",
    "for seq in tqdm(text_data):\n",
    "    seq = seq.strip()\n",
    "    seq = '<cls> ' + seq + ' <sep>'\n",
    "    seq = tokenizer.tokenize(seq)\n",
    "    token_seq.append(seq)"
   ]
  },
  {
   "cell_type": "code",
   "execution_count": 11,
   "id": "1a41f772",
   "metadata": {},
   "outputs": [
    {
     "data": {
      "image/png": "[encoded data removed]",
      "text/plain": [
       "<Figure size 640x480 with 1 Axes>"
      ]
     },
     "metadata": {},
     "output_type": "display_data"
    }
   ],
   "source": [
    "# visualize token count in sequences\n",
    "\n",
    "plt.hist([len(x) for x in token_seq],bins=50)\n",
    "plt.show()"
   ]
  },
  {
   "cell_type": "code",
   "execution_count": 12,
   "id": "e0ec544e",
   "metadata": {},
   "outputs": [],
   "source": [
    "# keep sequences with only minlen 50 and maxlen 128\n",
    "\n",
    "token_seq = [x for x in token_seq if 50 <= len(x) <= 128]"
   ]
  },
  {
   "cell_type": "code",
   "execution_count": 13,
   "id": "1326579a",
   "metadata": {},
   "outputs": [
    {
     "data": {
      "image/png": "[encoded data removed]",
      "text/plain": [
       "<Figure size 640x480 with 1 Axes>"
      ]
     },
     "metadata": {},
     "output_type": "display_data"
    }
   ],
   "source": [
    "plt.hist([len(x)for x in token_seq],bins=50)\n",
    "plt.show()"
   ]
  },
  {
   "cell_type": "code",
   "execution_count": 14,
   "id": "8d81ec2e",
   "metadata": {
    "scrolled": false
   },
   "outputs": [
    {
     "name": "stdout",
     "output_type": "stream",
     "text": [
      "the disturbed miss robey ends up setting fire to the house , whereupon mark redeems himself in celia 's eyes by saving her life . \n",
      "-------------------------------------------------------\n",
      "the disturbed miss robe ## y ends up setting fire to the house , whereupon mark redeems himself in celia 's eyes by saving her life .\n",
      "=========================================================\n",
      "waldo agrees after father volunteers to stay inside the library as a hostage . coalhouse 's supporters escape in the car , and he drives father out the library . he prays , seeming ready to blow himself up , but instead surrenders to the police . as he steps out of the building with his hands raised , waldo orders a sniper to shoot him . coalhouse stumbles a short distance and falls dead . the film ends with another newsreel montage : evelyn dances in vaudeville , and harry thaw is released from an asylum . \n",
      "-------------------------------------------------------\n",
      "waldo agrees after father volunteers to stay inside the library as a hostage . coal ## house 's supporters escape in the car , and he drives father out the library . he prays , seeming ready to blow himself up , but instead surrenders to the police . as he steps out of the building with his hands raised , waldo orders a sniper to shoot him . coal ## house stumbles a short distance and falls dead . the film ends with another newsreel montage : evelyn dances in vaudeville , and harry thaw is released from an asylum .\n",
      "=========================================================\n",
      "hoping that august comes fast ! i know i'll be sad , but im ready for a change . and toledo is that change . cincinnati is still in my heart . \n",
      "-------------------------------------------------------\n",
      "hoping that august comes fast ! i know i'll be sad , but im ready for a change . and to ## led ## o is that change . <unk> is still in my heart .\n",
      "=========================================================\n",
      "however , the end of the screenplay does not provide any explanation for the killing instinct and motives for the behavior of the nurse jane toppan , giving the sensation that the budget ended before the finalization of the shooting . with a better beginning and conclusion , this weird story would be a good low budget slasher movie . my vote is four . title brazil : \" agonia \" agony \" \n",
      "-------------------------------------------------------\n",
      "however , the end of the screenplay does not provide any explanation for the killing instinct and motives for the behavior of the nurse jane top ## pan , giving the sensation that the budget ended before the <unk> of the shooting . with a better beginning and conclusion , this weird story would be a good low budget slasher movie . my vote is four . title brazil : \" ago ## nia \" agony \"\n",
      "=========================================================\n",
      "i would like to thank all those involved with this amazing show - it 's so appreciated to see this kind of tv show in what is in my opinion an era of poor tv fair in general these days with the exception of re - runs of seinfeld and such like . thanks for a great show . \n",
      "-------------------------------------------------------\n",
      "i would like to thank all those involved with this amazing show - it 's so appreciated to see this kind of tv show in what is in my opinion an era of poor tv fair in general these days with the exception of re - runs of seinfeld and such like . thanks for a great show .\n",
      "=========================================================\n",
      "generally i don't do minus 's and if this site could i would give this movie - 3 out of 10 meaning i really hated this movie . i thought uwe boll 's alone in the dark was the worst i've seen yet but at least i gave it a 2 . 5 out of 10 in my opinion stephen dorff shooting at nothing made me laugh so i boosted the ratings a bit . hell if it was if compared to bloodrayne , bloodrayne would win a oscar for best movie if they were competing . \n",
      "-------------------------------------------------------\n",
      "generally i don't do minus 's and if this site could i would give this movie - 3 out of 10 meaning i really hated this movie . i thought u ## we boll 's alone in the dark was the worst i've seen yet but at least i gave it a 2 . 5 out of 10 in my opinion stephen do ## r ## ff shooting at nothing made me laugh so i boost ## ed the ratings a bit . hell if it was if compared to blood ## ray ## ne , blood ## ray ## ne would win a oscar for best movie if they were competing .\n",
      "=========================================================\n",
      "at the bank , kevin accidentally foils a bank robbery , and the manager awards kevin and perry with enough cash to make the trip . with that , they plan for their holiday in ibiza . once in ibiza , the boys spot the 'girls of their dreams' candice laura fraser and gemma tabitha wady . they also meet eye ball paul whose nickname derives from his practice of vodka eyeballing . \n",
      "-------------------------------------------------------\n",
      "at the bank , kevin accidentally foils a bank robbery , and the manager awards kevin and perry with enough cash to make the trip . with that , they plan for their holiday in i ## biz ## a . once in i ## biz ## a , the boys spot the ' ## girls of their dreams ## ' candice laura fraser and gemma tab ## it ## ha wa ## d ## y . they also meet eye ball paul whose nickname der ## ives from his practice of vodka eyeball ## ing .\n",
      "=========================================================\n",
      "in this movie , joe pesci slams dunks a basketball . joe pesci . and being consistent , the rest of the script is equally not believable . pesci is a funny guy , which saves this film from sinking int the absolute back of the cellar , but the other roles were pretty bad . the father was a greedy businessman who valued money more than people , which wasn't even well - played . instead of the man being an archetypal villain , he seemed more like an amoral android programmed to make money at all costs . \n",
      "-------------------------------------------------------\n",
      "in this movie , joe pesci slams du ## n ## k ## s a basketball . joe pesci . and being consistent , the rest of the script is equally not believable . pesci is a funny guy , which saves this film from sinking in ## t the absolute back of the cellar , but the other roles were pretty bad . the father was a greedy businessman who valued money more than people , which wasn't even well - played . instead of the man being an arch ## et ## y ## pal villain , he seemed more like an amoral android programmed to make money at all costs .\n",
      "=========================================================\n",
      "long story short , we have a cat that urinates outside of the litter box nearly every day . for various reasons , there 's not a whole lot we can do right now to correct the behavior and rehoming her is not an option for me . i really want to start switching to cloth towels instead of paper for most things but obviously there 's an issue when it comes to cat pee because it 's not a smell that just comes out of most fabric' what do you recommend ? \n",
      "-------------------------------------------------------\n",
      "long story short , we have a cat that ur ## ina ## te ## s outside of the litter box nearly every day . for various reasons , there 's not a whole lot we can do right now to correct the behavior and re ## ho ## ming her is not an option for me . i really want to start switching to cloth towels instead of paper for most things but obviously there 's an issue when it comes to cat pee because it 's not a smell that just comes out of most fabric ## ' what do you recommend ?\n",
      "=========================================================\n",
      "she claims her feelings for max are genuine and that she and her child were being threatened by german spies in london , including the woman who lives around the corner and often looks after anna . max , unwilling to kill his wife , tells her they need to leave before the soe catches them . he declares they only have one hour . he then retrieves anna and kills marianne 's handlers - the nanny and the jeweler . max uses his credentials to get onto the airbase to flee the country via airplane . \n",
      "-------------------------------------------------------\n",
      "she claims her feelings for max are genuine and that she and her child were being threatened by german spies in london , including the woman who lives around the corner and often looks after anna . max , unwilling to kill his wife , tells her they need to leave before the so ## e catches them . he declares they only have one hour . he then retrieves anna and kills marianne 's handler ## s - the nanny and the jewel ## er . max uses his credentials to get onto the air ## base to flee the country via airplane .\n",
      "=========================================================\n"
     ]
    }
   ],
   "source": [
    "# sample subword-split\n",
    "\n",
    "idx = np.random.randint(0,len(text_data),10)\n",
    "\n",
    "\n",
    "for i in idx:\n",
    "    seq = text_data[i].split()\n",
    "    sent = re.sub(r'\\s+', ' ', text_data[i])\n",
    "    seq = ' '.join([tokenizer._split_oov(x) for x in seq])\n",
    "    print(sent)\n",
    "    print('-------------------------------------------------------')\n",
    "    print(seq)\n",
    "    print('=========================================================')"
   ]
  },
  {
   "cell_type": "code",
   "execution_count": 15,
   "id": "d8998f88",
   "metadata": {},
   "outputs": [],
   "source": [
    "# pad sequences\n",
    "\n",
    "token_seq = np.asarray([tokenizer.add_padding(seq,maxlen=128) for seq in token_seq])"
   ]
  },
  {
   "cell_type": "code",
   "execution_count": 18,
   "id": "9221d201",
   "metadata": {},
   "outputs": [
    {
     "data": {
      "text/plain": [
       "(array([    4,    37,  5806,  3525,     5,  7766,  6576,   170,     7,\n",
       "          959,     5,  1687,     5,   486,    12,     6,  1343, 14153,\n",
       "         4122,  3780,   214, 19946,     6,   288,    10,  4122,  1218,\n",
       "        19947,  5684, 19950,  4498, 19950,  4808,     5,   324,     5,\n",
       "          836,   640,     5,  1489,     5,  7421, 19947,   165,    14,\n",
       "           16,   912,     7,  9805,     6, 12939,     5,  7766, 19946,\n",
       "          133, 19947,    78,  4498,    11,  7893,    88, 19949, 17213,\n",
       "            8, 11102,    12,    16,   155,   430, 19947,    12,   921,\n",
       "           18,   533,     7,    36,    37,  3053,  6252,  2463,    17,\n",
       "         8851, 13155, 19947,   875,  6406, 17394,     5, 10036,  7042,\n",
       "            8, 10799,  1345,   387,     5, 13748,     5,    24, 19947,\n",
       "         1913,     5,    15,     5, 16191,     5,   936, 15496,    57,\n",
       "         9054,     5,  5283,     5,  5724,     5,     9, 19947,  8227,\n",
       "        19947,     8, 19215,     8, 11619,   545, 19946,     2,     0,\n",
       "            0,     0], dtype=int32),\n",
       " array([    4,    37,  5806,  3525,     5,  7766,  6576,   170,     7,\n",
       "          959,     5,  1687,     5,   486,     1,     6,  1343, 14153,\n",
       "         4122,  3780,     1, 19946,     6,   288,    10,  4122,     1,\n",
       "        19947,  5684, 19950,  4498, 19950,  4808,     5,   324,     5,\n",
       "          836,   640,     5,  1489,     5,  7421, 19947,   165,    14,\n",
       "           16,   912,     7,  9805,     6, 12939,     5,  7766,     1,\n",
       "          133,     1,    78,  4498,    11,  7893,    88, 19949, 17213,\n",
       "            8, 11102,    12,    16,   155,   430,     1,    12,   921,\n",
       "           18,     1,     7,     1,    37,  3053,  6252,     1,    17,\n",
       "         8851,     1, 19947,     1,  6406, 17394,     5, 10036,  7042,\n",
       "        10112, 10799,  1345,     1,     5,     1,     5,     1,     1,\n",
       "         1913,     5,    15,     5, 16191,     5,   936, 15496,    57,\n",
       "         9054,     5,  5283,     5,  5724,     5,     9, 19947,  8227,\n",
       "        19947,     8, 19215,     8, 11619,   545, 19946,     2,     0,\n",
       "            0,     0], dtype=int32))"
      ]
     },
     "execution_count": 18,
     "metadata": {},
     "output_type": "execute_result"
    }
   ],
   "source": [
    "def create_masked_data(seq,vocab_size,for_train=True,dont_mask_toks=np.asarray([2,0,4,5],np.int32)):\n",
    "    \n",
    "    # mask random tokens\n",
    "    seq = np.asarray(seq,dtype=np.int32)\n",
    "    end = np.where(seq == 2)[0][0]\n",
    "    masked_seq = seq.copy()\n",
    "    n_mask = int(len(np.where(seq>0)[0])*0.12)\n",
    "    mask = ~np.isin(seq, dont_mask_toks)\n",
    "    to_mask_idx = np.where(mask)[0]\n",
    "    to_mask_prob = n_mask/len(to_mask_idx)\n",
    "    probs = np.linspace(0,1,len(to_mask_idx))\n",
    "    np.random.shuffle(probs)\n",
    "    to_mask = masked_seq[to_mask_idx].copy()\n",
    "    to_mask = np.where(probs>=to_mask_prob,to_mask,1)\n",
    "    masked_seq[to_mask_idx] = to_mask\n",
    "    masked_idx = np.where(masked_seq == 1)[0]\n",
    "    \n",
    "    # create inverse mask\n",
    "    inv_mask = np.zeros(len(seq),dtype=np.int32)\n",
    "    inv_mask[masked_idx] = seq[masked_idx]\n",
    "    \n",
    "    # replace 1% of tokens with random tokens (only for training data) \n",
    "    if for_train:\n",
    "        non_masked_idx = np.where(masked_seq > 1)[0]\n",
    "        num_tok_to_replace = int((len(seq) - 2) * 0.015)\n",
    "        rand_idx = non_masked_idx[np.random.randint(0,len(non_masked_idx)-1,num_tok_to_replace)]\n",
    "        rand_replacements = np.random.randint(6,vocab_size,num_tok_to_replace)\n",
    "        masked_seq[rand_idx] = rand_replacements\n",
    "        \n",
    "    return seq,masked_seq\n",
    "\n",
    "i = np.random.randint(0,len(token_seq))\n",
    "create_masked_data(token_seq[i],len(tokenizer.i2w),for_train=True)"
   ]
  },
  {
   "cell_type": "code",
   "execution_count": 19,
   "id": "d5d49b10",
   "metadata": {},
   "outputs": [
    {
     "name": "stdout",
     "output_type": "stream",
     "text": [
      "<cls> an anonymous flash ## er exposes himself to shop ## per ## s in the forest ridge mall parking lot . the head of mall security , ronald \" ronnie \" barn ## hard ## t r ## o ## gen , makes it his mission to apprehend the offend ## er . however , while ronnie is ostensibly well - intentioned and valiant in his own mind , in reality he appears to be an emotionally unstable individual with vigilante tendencies , apparently experiencing bi ## polar disorder and displaying violent idea ## ti ## on , grand ## i ## os ## e delusions or mega ## lo ## mani ## a , paranoia , and bigoted and delusional thinking . <sep>\n",
      "\n",
      "<cls> <mask> anonymous flash ## er <mask> himself to shop ## per ## s <mask> the forest <mask> mall parking lot . the head of mall security , ronald \" ronnie \" barn ## hard ## t r ## <mask> ## gen , makes it <mask> mission <mask> apprehend the offend ## rites . however , while ronnie is ostensibly well - intentioned and valiant in his own mind <mask> in <mask> he <mask> to be <mask> emotionally unstable individual with vigilante tendencies , apparently <mask> bi ## polar <mask> and displaying violent idea ## ti ## on , grand ## i ## os ## e delusions or <mask> ## lo ## mani ## a , paranoia , and bigoted and delusional <mask> . <sep>\n",
      "\n",
      "an exposes in ridge o his to , reality appears an experiencing disorder mega thinking\n"
     ]
    }
   ],
   "source": [
    "# sample masking\n",
    "\n",
    "seq,masked = create_masked_data(token_seq[i],len(tokenizer.i2w),for_train=True)\n",
    "\n",
    "print(' '.join([tokenizer.i2w[t] for t in seq if t != 0]))\n",
    "print()\n",
    "print(' '.join([tokenizer.i2w[t] for t in masked if t != 0]))\n",
    "print()\n",
    "idx = np.where(masked == 1)[0]\n",
    "print(' '.join([tokenizer.i2w[t] for t in seq[idx] if t != 0]))"
   ]
  },
  {
   "cell_type": "code",
   "execution_count": 20,
   "id": "40a91c65",
   "metadata": {},
   "outputs": [],
   "source": [
    "# dictionary for storing train and val sets\n",
    "\n",
    "pretraining_data = {'train':{'seq':[],'masked_seq':[]},\n",
    "                    'valid':{'seq':[],'masked_seq':[]}}"
   ]
  },
  {
   "cell_type": "code",
   "execution_count": 21,
   "id": "db06ae2e",
   "metadata": {},
   "outputs": [],
   "source": [
    "np.random.shuffle(token_seq)"
   ]
  },
  {
   "cell_type": "code",
   "execution_count": 22,
   "id": "1d555ff2",
   "metadata": {},
   "outputs": [],
   "source": [
    "# split train and val ( val data is 60k sequences)\n",
    "\n",
    "train,valid = [],[]\n",
    "size = len(tokenizer.i2w)\n",
    "val_size = 60000\n",
    "\n",
    "for i,seq in enumerate(token_seq):\n",
    "    \n",
    "    if i >= val_size:\n",
    "        seq,masked_seq = create_masked_data(seq,size,for_train=True)\n",
    "        if len(seq) > 0:\n",
    "            train.append((seq,masked_seq))\n",
    "        \n",
    "    else:\n",
    "        seq,masked_seq = create_masked_data(seq,size,for_train=False)\n",
    "        if len(seq) > 0:\n",
    "            valid.append((seq,masked_seq))"
   ]
  },
  {
   "cell_type": "code",
   "execution_count": 23,
   "id": "84da7667",
   "metadata": {},
   "outputs": [
    {
     "data": {
      "text/plain": [
       "(281978, 60000)"
      ]
     },
     "execution_count": 23,
     "metadata": {},
     "output_type": "execute_result"
    }
   ],
   "source": [
    "np.random.shuffle(train)\n",
    "np.random.shuffle(valid)   \n",
    "\n",
    "len(train),len(valid)"
   ]
  },
  {
   "cell_type": "code",
   "execution_count": 24,
   "id": "95d0a950",
   "metadata": {},
   "outputs": [],
   "source": [
    "# store train and val sets\n",
    "\n",
    "for seq,masked in train:\n",
    "    pretraining_data['train']['masked_seq'].append(masked)\n",
    "    pretraining_data['train']['seq'].append(seq)\n",
    "    \n",
    "for seq,masked in valid:\n",
    "    pretraining_data['valid']['masked_seq'].append(masked)\n",
    "    pretraining_data['valid']['seq'].append(seq)"
   ]
  },
  {
   "cell_type": "code",
   "execution_count": 25,
   "id": "21aa5bfd",
   "metadata": {},
   "outputs": [],
   "source": [
    "# data and tokenizer\n",
    "\n",
    "with open('pretraining data.pkl','wb') as f:\n",
    "    pickle.dump(pretraining_data,f)\n",
    "    \n",
    "with open('tokenizer.pkl','wb') as f:\n",
    "    pickle.dump(tokenizer,f)"
   ]
  },
  {
   "cell_type": "code",
   "execution_count": null,
   "id": "d0d96d6e",
   "metadata": {},
   "outputs": [],
   "source": []
  }
 ],
 "metadata": {
  "kernelspec": {
   "display_name": "Python 3 (ipykernel)",
   "language": "python",
   "name": "python3"
  },
  "language_info": {
   "codemirror_mode": {
    "name": "ipython",
    "version": 3
   },
   "file_extension": ".py",
   "mimetype": "text/x-python",
   "name": "python",
   "nbconvert_exporter": "python",
   "pygments_lexer": "ipython3",
   "version": "3.10.12"
  }
 },
 "nbformat": 4,
 "nbformat_minor": 5
}
