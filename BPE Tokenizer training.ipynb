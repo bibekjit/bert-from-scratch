{
 "cells": [
  {
   "cell_type": "code",
   "execution_count": 1,
   "id": "9721f0fe",
   "metadata": {},
   "outputs": [],
   "source": [
    "import pandas as pd\n",
    "import re\n",
    "from string import punctuation\n",
    "import numpy as np\n",
    "from bpe_tokenizer import BPETokenizer\n",
    "from tqdm.auto import tqdm\n",
    "\n",
    "# initalize tokenizer\n",
    "tokenizer = BPETokenizer()\n",
    "\n",
    "# load and consolidate data\n",
    "reddit = pd.read_csv('/home/bibek/Downloads/reddit.csv',encoding='latin-1').full_text\n",
    "twitter = pd.read_csv('/home/bibek/notebooks/tweet_16.csv',encoding='latin-1').sample(100000)\n",
    "twitter = twitter[twitter.columns[-1]]\n",
    "imdb_reviews = pd.read_csv('IMDB Dataset.csv').review\n",
    "movie_plots = pd.read_csv('wiki_movie_plots_deduped.csv',encoding='latin-1').Plot\n",
    "tweet1 = pd.read_csv('/home/bibek/notebooks/train.csv',encoding='latin-1').text\n",
    "tweet2 = pd.read_csv('/home/bibek/notebooks/test.csv',encoding='latin-1').text\n",
    "\n",
    "\n",
    "\n",
    "text = []\n",
    "\n",
    "text.extend(reddit)\n",
    "text.extend(twitter)\n",
    "text.extend(imdb_reviews)\n",
    "text.extend(movie_plots)\n",
    "text.extend(tweet1)\n",
    "text.extend(tweet2)"
   ]
  },
  {
   "cell_type": "code",
   "execution_count": 2,
   "id": "48863671",
   "metadata": {},
   "outputs": [
    {
     "data": {
      "application/vnd.jupyter.widget-view+json": {
       "model_id": "2018de8aaaab44c19926c7f6ccaf0272",
       "version_major": 2,
       "version_minor": 0
      },
      "text/plain": [
       "  0%|          | 0/259789 [00:00<?, ?it/s]"
      ]
     },
     "metadata": {},
     "output_type": "display_data"
    }
   ],
   "source": [
    "def preprocess_text(x):\n",
    "    \"\"\"\n",
    "    cleaning tweets -> \n",
    "    @user -> USER\n",
    "    urls -> LINK\n",
    "    keep only !,.:#? and add space \n",
    "    \"\"\"\n",
    "    x = str(x).replace('&amp;','and').replace('<br />','').replace('&quot;','')\n",
    "    x = x.lower()\n",
    "    x = re.sub(r'[^\\x00-\\x7F]+', \"'\",x)\n",
    "    url_pattern = r'http\\S+|www\\S+'\n",
    "    x = re.sub(url_pattern, 'LINK', x).split()\n",
    "    for i,w in enumerate(x):\n",
    "        if '@' in w:\n",
    "            x[i] = 'USER'\n",
    "    x = ' '.join(x)\n",
    "    punct_to_keep = \"\"\"!,.:#?\"-;/%$'\"\"\"\n",
    "    punct = ''.join([p for p in punctuation if p not in punct_to_keep])\n",
    "    trans = str.maketrans(punct, ' ' * len(punct))\n",
    "    x = x.translate(trans)\n",
    "    x = ''.join(x)\n",
    "    x = re.sub(r'([!\"#$%&\\()*+,-./:;<=>?@\\\\^_`{|}~])\\s*\\1+', r'\\1', x)\n",
    "    x = re.sub(r'([!\"#$%&\\()*+,-./:;<=>?@\\\\^_`{|}~])', r' \\1 ', x)\n",
    "    x = re.sub(r'\\s+', ' ', x).strip().replace(\"'s \",\" 's \")\n",
    "    return x\n",
    "\n",
    "# clean the text\n",
    "\n",
    "clean_text = [preprocess_text(x) for x in tqdm(text)]"
   ]
  },
  {
   "cell_type": "code",
   "execution_count": 3,
   "id": "9d6f0801",
   "metadata": {
    "scrolled": false
   },
   "outputs": [
    {
     "name": "stdout",
     "output_type": "stream",
     "text": [
      "@OfficialAshleyG Haha. You and @KC_Lutz (or &quot;Uncle Kellan&quot;) are too cute!  \n",
      "--------------------------------------------------\n",
      " USER haha . you and USER or uncle kellan are too cute !\n",
      "===============================================================\n",
      "its rain  \n",
      "--------------------------------------------------\n",
      " its rain\n",
      "===============================================================\n",
      "After his mother is killed by Man, Bambi stumbles upon his father, the Great Prince of the Forest, who takes him back to his den. The Great Prince asks Friend Owl to find a doe to raise Bambi, since his duties are to his herd, but Owl informs him that, because of the harsh winters, the does can barely feed themselves and their young. The Great Prince has no choice but to look after Bambi until the spring.\r\n",
      "Sometime later, the Great Prince allows Bambi to accompany his friends, Thumper and Flower, to see the Groundhog, whose shadow will foretell if winter will end soon. At the Groundhog ceremony, Bambi meets up with his crush Faline. The Groundhog is coaxed out of his hole, only to be scared back in by Ronno, an older fawn. Ronno tries to impress Faline with stories of his encounter with Man, and the whistles they use to imitate deer. When Bambi believes the story and says it is unbelievable, Ronno takes it as a literal insult and is about to fight Bambi when he is called away by his mother.\r\n",
      "While the other animals leave, Bambi falls asleep waiting for his father. He wakes up to what appears to be his mother's voice, which calls him into a meadow, but it turns out to be an ambush by Man. The Great Prince comes to Bambi's rescue and both of them escape, but Bambi is yelled at for endangering himself. Days later, Bambi informs Thumper and Flower about his wish to impress his father. They decide to help Bambi learn how to be brave, but in doing so, they encounter a porcupine who sticks his quills into Bambi's backside. Ronno and Faline, hearing the commotion, investigate; Bambi gets into a fight with Ronno when he sees him bothering Faline. Ronno chases him and Thumper through the forest until Bambi leaps to safety over a large ravine. The Great Prince, having seen the whole thing, is impressed by this feat.\r\n",
      "The next day, Thumper encourages Bambi to talk to the Great Prince, and the two connect. The Great Prince decides to allow Bambi to come along with him on his patrols, and as the days progress, the two get closer. One morning, however, Friend Owl approaches them and introduces them to Mena, a doe that he has selected as Bambi's new mother. Bambi realizes the Great Prince had planned on sending him away and snaps at his father, while the Great Prince concludes that he is not meant to raise Bambi. Bambi sadly accepts the change.\r\n",
      "On the way to Mena's den, Ronno shows up to taunt Bambi one last time. The two get into another fight that sets off one of Man's traps, which ensnares Mena and alerting Man. While Ronno flees, Bambi saves Mena by leading Man's dogs away from her, as his father arrives and works to set her free. The dogs chase Bambi through the forest, and his friends help him fend them off. Using the techniques the Great Prince taught him, Bambi evades all but one of the dogs. Cornered at the top of a rocky peak by the last dog, Bambi kicks it off a cliff, but falls off as well when it crumbles beneath him. His friends and his father all grieve him until Bambi reveals he is still alive, and he and the Great Prince reconcile.\r\n",
      "Sometime later, Thumper shares his version of the chase with the rest of his friends, and Bambi, whose antlers have just grown in, enjoys the tall tale with Faline. Ronno appears and vows vengeance on both of them, until he is bitten on the nose by a snapping turtle and runs off, screaming for his mother for help. Bambi eventually leaves to meet up with the Great Prince, who shows Bambi the field where he and Bambi's mother met in childhood. \n",
      "--------------------------------------------------\n",
      " after his mother is killed by man , bambi stumbles upon his father , the great prince of the forest , who takes him back to his den . the great prince asks friend owl to find a doe to raise bambi , since his duties are to his herd , but owl informs him that , because of the harsh winters , the does can barely feed themselves and their young . the great prince has no choice but to look after bambi until the spring . sometime later , the great prince allows bambi to accompany his friends , thumper and flower , to see the groundhog , whose shadow will foretell if winter will end soon . at the groundhog ceremony , bambi meets up with his crush faline . the groundhog is coaxed out of his hole , only to be scared back in by ronno , an older fawn . ronno tries to impress faline with stories of his encounter with man , and the whistles they use to imitate deer . when bambi believes the story and says it is unbelievable , ronno takes it as a literal insult and is about to fight bambi when he is called away by his mother . while the other animals leave , bambi falls asleep waiting for his father . he wakes up to what appears to be his mother 's voice , which calls him into a meadow , but it turns out to be an ambush by man . the great prince comes to bambi 's rescue and both of them escape , but bambi is yelled at for endangering himself . days later , bambi informs thumper and flower about his wish to impress his father . they decide to help bambi learn how to be brave , but in doing so , they encounter a porcupine who sticks his quills into bambi 's backside . ronno and faline , hearing the commotion , investigate ; bambi gets into a fight with ronno when he sees him bothering faline . ronno chases him and thumper through the forest until bambi leaps to safety over a large ravine . the great prince , having seen the whole thing , is impressed by this feat . the next day , thumper encourages bambi to talk to the great prince , and the two connect . the great prince decides to allow bambi to come along with him on his patrols , and as the days progress , the two get closer . one morning , however , friend owl approaches them and introduces them to mena , a doe that he has selected as bambi 's new mother . bambi realizes the great prince had planned on sending him away and snaps at his father , while the great prince concludes that he is not meant to raise bambi . bambi sadly accepts the change . on the way to mena 's den , ronno shows up to taunt bambi one last time . the two get into another fight that sets off one of man 's traps , which ensnares mena and alerting man . while ronno flees , bambi saves mena by leading man 's dogs away from her , as his father arrives and works to set her free . the dogs chase bambi through the forest , and his friends help him fend them off . using the techniques the great prince taught him , bambi evades all but one of the dogs . cornered at the top of a rocky peak by the last dog , bambi kicks it off a cliff , but falls off as well when it crumbles beneath him . his friends and his father all grieve him until bambi reveals he is still alive , and he and the great prince reconcile . sometime later , thumper shares his version of the chase with the rest of his friends , and bambi , whose antlers have just grown in , enjoys the tall tale with faline . ronno appears and vows vengeance on both of them , until he is bitten on the nose by a snapping turtle and runs off , screaming for his mother for help . bambi eventually leaves to meet up with the great prince , who shows bambi the field where he and bambi 's mother met in childhood .\n",
      "===============================================================\n",
      "@DKJ63 Aw man! Suckage  \n",
      "--------------------------------------------------\n",
      " USER aw man ! suckage\n",
      "===============================================================\n",
      "which one would you consider most sustainable? thank you! \n",
      "--------------------------------------------------\n",
      " which one would you consider most sustainable ? thank you !\n",
      "===============================================================\n",
      "@JoeMiechowicz I hope so. And red is my favourite colour of course  \n",
      "--------------------------------------------------\n",
      " USER i hope so . and red is my favourite colour of course\n",
      "===============================================================\n",
      "This is one of those movies the critics really missed the mark on. This movie is practically McHale's Navy for the 90s or Police Academy at sea. Grammer proves he can play roles other than Frasier as he outwits and outfoxes the Navy in order to get his own sub. Rob Schneider is as wormy as usual, the same in every role he plays, and Lauren Holly is the local sexpot albeit with a brain. Ken Hudson Campbell is as funny as usual with almost every line a catch phrase. The movie has a wonderful intelligent plot and a non-predictable script that still surprises me every time I watch it. Many of the Navy phrases and terms go over my head, though, but it's a small obstacle for the sheer accuracy and realism of the movie and its characters. \n",
      "--------------------------------------------------\n",
      " this is one of those movies the critics really missed the mark on . this movie is practically mchale 's navy for the 90s or police academy at sea . grammer proves he can play roles other than frasier as he outwits and outfoxes the navy in order to get his own sub . rob schneider is as wormy as usual , the same in every role he plays , and lauren holly is the local sexpot albeit with a brain . ken hudson campbell is as funny as usual with almost every line a catch phrase . the movie has a wonderful intelligent plot and a non - predictable script that still surprises me every time i watch it . many of the navy phrases and terms go over my head , though , but it 's a small obstacle for the sheer accuracy and realism of the movie and its characters .\n",
      "===============================================================\n",
      "I honestly can't remember kindergarden. I also was hoping for a detailed response like specific chemicals and stuff. \n",
      "--------------------------------------------------\n",
      " i honestly can't remember kindergarden . i also was hoping for a detailed response like specific chemicals and stuff .\n",
      "===============================================================\n",
      "@deannerevel Yeah, dude! It sucks! I've been driving since yesterday  abooout 6 hours left \n",
      "--------------------------------------------------\n",
      " USER yeah , dude ! it sucks ! i've been driving since yesterday abooout 6 hours left\n",
      "===============================================================\n",
      "@bookwhore LOL, that why he's your ex?  \n",
      "--------------------------------------------------\n",
      " USER lol , that why he 's your ex ?\n",
      "===============================================================\n"
     ]
    }
   ],
   "source": [
    "# cleaning sample\n",
    "\n",
    "idx = np.random.randint(0,len(text),10)\n",
    "\n",
    "\n",
    "for i in idx:\n",
    "    original = text[i]\n",
    "    cleaned = preprocess_text(original)\n",
    "    print(original,'\\n--------------------------------------------------\\n',cleaned)\n",
    "    print('===============================================================')"
   ]
  },
  {
   "cell_type": "code",
   "execution_count": 4,
   "id": "73baeddb",
   "metadata": {},
   "outputs": [],
   "source": [
    "# train tokenizer\n",
    "\n",
    "tokenizer(clean_text,num_tok=20000)\n",
    "tokenizer.train(iterations=3,min_pair_freq=400)"
   ]
  },
  {
   "cell_type": "code",
   "execution_count": 5,
   "id": "5168a753",
   "metadata": {},
   "outputs": [
    {
     "data": {
      "application/vnd.jupyter.widget-view+json": {
       "model_id": "074e7b9ccbc54a599ecf33441cb06ebe",
       "version_major": 2,
       "version_minor": 0
      },
      "text/plain": [
       "  0%|          | 0/259789 [00:00<?, ?it/s]"
      ]
     },
     "metadata": {},
     "output_type": "display_data"
    }
   ],
   "source": [
    "# store oov split combinations\n",
    "\n",
    "for seq in tqdm(clean_text):\n",
    "    for w in seq.split():\n",
    "        tokenizer._split_oov(w)"
   ]
  },
  {
   "cell_type": "code",
   "execution_count": 6,
   "id": "5ed97fd8",
   "metadata": {
    "scrolled": false
   },
   "outputs": [
    {
     "name": "stdout",
     "output_type": "stream",
     "text": [
      "\n",
      " The film was apparently spawned from an idea one of the writers had when he 'saw' one of his creations in a supermarket. The inhabitants of Royston Vasey head into 'our' world to persuade the writers not to stop writing about them and thus destroy their world.<br /><br />If that sounds a bit too serious, don't be put off. Within the first few minutes we get: Bernice (the vile female vicar) letting rip at an unfortunate penitent during confession; Chinnery (the vet who inadvertently destroys every animal he touches) attempting to collect semen from a giraffe; Mickey (thick beyond belief) being, ah, thick; and Tubbs (inbred sister-wife and local shopkeeper) being sweet as ever - but still disgusting.<br /><br />Some of the regular characters are missing, but a new idea by the Gents introduces some 16th-Century characters - and we have the Gents themselves in the action too. If you're new to The League of Gentlemen, this is an easy introduction and a lot of fun. If you're a long-standing fan, this has everything you've come to expect - including the joys of Jeremy Dyson spotting.<br /><br />All told, it's got the same faintly surreal humour that's the hallmark of the series, plus some moments of quite touching 'introspection'. Herr Lipp, for example, maintains a gentle dignity on learning that he's regarded by his creators as a 'one-joke character'. While most of the characters stay as they are, some develop in unexpected ways that are perfectly natural when they happen.<br /><br />This film is a 'swan song' for Royston Vasey, but it's also a showcase for the Gents who prove that (gasp!) they can write other stuff - and it can be very funny. (But you knew that anyway.) \n",
      "------------------------\n",
      " the film was apparently spawned from an idea one of the writers had when he 'saw' one of his creations in a supermarket . the inhabitants of royston vasey head into 'our' world to persuade the writers not to stop writing about them and thus destroy their world . if that sounds a bit too serious , don't be put off . within the first few minutes we get : bernice the vile female vicar letting rip at an unfortunate penitent during confession ; chinnery the vet who inadvertently destroys every animal he touches attempting to collect semen from a giraffe ; mickey thick beyond belief being , ah , thick ; and tubbs inbred sister - wife and local shopkeeper being sweet as ever - but still disgusting . some of the regular characters are missing , but a new idea by the gents introduces some 16th - century characters - and we have the gents themselves in the action too . if you're new to the league of gentlemen , this is an easy introduction and a lot of fun . if you're a long - standing fan , this has everything you've come to expect - including the joys of jeremy dyson spotting . all told , it 's got the same faintly surreal humour that 's the hallmark of the series , plus some moments of quite touching 'introspection' . herr lipp , for example , maintains a gentle dignity on learning that he 's regarded by his creators as a 'one - joke character' . while most of the characters stay as they are , some develop in unexpected ways that are perfectly natural when they happen . this film is a 'swan song' for royston vasey , but it 's also a showcase for the gents who prove that gasp ! they can write other stuff - and it can be very funny . but you knew that anyway . \n",
      "----------------------\n",
      " the film was apparently spawned from an idea one of the writers had when he 's ## aw ## ' one of his creations in a supermarket . the inhabitants of roy ## st ## on vase ## y head into ' ## our ## ' world to persuade the writers not to stop writing about them and thus destroy their world . if that sounds a bit too serious , don't be put off . within the first few minutes we get : bernice the vile female vicar letting rip at an unfortunate pe ## nite ## n ## t during confession ; ch ## inner ## y the vet who inadvertently destroys every animal he touches attempting to collect se ## men from a gi ## raf ## f ## e ; mickey thick beyond belief being , ah , thick ; and tub ## bs in ## bred sister - wife and local shopkeeper being sweet as ever - but still disgusting . some of the regular characters are missing , but a new idea by the gen ## t ## s introduces some 16th - century characters - and we have the gen ## t ## s themselves in the action too . if you're new to the league of gentlemen , this is an easy introduction and a lot of fun . if you're a long - standing fan , this has everything you've come to expect - including the joys of jeremy d ## y ## son spotting . all told , it 's got the same faint ## l ## y surreal humour that 's the hallmark of the series , plus some moments of quite touching <unk> . herr lip ## p , for example , maintains a gentle dignity on learning that he 's regarded by his creators as a ' ## one - joke character ## ' . while most of the characters stay as they are , some develop in unexpected ways that are perfectly natural when they happen . this film is a 's ## wan song ## ' for roy ## st ## on vase ## y , but it 's also a showcase for the gen ## t ## s who prove that gasp ! they can write other stuff - and it can be very funny . but you knew that anyway .\n",
      "===============================================\n",
      "\n",
      " -1 \n",
      "------------------------\n",
      " - 1 \n",
      "----------------------\n",
      " - 1\n",
      "===============================================\n",
      "\n",
      " The two things are are good about this film are it's two unknown celebrities.<br /><br />First, Daphne Zuniga, in her first appearance in a film, young and supple, with looks that still encompass her body today, steals the very beginning, which is all she is in, and that is that. She is obviously just starting out because her acting improved with her next projects.<br /><br />Second, the score by then known composer Christopher(Chris) Young is what keeps this stinker from getting a one star...yeah, I know one star more is not much, but in this movie's case, it is a lot.<br /><br />The rest is just stupid senseless horror of a couple a college students who try to clean out a dorm that is due for being torn down, getting offed one by one by an unsuspecting killer, blah, blah, blah...we all know where this is going.<br /><br />Watch the first eighteen minutes with Daphne Zuniga, then turn it off. \n",
      "------------------------\n",
      " the two things are are good about this film are it 's two unknown celebrities . first , daphne zuniga , in her first appearance in a film , young and supple , with looks that still encompass her body today , steals the very beginning , which is all she is in , and that is that . she is obviously just starting out because her acting improved with her next projects . second , the score by then known composer christopher chris young is what keeps this stinker from getting a one star . yeah , i know one star more is not much , but in this movie 's case , it is a lot . the rest is just stupid senseless horror of a couple a college students who try to clean out a dorm that is due for being torn down , getting offed one by one by an unsuspecting killer , blah , blah , blah . we all know where this is going . watch the first eighteen minutes with daphne zuniga , then turn it off . \n",
      "----------------------\n",
      " the two things are are good about this film are it 's two unknown celebrities . first , daphne z ## uni ## ga , in her first appearance in a film , young and su ## ppl ## e , with looks that still en ## compass her body today , steals the very beginning , which is all she is in , and that is that . she is obviously just starting out because her acting improved with her next projects . second , the score by then known composer christopher chris young is what keeps this stinker from getting a one star . yeah , i know one star more is not much , but in this movie 's case , it is a lot . the rest is just stupid senseless horror of a couple a college students who try to clean out a dorm that is due for being torn down , getting off ## ed one by one by an unsuspecting killer , blah , blah , blah . we all know where this is going . watch the first eighteen minutes with daphne z ## uni ## ga , then turn it off .\n",
      "===============================================\n",
      "\n",
      " Mowing lawn equals itchy eye.  \n",
      "------------------------\n",
      " mowing lawn equals itchy eye . \n",
      "----------------------\n",
      " mow ## ing lawn equals itchy eye .\n",
      "===============================================\n",
      "\n",
      " Yes! I have a ton of cardboard and I¡¯m making a ton of stuff with it. So far I¡¯ve made a foot stool, some under bed storage and some picture frames. I¡¯m planning on making a catch all tray and makeup organizers next. \n",
      "------------------------\n",
      " yes ! i have a ton of cardboard and i'm making a ton of stuff with it . so far i've made a foot stool , some under bed storage and some picture frames . i'm planning on making a catch all tray and makeup organizers next . \n",
      "----------------------\n",
      " yes ! i have a ton of cardboard and i'm making a ton of stuff with it . so far i've made a foot stool , some under bed storage and some picture frames . i'm planning on making a catch all tray and makeup organize ## rs next .\n",
      "===============================================\n",
      "\n",
      " @axetizoc i love you bestie  \n",
      "------------------------\n",
      " USER i love you bestie \n",
      "----------------------\n",
      " USER i love you best ## ie\n",
      "===============================================\n",
      "\n",
      " @orion1958 Yes, SCT is up but listening to guest speaker Paul Dellechiaie, designer of the Ethos eyepiece. He didn't bring free samples  \n",
      "------------------------\n",
      " USER yes , sct is up but listening to guest speaker paul dellechiaie , designer of the ethos eyepiece . he didn't bring free samples \n",
      "----------------------\n",
      " USER yes , s ## c ## t is up but listening to guest speaker paul <unk> , designer of the et ## ho ## s eye ## piece . he didn't bring free samples\n",
      "===============================================\n",
      "\n",
      " Most movies from Hollywood seem to follow one of a few pre-formulated and very predictable plots. This film does not and is a perfect example of what I watch IFC for.<br /><br />There's a guy, Michael, and his girlfriend left him with out a word. He wants to know what happened. Is she OK ? Can he say goodbye ? Perhaps get some closure. He hasn't been able to contact Grace and in an effort to find her he has made a film asking for your help.<br /><br />Michael figures we might need a reason to help him, so he tells us his story by reliving his relationship with the help of a friend ( Nadia ) to play the role of Grace ( the girlfriend who left) <br /><br />Hind sight is 20/20 and it is no different for Michael. By telling his story, and getting feedback from his friends, he realizes his mistakes and just how much he values what he has lost. This is unfortunately a lesson we all have had to learn ( or need to learn ) and is easy to identify with. That is what makes you want to hear more of Michael's story and wanting to know if he finds Grace. \n",
      "------------------------\n",
      " most movies from hollywood seem to follow one of a few pre - formulated and very predictable plots . this film does not and is a perfect example of what i watch ifc for . there 's a guy , michael , and his girlfriend left him with out a word . he wants to know what happened . is she ok ? can he say goodbye ? perhaps get some closure . he hasn't been able to contact grace and in an effort to find her he has made a film asking for your help . michael figures we might need a reason to help him , so he tells us his story by reliving his relationship with the help of a friend nadia to play the role of grace the girlfriend who left hind sight is 20 / 20 and it is no different for michael . by telling his story , and getting feedback from his friends , he realizes his mistakes and just how much he values what he has lost . this is unfortunately a lesson we all have had to learn or need to learn and is easy to identify with . that is what makes you want to hear more of michael 's story and wanting to know if he finds grace . \n",
      "----------------------\n",
      " most movies from hollywood seem to follow one of a few pre - formula ## ted and very predictable plots . this film does not and is a perfect example of what i watch if ## c for . there 's a guy , michael , and his girlfriend left him with out a word . he wants to know what happened . is she ok ? can he say goodbye ? perhaps get some closure . he hasn't been able to contact grace and in an effort to find her he has made a film asking for your help . michael figures we might need a reason to help him , so he tells us his story by re ## living his relationship with the help of a friend nadia to play the role of grace the girlfriend who left hi ## nd sight is 20 / 20 and it is no different for michael . by telling his story , and getting feedback from his friends , he realizes his mistakes and just how much he values what he has lost . this is unfortunately a lesson we all have had to learn or need to learn and is easy to identify with . that is what makes you want to hear more of michael 's story and wanting to know if he finds grace .\n",
      "===============================================\n",
      "\n",
      " Baldev Sahay (Ravi Teja) is shown to be a corrupt yet valiant police officer working as an Assistant Commissioner of police in Kolkata. In an attempt to save a dreaded gangster named Ganguly (Sampath Raj), he loses his life and Ganguly is kidnapped by Baldev's allies Kundan (Ajay) and Rajeev (Subbaraju). The Home Minister Jayavardhan (Mukesh Rishi) is concerned about Ganguly being apprehended. Upon hearing the news of Baldev's death, his mother loses consciousness and is admitted to the hospital. Jayavardhan promises to the people that he will apprehend Ganguly bhai and offers his resignation if he is not successful doing the same. The media and the people comment on how an honest man like Jayvardhand had a really bad brother. (At this point in the direction of the movie, the viewer is made to believe that Baldev Sahay is the brother of Jayavardhan).\r\n",
      "Meanwhile, in Hyderabad, Tirupathi, a look-a-like of Baldev Sahay, is a happy-go-lucky guy whose sole aim in life is to become a police officer. He lives with his brother-in-law Animutyam (Brahmanandam) who is a circle inspector and every now and then, he steps into Animutyam's shoes to live his dream, albeit for a short period of time. To change his fortunes, he approaches Nirupama (Hansika Motwani) who claims to be a trader in gemstones relating to astrology, which can change a person's fortune but in reality she is just a con-woman. She gives him a ring which actually has no powers.\r\n",
      "Tirupathi ends up helping his brother-in-law to apprehend a dangerous criminal. However, Animutyam takes all the credit at the press meet which Tirupathi also attends. Animutyam later reveals that he had rejected Tirupathi's application to the police academy and that he resents him. By chance, Jayavardhan notices Tirupathi on the news. Just when it looks like his dream will never come true, Tirupathi is approached by Jayavardhan to take the place of Baldev and pretends as a person with noble intentions to put Ganguly in Jail. Tirupathi accepts it and visits Kolkata. He is posted to Kalighat and impersonating as Baldev, frees Ganguly from Kundan and Rajeev. He takes Ganguly to Jayavardhan. Jayavardhan stabs Tirupathi, severely injuring him. Jayavardhan reveals to Tirupathi (and the audience) that Ganguly is his actual brother and not Baldev as he had made him believe. He leaves Tirupathi to his fate. Kundan and Rajeev later track him down and treat him. When he recovers, they narrate the story of Baldev to Tirupathi.\r\n",
      "Kundan and Rajeev were appointed as Baldev's assistants by the commissioner of Anti-Corruption Bureau A. K. Mishra (Prakash Raj) to acquire proofs of Baldev's corruption. Baldev is always accompanied by Venkat (Brahmaji), a corrupt police officer along with Kundan and Rajeev everywhere he goes. He meets Ganguly and makes a deal with him for a huge ransom to handover Tiwari (Uttej), the only witness in the murder case of ACP Gautham (Aditya Menon) and his family who were killed by Jayavardhan's brothers Ganguly and Chotu on the former's order. In the meantime, he falls in love with Vaishnavi (Regina Cassandra), a philanthropist who too reciprocates it later. To get the proofs of Baldev's corruption, Kundan and Rajeev conduct a raid on his house where Vaishnavi is also present, who is livid on Baldev for maligning the goodwill of Aasha Foundation managed by her. There Kundan and Rajeev find a flash drive with a list of many police officers whom they suspect of being involved with Baldev in his corruption scam. However, they are surprised that even they are on the same list.\r\n",
      "Baldev's uncle then reveals the truth behind Baldev. Baldev's mother (Vinaya Prasad) wants to see him as a police officer and is admitted in a hospital for an important surgery. Baldev pays 1 million as fees for the surgery but at the selection, he is asked to pay a bribe of 1 million which is most common for all candidates according to the seniors. Baldev returns dejected but lies to his mother that he is selected to make her happy. Next morning, Baldev receives posting orders and he rushes to the hospital to show the same to his mother and uncle. But his mother is announced dead as she wished to forego the surgery to make Baldev a police officer. Baldev then vows to turn a corrupt police officer to pay the money on behalf of the honest candidates who are about to join police force without their knowledge because of which they would not resort to corruption, which was the reason for his mother's death. After this incident, Baldev and Vaishnavi get engaged.\r\n",
      "Meanwhile, Baldev kills Chotu and arrests Ganguly for the murder case of ACP Gautham, with Tiwari serving as the chief witness. When he is about to present Ganguly and Tiwari in the high court, Venkat sells the evidence documents for a huge bribe along with the information regarding Tiwari and Baldev. Acting upon this information, Ganguly's goons kill Baldev's uncle and then proceed to attack Baldev and Tiwari at the court. However, Vaishnavi and Tiwari are killed in the hit while Baldev escapes. Baldev then retaliates and kidnaps Ganguly from Venkat's custody with the help of Kundan and Rajeev. In the process, he meets with a car accident at a hilly area and his car explodes, killing him.Tirupathi, now realising the truth, decides to set things right.\r\n",
      "Jayavardhan, meanwhile, provides falsified evidence against the incumbent Chief Minister by claiming him to be the one who was backing Ganguly Bhai the whole time. After this incident, the Chief Minister is forced to step down and subsequently is arrested. Jayavardhan then gives his nomination for the post. Meanwhile, Ganguly Bhai despite being imprisoned starts operating his crime regime from within.\r\n",
      "Tirupathi rejoins the force and goes to Jayavardhan's house and makes a deal with him so as to keep his post provided that he, Tirupathi, turns a blind eye to all the activities of Ganguly bhai. Tirupathi then becomes close to Jayavardhan's PA (Posani Murali Krishna) who gets agitated after he is insulted by Jayavardhan at a particular incident. Tirupathi introduces him to Nirupama and gets her to give him a ring to change his fortunes. However, it is, in fact, a camera embedded inside the fake gemstone with a microchip to capture audio. With the help of this ring, Tirupathi exposes Jayavardhan's corruption and evil designs to the media.\r\n",
      "Jayavardhan gets cornered and runs away \"underground\" along with his brother. In the process he kidnaps Nirupama, Rajeev, Kundan and Animutyam's Family. Meanwhile, A K Mishra, who has been following up this case with close interest unearths the fact that Baldev and Tirupathi are one and the same. Right before the car explosion, Baldev, is thrown off the car and falls onto a freight carrier, rendering him unconscious. The truck carries him to Hyderabad and he is taken to the hospital. Animutyam is given the case. Animutyam's wife had lost her brother, named Tirupathi, long back in her childhood and has been searching for him ever since. Animutyam, realizing that the person in front of him is suffering from amnesia, decides to pass him off as his wife's brother to keep her happy but mainly to ensure that he wouldn't have to spend huge amounts of money for her search. Mishra reveals this fact to Jayavardhan and Ganguly and warns them that if Tirupathi comes to know of the truth, then they shall be even more sorrier than they are now. Tirupathi crashes into the strong hold of Ganguly Bhai and kills him and arrests Jayavardhan.\r\n",
      "Kundan, Rajeev and everyone else decide not to reveal the truth to Tirupathi/Baldev and thus spare him the anguish over his uncle's and fiancÃ©'s death. Tirupathi later marries Nirupama and lives happily ever after in Kolkata while still posing as Baldev Sahay. \n",
      "------------------------\n",
      " baldev sahay ravi teja is shown to be a corrupt yet valiant police officer working as an assistant commissioner of police in kolkata . in an attempt to save a dreaded gangster named ganguly sampath raj , he loses his life and ganguly is kidnapped by baldev 's allies kundan ajay and rajeev subbaraju . the home minister jayavardhan mukesh rishi is concerned about ganguly being apprehended . upon hearing the news of baldev 's death , his mother loses consciousness and is admitted to the hospital . jayavardhan promises to the people that he will apprehend ganguly bhai and offers his resignation if he is not successful doing the same . the media and the people comment on how an honest man like jayvardhand had a really bad brother . at this point in the direction of the movie , the viewer is made to believe that baldev sahay is the brother of jayavardhan . meanwhile , in hyderabad , tirupathi , a look - a - like of baldev sahay , is a happy - go - lucky guy whose sole aim in life is to become a police officer . he lives with his brother - in - law animutyam brahmanandam who is a circle inspector and every now and then , he steps into animutyam 's shoes to live his dream , albeit for a short period of time . to change his fortunes , he approaches nirupama hansika motwani who claims to be a trader in gemstones relating to astrology , which can change a person 's fortune but in reality she is just a con - woman . she gives him a ring which actually has no powers . tirupathi ends up helping his brother - in - law to apprehend a dangerous criminal . however , animutyam takes all the credit at the press meet which tirupathi also attends . animutyam later reveals that he had rejected tirupathi 's application to the police academy and that he resents him . by chance , jayavardhan notices tirupathi on the news . just when it looks like his dream will never come true , tirupathi is approached by jayavardhan to take the place of baldev and pretends as a person with noble intentions to put ganguly in jail . tirupathi accepts it and visits kolkata . he is posted to kalighat and impersonating as baldev , frees ganguly from kundan and rajeev . he takes ganguly to jayavardhan . jayavardhan stabs tirupathi , severely injuring him . jayavardhan reveals to tirupathi and the audience that ganguly is his actual brother and not baldev as he had made him believe . he leaves tirupathi to his fate . kundan and rajeev later track him down and treat him . when he recovers , they narrate the story of baldev to tirupathi . kundan and rajeev were appointed as baldev 's assistants by the commissioner of anti - corruption bureau a . k . mishra prakash raj to acquire proofs of baldev 's corruption . baldev is always accompanied by venkat brahmaji , a corrupt police officer along with kundan and rajeev everywhere he goes . he meets ganguly and makes a deal with him for a huge ransom to handover tiwari uttej , the only witness in the murder case of acp gautham aditya menon and his family who were killed by jayavardhan 's brothers ganguly and chotu on the former 's order . in the meantime , he falls in love with vaishnavi regina cassandra , a philanthropist who too reciprocates it later . to get the proofs of baldev 's corruption , kundan and rajeev conduct a raid on his house where vaishnavi is also present , who is livid on baldev for maligning the goodwill of aasha foundation managed by her . there kundan and rajeev find a flash drive with a list of many police officers whom they suspect of being involved with baldev in his corruption scam . however , they are surprised that even they are on the same list . baldev 's uncle then reveals the truth behind baldev . baldev 's mother vinaya prasad wants to see him as a police officer and is admitted in a hospital for an important surgery . baldev pays 1 million as fees for the surgery but at the selection , he is asked to pay a bribe of 1 million which is most common for all candidates according to the seniors . baldev returns dejected but lies to his mother that he is selected to make her happy . next morning , baldev receives posting orders and he rushes to the hospital to show the same to his mother and uncle . but his mother is announced dead as she wished to forego the surgery to make baldev a police officer . baldev then vows to turn a corrupt police officer to pay the money on behalf of the honest candidates who are about to join police force without their knowledge because of which they would not resort to corruption , which was the reason for his mother 's death . after this incident , baldev and vaishnavi get engaged . meanwhile , baldev kills chotu and arrests ganguly for the murder case of acp gautham , with tiwari serving as the chief witness . when he is about to present ganguly and tiwari in the high court , venkat sells the evidence documents for a huge bribe along with the information regarding tiwari and baldev . acting upon this information , ganguly 's goons kill baldev 's uncle and then proceed to attack baldev and tiwari at the court . however , vaishnavi and tiwari are killed in the hit while baldev escapes . baldev then retaliates and kidnaps ganguly from venkat 's custody with the help of kundan and rajeev . in the process , he meets with a car accident at a hilly area and his car explodes , killing him . tirupathi , now realising the truth , decides to set things right . jayavardhan , meanwhile , provides falsified evidence against the incumbent chief minister by claiming him to be the one who was backing ganguly bhai the whole time . after this incident , the chief minister is forced to step down and subsequently is arrested . jayavardhan then gives his nomination for the post . meanwhile , ganguly bhai despite being imprisoned starts operating his crime regime from within . tirupathi rejoins the force and goes to jayavardhan 's house and makes a deal with him so as to keep his post provided that he , tirupathi , turns a blind eye to all the activities of ganguly bhai . tirupathi then becomes close to jayavardhan 's pa posani murali krishna who gets agitated after he is insulted by jayavardhan at a particular incident . tirupathi introduces him to nirupama and gets her to give him a ring to change his fortunes . however , it is , in fact , a camera embedded inside the fake gemstone with a microchip to capture audio . with the help of this ring , tirupathi exposes jayavardhan 's corruption and evil designs to the media . jayavardhan gets cornered and runs away \" underground \" along with his brother . in the process he kidnaps nirupama , rajeev , kundan and animutyam 's family . meanwhile , a k mishra , who has been following up this case with close interest unearths the fact that baldev and tirupathi are one and the same . right before the car explosion , baldev , is thrown off the car and falls onto a freight carrier , rendering him unconscious . the truck carries him to hyderabad and he is taken to the hospital . animutyam is given the case . animutyam 's wife had lost her brother , named tirupathi , long back in her childhood and has been searching for him ever since . animutyam , realizing that the person in front of him is suffering from amnesia , decides to pass him off as his wife 's brother to keep her happy but mainly to ensure that he wouldn't have to spend huge amounts of money for her search . mishra reveals this fact to jayavardhan and ganguly and warns them that if tirupathi comes to know of the truth , then they shall be even more sorrier than they are now . tirupathi crashes into the strong hold of ganguly bhai and kills him and arrests jayavardhan . kundan , rajeev and everyone else decide not to reveal the truth to tirupathi / baldev and thus spare him the anguish over his uncle 's and fianc' 's death . tirupathi later marries nirupama and lives happily ever after in kolkata while still posing as baldev sahay . \n",
      "----------------------\n",
      " baldev sa ## hay ravi teja is shown to be a corrupt yet valiant police officer working as an assistant commissioner of police in kolkata . in an attempt to save a dreaded gangster named ganguly sampath raj , he loses his life and ganguly is kidnapped by baldev 's allies kundan ajay and rajeev sub ## bar ## a ## ju . the home minister jaya ## va ## rd ## han mukesh rishi is concerned about ganguly being apprehended . upon hearing the news of baldev 's death , his mother loses consciousness and is admitted to the hospital . jaya ## va ## rd ## han promises to the people that he will apprehend ganguly bhai and offers his resignation if he is not successful doing the same . the media and the people comment on how an honest man like jay ## va ## rd ## hand had a really bad brother . at this point in the direction of the movie , the viewer is made to believe that baldev sa ## hay is the brother of jaya ## va ## rd ## han . meanwhile , in hyderabad , ti ## rupa ## th ## i , a look - a - like of baldev sa ## hay , is a happy - go - lucky guy whose sole aim in life is to become a police officer . he lives with his brother - in - law an ## im ## u ## ty ## am brahmanandam who is a circle inspector and every now and then , he steps into an ## im ## u ## ty ## am 's shoes to live his dream , albeit for a short period of time . to change his fortunes , he approaches ni ## rupa ## ma hansi ## ka mo ## t ## wan ## i who claims to be a trader in gems ## tones relating to <unk> , which can change a person 's fortune but in reality she is just a con - woman . she gives him a ring which actually has no powers . ti ## rupa ## th ## i ends up helping his brother - in - law to apprehend a dangerous criminal . however , an ## im ## u ## ty ## am takes all the credit at the press meet which ti ## rupa ## th ## i also attends . an ## im ## u ## ty ## am later reveals that he had rejected ti ## rupa ## th ## i 's application to the police academy and that he resents him . by chance , jaya ## va ## rd ## han notices ti ## rupa ## th ## i on the news . just when it looks like his dream will never come true , ti ## rupa ## th ## i is approached by jaya ## va ## rd ## han to take the place of baldev and pretends as a person with noble intentions to put ganguly in jail . ti ## rupa ## th ## i accepts it and visits kolkata . he is posted to kali ## gh ## at and impersonating as baldev , frees ganguly from kundan and rajeev . he takes ganguly to jaya ## va ## rd ## han . jaya ## va ## rd ## han stabs ti ## rupa ## th ## i , severely injuring him . jaya ## va ## rd ## han reveals to ti ## rupa ## th ## i and the audience that ganguly is his actual brother and not baldev as he had made him believe . he leaves ti ## rupa ## th ## i to his fate . kundan and rajeev later track him down and treat him . when he recovers , they narrate the story of baldev to ti ## rupa ## th ## i . kundan and rajeev were appointed as baldev 's assistants by the commissioner of anti - corruption bureau a . k . mishra prakash raj to acquire proof ## s of baldev 's corruption . baldev is always accompanied by venkat bra ## hm ## aj ## i , a corrupt police officer along with kundan and rajeev everywhere he goes . he meets ganguly and makes a deal with him for a huge ransom to hand ## over ti ## wari <unk> , the only witness in the murder case of ac ## p gautham aditya menon and his family who were killed by jaya ## va ## rd ## han 's brothers ganguly and cho ## tu on the former 's order . in the meantime , he falls in love with va ## ish ## na ## vi regina cassandra , a philanthropist who too reciprocates it later . to get the proof ## s of baldev 's corruption , kundan and rajeev conduct a raid on his house where va ## ish ## na ## vi is also present , who is liv ## id on baldev for ma ## li ## gn ## ing the goodwill of a ## asha foundation managed by her . there kundan and rajeev find a flash drive with a list of many police officers whom they suspect of being involved with baldev in his corruption scam . however , they are surprised that even they are on the same list . baldev 's uncle then reveals the truth behind baldev . baldev 's mother vinay ## a prasad wants to see him as a police officer and is admitted in a hospital for an important surgery . baldev pays 1 million as fees for the surgery but at the selection , he is asked to pay a bribe of 1 million which is most common for all candidates according to the seniors . baldev returns dejected but lies to his mother that he is selected to make her happy . next morning , baldev receives posting orders and he rushes to the hospital to show the same to his mother and uncle . but his mother is announced dead as she wished to for ## ego the surgery to make baldev a police officer . baldev then vows to turn a corrupt police officer to pay the money on behalf of the honest candidates who are about to join police force without their knowledge because of which they would not resort to corruption , which was the reason for his mother 's death . after this incident , baldev and va ## ish ## na ## vi get engaged . meanwhile , baldev kills cho ## tu and arrests ganguly for the murder case of ac ## p gautham , with ti ## wari serving as the chief witness . when he is about to present ganguly and ti ## wari in the high court , venkat sells the evidence documents for a huge bribe along with the information regarding ti ## wari and baldev . acting upon this information , ganguly 's goons kill baldev 's uncle and then proceed to attack baldev and ti ## wari at the court . however , va ## ish ## na ## vi and ti ## wari are killed in the hit while baldev escapes . baldev then retaliates and kidnaps ganguly from venkat 's custody with the help of kundan and rajeev . in the process , he meets with a car accident at a hilly area and his car explodes , killing him . ti ## rupa ## th ## i , now realising the truth , decides to set things right . jaya ## va ## rd ## han , meanwhile , provides fa ## l ## si ## fi ## ed evidence against the inc ## um ## bent chief minister by claiming him to be the one who was backing ganguly bhai the whole time . after this incident , the chief minister is forced to step down and subsequently is arrested . jaya ## va ## rd ## han then gives his nomination for the post . meanwhile , ganguly bhai despite being imprisoned starts operating his crime regime from within . ti ## rupa ## th ## i rejoins the force and goes to jaya ## va ## rd ## han 's house and makes a deal with him so as to keep his post provided that he , ti ## rupa ## th ## i , turns a blind eye to all the activities of ganguly bhai . ti ## rupa ## th ## i then becomes close to jaya ## va ## rd ## han 's pa po ## san ## i murali krishna who gets agitated after he is insulted by jaya ## va ## rd ## han at a particular incident . ti ## rupa ## th ## i introduces him to ni ## rupa ## ma and gets her to give him a ring to change his fortunes . however , it is , in fact , a camera embedded inside the fake gems ## tone with a micro ## chip to capture audio . with the help of this ring , ti ## rupa ## th ## i exposes jaya ## va ## rd ## han 's corruption and evil designs to the media . jaya ## va ## rd ## han gets cornered and runs away \" underground \" along with his brother . in the process he kidnaps ni ## rupa ## ma , rajeev , kundan and an ## im ## u ## ty ## am 's family . meanwhile , a k mishra , who has been following up this case with close interest un ## earth ## s the fact that baldev and ti ## rupa ## th ## i are one and the same . right before the car explosion , baldev , is thrown off the car and falls onto a freight carrier , rendering him unconscious . the truck carries him to hyderabad and he is taken to the hospital . an ## im ## u ## ty ## am is given the case . an ## im ## u ## ty ## am 's wife had lost her brother , named ti ## rupa ## th ## i , long back in her childhood and has been searching for him ever since . an ## im ## u ## ty ## am , realizing that the person in front of him is suffering from amnesia , decides to pass him off as his wife 's brother to keep her happy but mainly to ensure that he wouldn't have to spend huge amounts of money for her search . mishra reveals this fact to jaya ## va ## rd ## han and ganguly and warns them that if ti ## rupa ## th ## i comes to know of the truth , then they shall be even more <unk> than they are now . ti ## rupa ## th ## i crashes into the strong hold of ganguly bhai and kills him and arrests jaya ## va ## rd ## han . kundan , rajeev and everyone else decide not to reveal the truth to ti ## rupa ## th ## i / baldev and thus spare him the anguish over his uncle 's and fianc' 's death . ti ## rupa ## th ## i later marries ni ## rupa ## ma and lives happily ever after in kolkata while still posing as baldev sa ## hay .\n",
      "===============================================\n",
      "\n",
      " Police Detective Shindo (Yosuke Natsuki) is assigned to guard Princess Selina Salno of Selgina (Akiko Wakabayashi) during the Princess' visit to Japan, due to a suspected assassination plot. Although Shindo is smitten with Selina's photograph, her plane never makes it to Japan, as it is destroyed by a bomb en route. At exactly the same time a meteorite shower draws the attention of Professor Murai (Hiroshi Koizumi), who along with his team of scientists strikes out into the wilderness to examine the largest of the meteors, which has magnetic properties.\r\n",
      "To Shindo's surprise, the supposedly deceased Selina turns up in Japan, without her royal garb (including the golden bracelet that proves she is heir to the throne of Selgina), claiming to be from the planet Venus, and preaching to skeptical crowds of forthcoming disaster. To their surprise however, her prophecies begin coming true. First she predicts Rodan, thought dead in the eruption of Mt. Aso, will emerge from Aso's crater. Subsequently, none other than Godzilla will arise from the sea and destroy a ship. Both of these events transpire.\r\n",
      "In the meantime, Selina's uncle (Shin Otomo), who was behind the assassination attempt, learns of her survival and sends his best assassin Malmess (Hisaya Ito) to Japan to dispatch the Princess and steal the golden bracelet. Malmess and his henchmen are stopped by Shindo, who was warned of their attempt by the Shobijin (Emi and Yumi Ito), who were in Japan appearing on a television show. The Shobijin had been scheduled to return to Infant Island aboard the ship sunk by Godzilla, but opted not to go after overhearing Selina's prophecy. A further attempt by the assassins is thwarted when both Godzilla and Rodan attack the city and engage in battle, forcing everyone to flee.\r\n",
      "Convinced that Selina is insane, Shindo takes the Princess to see a renowned psychiatrist, Dr. Tsukamoto (Takashi Shimura), in the hopes of curing her. However, Tsukamoto can find nothing wrong with her, mentally or physically. He concludes she must therefore truly be possessed by a Venusian as she claims. As if emboldened by the doctor's diagnosis, Selina reveals her final prophecyâthat Venus's once thriving civilization was destroyed by an evil, golden three-headed dragon named King Ghidorah, and furthermore that Ghidorah itself has already arrived on Earth. No sooner has she revealed this than Professor Murai and his colleagues at the meteor crash site receive a nasty surpriseâthe \"meteor\" is actually an egg, which hatches into the fearsome King Ghidorah. Ghidorah begins razing the countryside.\r\n",
      "To combat the combined threats of the three monsters, the Japanese government enlists the aid of the Shobijin to summon Mothra (the surviving larva from the previous film). Upon arriving on the Japanese mainland, Mothra attempts to persuade the quarreling Godzilla and Rodan to team up against the evil alien (which is translated to the humans by the Shobijin) but both refuse, with Godzilla stating they have no reason to save mankind as both he and Rodan \"have always had trouble with men and men hate them\", to which Rodan agrees. Despite Mothra stating that Earth belongs to them as well and that it is their duty to defend it, Godzilla and Rodan still refuse and the pair refuse to forgive each other, wanting to continue their fight. Unable to convince them and despite being vastly outmatched, Mothra resolves to fight Ghidorah by herself. Mothra engages Ghidorah and is continually blasted by its gravity beams. Fortunately for Mothra, Godzilla and Rodan, impressed by her courage and selflessness, arrive to help, and a titanic battle against Ghidorah begins. Meanwhile, Shindo and Dr. Tsukamoto are forced to protect Princess Selina as Malmess and his men converge on Tsukamoto's clinic; they manage to fend off the killers and escape into the mountains as the dueling monsters draw closer.\r\n",
      "The assassins attempt to follow, but a stray blast from Ghidorah buries their car in an avalanche. Only Malmess remains uninjured enough to continue. He attempts to snipe the Princess from an elevated position, but only injures her. In her pain, she regains her memory and is no longer possessed by the Venusian. Before Malmess can take another shot, another stray blast from Ghidorah buries the assassin under a second avalanche. With the heroes thus saved from the human menace, they gather at a safe distance to watch the battle between Earth's monsters and Ghidorah. After now gaining a clear advantage over Ghidorah, the three monsters coordinate their attack; Godzilla grabs hold of Ghidorah's tails while Mothra (riding on Rodan's back) sprays the three-headed dragon with her silk. Finally, Godzilla throws the alien beast off the cliff and the battered dragon flies off, back into outer space.\r\n",
      "As Mothra and the Shobijin return to Infant Island while Godzilla and Rodan go their separate ways, Selina, having retained the memories of her time with Shindo, bids farewell to her guardian as she meets her bodyguards at the airport to return home. \n",
      "------------------------\n",
      " police detective shindo yosuke natsuki is assigned to guard princess selina salno of selgina akiko wakabayashi during the princess' visit to japan , due to a suspected assassination plot . although shindo is smitten with selina 's photograph , her plane never makes it to japan , as it is destroyed by a bomb en route . at exactly the same time a meteorite shower draws the attention of professor murai hiroshi koizumi , who along with his team of scientists strikes out into the wilderness to examine the largest of the meteors , which has magnetic properties . to shindo 's surprise , the supposedly deceased selina turns up in japan , without her royal garb including the golden bracelet that proves she is heir to the throne of selgina , claiming to be from the planet venus , and preaching to skeptical crowds of forthcoming disaster . to their surprise however , her prophecies begin coming true . first she predicts rodan , thought dead in the eruption of mt . aso , will emerge from aso 's crater . subsequently , none other than godzilla will arise from the sea and destroy a ship . both of these events transpire . in the meantime , selina 's uncle shin otomo , who was behind the assassination attempt , learns of her survival and sends his best assassin malmess hisaya ito to japan to dispatch the princess and steal the golden bracelet . malmess and his henchmen are stopped by shindo , who was warned of their attempt by the shobijin emi and yumi ito , who were in japan appearing on a television show . the shobijin had been scheduled to return to infant island aboard the ship sunk by godzilla , but opted not to go after overhearing selina 's prophecy . a further attempt by the assassins is thwarted when both godzilla and rodan attack the city and engage in battle , forcing everyone to flee . convinced that selina is insane , shindo takes the princess to see a renowned psychiatrist , dr . tsukamoto takashi shimura , in the hopes of curing her . however , tsukamoto can find nothing wrong with her , mentally or physically . he concludes she must therefore truly be possessed by a venusian as she claims . as if emboldened by the doctor 's diagnosis , selina reveals her final prophecy'that venus 's once thriving civilization was destroyed by an evil , golden three - headed dragon named king ghidorah , and furthermore that ghidorah itself has already arrived on earth . no sooner has she revealed this than professor murai and his colleagues at the meteor crash site receive a nasty surprise'the \" meteor \" is actually an egg , which hatches into the fearsome king ghidorah . ghidorah begins razing the countryside . to combat the combined threats of the three monsters , the japanese government enlists the aid of the shobijin to summon mothra the surviving larva from the previous film . upon arriving on the japanese mainland , mothra attempts to persuade the quarreling godzilla and rodan to team up against the evil alien which is translated to the humans by the shobijin but both refuse , with godzilla stating they have no reason to save mankind as both he and rodan \" have always had trouble with men and men hate them \" , to which rodan agrees . despite mothra stating that earth belongs to them as well and that it is their duty to defend it , godzilla and rodan still refuse and the pair refuse to forgive each other , wanting to continue their fight . unable to convince them and despite being vastly outmatched , mothra resolves to fight ghidorah by herself . mothra engages ghidorah and is continually blasted by its gravity beams . fortunately for mothra , godzilla and rodan , impressed by her courage and selflessness , arrive to help , and a titanic battle against ghidorah begins . meanwhile , shindo and dr . tsukamoto are forced to protect princess selina as malmess and his men converge on tsukamoto 's clinic ; they manage to fend off the killers and escape into the mountains as the dueling monsters draw closer . the assassins attempt to follow , but a stray blast from ghidorah buries their car in an avalanche . only malmess remains uninjured enough to continue . he attempts to snipe the princess from an elevated position , but only injures her . in her pain , she regains her memory and is no longer possessed by the venusian . before malmess can take another shot , another stray blast from ghidorah buries the assassin under a second avalanche . with the heroes thus saved from the human menace , they gather at a safe distance to watch the battle between earth 's monsters and ghidorah . after now gaining a clear advantage over ghidorah , the three monsters coordinate their attack ; godzilla grabs hold of ghidorah 's tails while mothra riding on rodan 's back sprays the three - headed dragon with her silk . finally , godzilla throws the alien beast off the cliff and the battered dragon flies off , back into outer space . as mothra and the shobijin return to infant island while godzilla and rodan go their separate ways , selina , having retained the memories of her time with shindo , bids farewell to her guardian as she meets her bodyguards at the airport to return home . \n",
      "----------------------\n",
      " police detective shin ## do yo ## su ## ke natsuki is assigned to guard princess selina sal ## no of se ## l ## gina akiko wa ## ka ## bay ## ash ## i during the princess ## ' visit to japan , due to a suspected assassination plot . although shin ## do is smitten with selina 's photograph , her plane never makes it to japan , as it is destroyed by a bomb en route . at exactly the same time a meteorite shower draws the attention of professor mu ## rai hiroshi <unk> , who along with his team of scientists strikes out into the wilderness to examine the largest of the meteor ## s , which has magnetic properties . to shin ## do 's surprise , the supposedly deceased selina turns up in japan , without her royal garb including the golden bracelet that proves she is heir to the throne of se ## l ## gina , claiming to be from the planet venus , and preaching to skeptical crowds of forthcoming disaster . to their surprise however , her prop ## he ## c ## ie ## s begin coming true . first she predicts rod ## an , thought dead in the eruption of mt . as ## o , will emerge from as ## o 's crater . subsequently , none other than godzilla will arise from the sea and destroy a ship . both of these events trans ## pi ## re . in the meantime , selina 's uncle shin o ## tom ## o , who was behind the assassination attempt , learns of her survival and sends his best assassin mal ## mess his ## aya ito to japan to dispatch the princess and steal the golden bracelet . mal ## mess and his henchmen are stopped by shin ## do , who was warned of their attempt by the sho ## bi ## jin em ## i and yum ## i ito , who were in japan appearing on a television show . the sho ## bi ## jin had been scheduled to return to infant island aboard the ship sunk by godzilla , but opted not to go after overhearing selina 's prophecy . a further attempt by the assassins is thwarted when both godzilla and rod ## an attack the city and engage in battle , forcing everyone to flee . convinced that selina is insane , shin ## do takes the princess to see a renowned psychiatrist , dr . <unk> takashi shi ## mu ## ra , in the hopes of c ## ur ## ing her . however , <unk> can find nothing wrong with her , mentally or physically . he concludes she must therefore truly be possessed by a venus ## ian as she claims . as if <unk> by the doctor 's diagnosis , selina reveals her final prophecy ## ' ## that venus 's once thriving civilization was destroyed by an evil , golden three - headed dragon named king ghidorah , and furthermore that ghidorah itself has already arrived on earth . no sooner has she revealed this than professor mu ## rai and his colleagues at the meteor crash site receive a nasty surprise ## 'the \" meteor \" is actually an egg , which hatches into the fear ## some king ghidorah . ghidorah begins ra ## z ## ing the countryside . to combat the combined threats of the three monsters , the japanese government enlists the aid of the sho ## bi ## jin to summon mothra the surviving la ## rv ## a from the previous film . upon arriving on the japanese mainland , mothra attempts to persuade the quarrel ## ing godzilla and rod ## an to team up against the evil alien which is translated to the humans by the sho ## bi ## jin but both refuse , with godzilla stating they have no reason to save mankind as both he and rod ## an \" have always had trouble with men and men hate them \" , to which rod ## an agrees . despite mothra stating that earth belongs to them as well and that it is their duty to defend it , godzilla and rod ## an still refuse and the pair refuse to forgive each other , wanting to continue their fight . unable to convince them and despite being vastly out ## matched , mothra resolves to fight ghidorah by herself . mothra engages ghidorah and is continually blasted by its gravity beams . fortunately for mothra , godzilla and rod ## an , impressed by her courage and selfless ## ness , arrive to help , and a titanic battle against ghidorah begins . meanwhile , shin ## do and dr . <unk> are forced to protect princess selina as mal ## mess and his men converge on <unk> 's clinic ; they manage to fend off the killers and escape into the mountains as the duel ## ing monsters draw closer . the assassins attempt to follow , but a stray blast from ghidorah buries their car in an avalanche . only mal ## mess remains un ## injured enough to continue . he attempts to s ## ni ## pe the princess from an elevated position , but only injures her . in her pain , she regains her memory and is no longer possessed by the venus ## ian . before mal ## mess can take another shot , another stray blast from ghidorah buries the assassin under a second avalanche . with the heroes thus saved from the human menace , they gather at a safe distance to watch the battle between earth 's monsters and ghidorah . after now gaining a clear advantage over ghidorah , the three monsters co ## or ## dina ## te their attack ; godzilla grabs hold of ghidorah 's tails while mothra riding on rod ## an 's back sprays the three - headed dragon with her silk . finally , godzilla throws the alien beast off the cliff and the battered dragon flies off , back into outer space . as mothra and the sho ## bi ## jin return to infant island while godzilla and rod ## an go their separate ways , selina , having retained the memories of her time with shin ## do , bids farewell to her guardian as she meets her bodyguards at the airport to return home .\n",
      "===============================================\n"
     ]
    }
   ],
   "source": [
    "# sampled subword-splits\n",
    "\n",
    "idx = np.random.randint(0,len(text),10)\n",
    "\n",
    "for i in idx:\n",
    "    original = text[i]\n",
    "    cleaned = preprocess_text(original)\n",
    "    subworded = ' '.join([tokenizer._split_oov(w) for w in cleaned.split()])\n",
    "\n",
    "    print('\\n',original,'\\n------------------------\\n',cleaned,'\\n----------------------\\n',subworded)\n",
    "    print('===============================================')"
   ]
  },
  {
   "cell_type": "code",
   "execution_count": 7,
   "id": "674250e5",
   "metadata": {},
   "outputs": [
    {
     "name": "stdout",
     "output_type": "stream",
     "text": [
      "vocab size : 20365\n",
      "num of oov splits : 200247\n"
     ]
    }
   ],
   "source": [
    "print('vocab size :',len(tokenizer.i2w))\n",
    "print('num of oov splits :',len(tokenizer.oov_splits))"
   ]
  },
  {
   "cell_type": "code",
   "execution_count": 8,
   "id": "bbfe5694",
   "metadata": {},
   "outputs": [],
   "source": [
    "import pickle\n",
    "\n",
    "# save tokenizer class\n",
    "\n",
    "with open('tokenizer.pkl','wb') as f:\n",
    "    pickle.dump(tokenizer,f)"
   ]
  },
  {
   "cell_type": "code",
   "execution_count": null,
   "id": "b9c6937f",
   "metadata": {},
   "outputs": [],
   "source": []
  }
 ],
 "metadata": {
  "kernelspec": {
   "display_name": "Python 3 (ipykernel)",
   "language": "python",
   "name": "python3"
  },
  "language_info": {
   "codemirror_mode": {
    "name": "ipython",
    "version": 3
   },
   "file_extension": ".py",
   "mimetype": "text/x-python",
   "name": "python",
   "nbconvert_exporter": "python",
   "pygments_lexer": "ipython3",
   "version": "3.10.12"
  }
 },
 "nbformat": 4,
 "nbformat_minor": 5
}
