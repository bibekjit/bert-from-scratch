{
 "cells": [
  {
   "cell_type": "code",
   "execution_count": 1,
   "id": "7ab278bd",
   "metadata": {},
   "outputs": [
    {
     "name": "stderr",
     "output_type": "stream",
     "text": [
      "2024-04-04 13:35:22.996344: E external/local_xla/xla/stream_executor/cuda/cuda_dnn.cc:9261] Unable to register cuDNN factory: Attempting to register factory for plugin cuDNN when one has already been registered\n",
      "2024-04-04 13:35:22.996374: E external/local_xla/xla/stream_executor/cuda/cuda_fft.cc:607] Unable to register cuFFT factory: Attempting to register factory for plugin cuFFT when one has already been registered\n",
      "2024-04-04 13:35:22.997195: E external/local_xla/xla/stream_executor/cuda/cuda_blas.cc:1515] Unable to register cuBLAS factory: Attempting to register factory for plugin cuBLAS when one has already been registered\n",
      "2024-04-04 13:35:23.002288: I tensorflow/core/platform/cpu_feature_guard.cc:182] This TensorFlow binary is optimized to use available CPU instructions in performance-critical operations.\n",
      "To enable the following instructions: AVX2 FMA, in other operations, rebuild TensorFlow with the appropriate compiler flags.\n",
      "2024-04-04 13:35:23.715444: W tensorflow/compiler/tf2tensorrt/utils/py_utils.cc:38] TF-TRT Warning: Could not find TensorRT\n"
     ]
    },
    {
     "name": "stdout",
     "output_type": "stream",
     "text": [
      "[PhysicalDevice(name='/physical_device:GPU:0', device_type='GPU')]\n"
     ]
    },
    {
     "name": "stderr",
     "output_type": "stream",
     "text": [
      "2024-04-04 13:35:26.366564: I external/local_xla/xla/stream_executor/cuda/cuda_executor.cc:901] successful NUMA node read from SysFS had negative value (-1), but there must be at least one NUMA node, so returning NUMA node zero. See more at https://github.com/torvalds/linux/blob/v6.0/Documentation/ABI/testing/sysfs-bus-pci#L344-L355\n",
      "2024-04-04 13:35:26.394036: I external/local_xla/xla/stream_executor/cuda/cuda_executor.cc:901] successful NUMA node read from SysFS had negative value (-1), but there must be at least one NUMA node, so returning NUMA node zero. See more at https://github.com/torvalds/linux/blob/v6.0/Documentation/ABI/testing/sysfs-bus-pci#L344-L355\n",
      "2024-04-04 13:35:26.394232: I external/local_xla/xla/stream_executor/cuda/cuda_executor.cc:901] successful NUMA node read from SysFS had negative value (-1), but there must be at least one NUMA node, so returning NUMA node zero. See more at https://github.com/torvalds/linux/blob/v6.0/Documentation/ABI/testing/sysfs-bus-pci#L344-L355\n"
     ]
    }
   ],
   "source": [
    "import pandas as pd\n",
    "import numpy as np\n",
    "import matplotlib.pyplot as plt\n",
    "import tensorflow as tf\n",
    "from tensorflow.keras.layers import Dense, Input, GlobalAveragePooling1D\n",
    "from nltk.tokenize import TreebankWordTokenizer, sent_tokenize\n",
    "import re\n",
    "from tqdm.auto import tqdm\n",
    "import seaborn as sb\n",
    "import pickle,os,random\n",
    "from string import punctuation\n",
    "from bpe_tokenizer import BPETokenizer\n",
    "from sklearn.model_selection import train_test_split\n",
    "from bert import BERT\n",
    "\n",
    "\n",
    "print(tf.config.list_physical_devices('GPU')) # GPU detection check\n",
    "\n",
    "# function for fixed initialization\n",
    "def reset_random_seeds():\n",
    "    os.environ['PYTHONHASHSEED']=str(2)\n",
    "    tf.random.set_seed(2)\n",
    "    np.random.seed(2)\n",
    "    random.seed(2)\n",
    "\n",
    "# load pretrained BPETokenizer\n",
    "if __name__ == \"__main__\":\n",
    "\n",
    "    with open('tokenizer.pkl','rb') as f:\n",
    "        bpe_tok = pickle.load(f)"
   ]
  },
  {
   "cell_type": "code",
   "execution_count": 2,
   "id": "ce5ec0e4",
   "metadata": {},
   "outputs": [],
   "source": [
    "def preprocess_text(x):\n",
    "    \"\"\"\n",
    "    cleaning tweets -> \n",
    "    @user -> USER\n",
    "    urls -> LINK\n",
    "    keep only !,.:#? and add space \n",
    "    \"\"\"\n",
    "    x = str(x).replace('&amp;','and').replace('<br />','').replace('&quot;','')\n",
    "    x = x.lower()\n",
    "    x = re.sub(r'[^\\x00-\\x7F]+', \"'\",x)\n",
    "    url_pattern = r'http\\S+|www\\S+'\n",
    "    x = re.sub(url_pattern, 'LINK', x).split()\n",
    "    for i,w in enumerate(x):\n",
    "        if '@' in w:\n",
    "            x[i] = 'USER'\n",
    "    x = ' '.join(x)\n",
    "    punct_to_keep = \"\"\"!,.:#?\"-;//%$'\"\"\"\n",
    "    punct = ''.join([p for p in punctuation if p not in punct_to_keep])\n",
    "    trans = str.maketrans(punct, ' ' * len(punct))\n",
    "    x = x.translate(trans)\n",
    "    x = ''.join(x)\n",
    "    x = re.sub(r'([!\"#$%&\\()*+,-./:;<=>?@\\\\^_`{|}~])\\s*\\1+', r'\\1', x)\n",
    "    x = re.sub(r'([!\"#$%&\\()*+,-./:;<=>?@\\\\^_`{|}~])', r' \\1 ', x)\n",
    "    x = re.sub(r'\\s+', ' ', x).strip().replace(\"'s \",\" 's \")\n",
    "    return x\n"
   ]
  },
  {
   "cell_type": "code",
   "execution_count": 3,
   "id": "b1827246",
   "metadata": {},
   "outputs": [],
   "source": [
    "# function to split text in subwords and truncate\n",
    "\n",
    "def split_truncate(sent,maxlen=300):\n",
    "    text = sent.split()\n",
    "    text = [bpe_tok._split_oov(w) for w in text]\n",
    "    text = ' '.join(text)\n",
    "    \n",
    "    if maxlen is not None:\n",
    "        maxlen -= 2\n",
    "        text = text.split()[:maxlen]\n",
    "        text = ' '.join(text)\n",
    "    \n",
    "    text = '<cls> ' + text + ' <sep>'\n",
    "    return text\n"
   ]
  },
  {
   "cell_type": "code",
   "execution_count": 4,
   "id": "e4ef26d4",
   "metadata": {},
   "outputs": [],
   "source": [
    "# prepare data for model training\n",
    "\n",
    "def prepare_data(text,y,batch,maxlen=128):\n",
    "    text = [preprocess_text(x) for x in text]\n",
    "    text = [split_truncate(x,maxlen) for x in tqdm(text)]\n",
    "    tokenized = [bpe_tok.tokenize(x) for x in text]\n",
    "    tokenized = [bpe_tok.add_padding(x,maxlen) for x in tokenized]\n",
    "    seq = np.asarray(tokenized)\n",
    "    xtrain,xval,ytrain,yval = train_test_split(seq,y,train_size=0.8,random_state=0)\n",
    "    train = tf.data.Dataset.from_tensor_slices((xtrain,ytrain))\n",
    "    train = train.batch(batch_size=batch, drop_remainder=True)\n",
    "    valid = tf.data.Dataset.from_tensor_slices((xval,yval))\n",
    "    valid = valid.batch(batch_size=batch)\n",
    "    steps = len(xtrain) // batch + 1\n",
    "    return train,valid,steps"
   ]
  },
  {
   "cell_type": "code",
   "execution_count": 5,
   "id": "4dc3550a",
   "metadata": {},
   "outputs": [],
   "source": [
    "def build_model(d_model,n_heads,n_layers,units,pos_weights,vocab_size,maxlen,batch,\n",
    "                pretrained=False,n_classes=None):\n",
    "    \n",
    "    reset_random_seeds()\n",
    "    \n",
    "    \n",
    "    i = Input((maxlen,),batch_size=batch, dtype=tf.int32)\n",
    "    bert_model = BERT(d_model=d_model, n_heads=n_heads, n_encoder_layer=n_layers,\n",
    "                  units=units, pos_weights=encodings, vocab_size=vocab_size)\n",
    "    out = bert_model(i)\n",
    "    out = GlobalAveragePooling1D()(out)\n",
    "    if n_classes is None:\n",
    "        out = Dense(1,activation='sigmoid')(out)\n",
    "    else:\n",
    "        out = Dense(n_classes,activation='softmax')(out)\n",
    "\n",
    "    model = tf.keras.Model(i,out)\n",
    "    \n",
    "    \n",
    "    if pretrained:\n",
    "        model.layers[1].load_weights('mlm_bert.h5')\n",
    "    \n",
    "    return model\n",
    "    \n",
    "def positional_encoding(emb_dim,maxlen):\n",
    "    pos = np.zeros((maxlen, emb_dim), dtype=np.float32)\n",
    "    for p in range(maxlen):\n",
    "        for i in range(emb_dim):\n",
    "            if i % 2 == 0:\n",
    "                angle = p / 10000 ** (2 * i / emb_dim)\n",
    "                pos[p, i] = np.sin(angle)\n",
    "            else:\n",
    "                angle = p / 10000 ** (2 * i / emb_dim)\n",
    "                pos[p, i] = np.cos(angle)\n",
    "                \n",
    "    return pos"
   ]
  },
  {
   "cell_type": "code",
   "execution_count": 6,
   "id": "6c92edb2",
   "metadata": {},
   "outputs": [
    {
     "data": {
      "text/plain": [
       "<Axes: >"
      ]
     },
     "execution_count": 6,
     "metadata": {},
     "output_type": "execute_result"
    },
    {
     "data": {
      "image/png": "[encoded data removed]",
      "text/plain": [
       "<Figure size 640x480 with 2 Axes>"
      ]
     },
     "metadata": {},
     "output_type": "display_data"
    }
   ],
   "source": [
    "# parameters\n",
    "\n",
    "epochs = 2\n",
    "batch = 32\n",
    "d_model = 128\n",
    "n_heads = 8\n",
    "units = d_model * 2\n",
    "vocab_size = len(bpe_tok.i2w)\n",
    "n_layers = 4\n",
    "maxlen = 128\n",
    "encodings = positional_encoding(d_model,maxlen)\n",
    "\n",
    "sb.heatmap(encodings[:,:50])"
   ]
  },
  {
   "cell_type": "code",
   "execution_count": 7,
   "id": "8c8c67fb",
   "metadata": {},
   "outputs": [
    {
     "data": {
      "application/vnd.jupyter.widget-view+json": {
       "model_id": "e7fa3c8857234caa81fee7a00286e800",
       "version_major": 2,
       "version_minor": 0
      },
      "text/plain": [
       "  0%|          | 0/50000 [00:00<?, ?it/s]"
      ]
     },
     "metadata": {},
     "output_type": "display_data"
    },
    {
     "name": "stderr",
     "output_type": "stream",
     "text": [
      "2024-04-04 13:37:44.714518: I external/local_xla/xla/stream_executor/cuda/cuda_executor.cc:901] successful NUMA node read from SysFS had negative value (-1), but there must be at least one NUMA node, so returning NUMA node zero. See more at https://github.com/torvalds/linux/blob/v6.0/Documentation/ABI/testing/sysfs-bus-pci#L344-L355\n",
      "2024-04-04 13:37:44.714778: I external/local_xla/xla/stream_executor/cuda/cuda_executor.cc:901] successful NUMA node read from SysFS had negative value (-1), but there must be at least one NUMA node, so returning NUMA node zero. See more at https://github.com/torvalds/linux/blob/v6.0/Documentation/ABI/testing/sysfs-bus-pci#L344-L355\n",
      "2024-04-04 13:37:44.714930: I external/local_xla/xla/stream_executor/cuda/cuda_executor.cc:901] successful NUMA node read from SysFS had negative value (-1), but there must be at least one NUMA node, so returning NUMA node zero. See more at https://github.com/torvalds/linux/blob/v6.0/Documentation/ABI/testing/sysfs-bus-pci#L344-L355\n",
      "2024-04-04 13:37:44.791737: I external/local_xla/xla/stream_executor/cuda/cuda_executor.cc:901] successful NUMA node read from SysFS had negative value (-1), but there must be at least one NUMA node, so returning NUMA node zero. See more at https://github.com/torvalds/linux/blob/v6.0/Documentation/ABI/testing/sysfs-bus-pci#L344-L355\n",
      "2024-04-04 13:37:44.791920: I external/local_xla/xla/stream_executor/cuda/cuda_executor.cc:901] successful NUMA node read from SysFS had negative value (-1), but there must be at least one NUMA node, so returning NUMA node zero. See more at https://github.com/torvalds/linux/blob/v6.0/Documentation/ABI/testing/sysfs-bus-pci#L344-L355\n",
      "2024-04-04 13:37:44.792061: I external/local_xla/xla/stream_executor/cuda/cuda_executor.cc:901] successful NUMA node read from SysFS had negative value (-1), but there must be at least one NUMA node, so returning NUMA node zero. See more at https://github.com/torvalds/linux/blob/v6.0/Documentation/ABI/testing/sysfs-bus-pci#L344-L355\n",
      "2024-04-04 13:37:44.792163: I tensorflow/core/common_runtime/gpu/gpu_device.cc:1929] Created device /job:localhost/replica:0/task:0/device:GPU:0 with 4785 MB memory:  -> device: 0, name: NVIDIA GeForce RTX 2060, pci bus id: 0000:01:00.0, compute capability: 7.5\n"
     ]
    }
   ],
   "source": [
    "# loading seen data (IMDB Dataset)\n",
    "# only using 5000 samples as the dataset easy\n",
    "\n",
    "df = pd.read_csv('/home/bibek/notebooks/IMDB Dataset.csv')\n",
    "\n",
    "text = df.review.tolist()\n",
    "try:\n",
    "    y = df.sentiment.map({'positive':1,'negative':0}).values\n",
    "except:\n",
    "    y = df.target.values\n",
    "\n",
    "train,valid,steps = prepare_data(text,y,batch)"
   ]
  },
  {
   "cell_type": "code",
   "execution_count": 8,
   "id": "c1445759",
   "metadata": {},
   "outputs": [
    {
     "name": "stdout",
     "output_type": "stream",
     "text": [
      "Model: \"model_1\"\n",
      "_________________________________________________________________\n",
      " Layer (type)                Output Shape              Param #   \n",
      "=================================================================\n",
      " input_2 (InputLayer)        [(32, 128)]               0         \n",
      "                                                                 \n",
      " bert_1 (BERT)               (32, 128, 128)            3153024   \n",
      "                                                                 \n",
      " global_average_pooling1d_1  (32, 128)                 0         \n",
      "  (GlobalAveragePooling1D)                                       \n",
      "                                                                 \n",
      " dense_1 (Dense)             (32, 1)                   129       \n",
      "                                                                 \n",
      "=================================================================\n",
      "Total params: 3153153 (12.03 MB)\n",
      "Trainable params: 3153153 (12.03 MB)\n",
      "Non-trainable params: 0 (0.00 Byte)\n",
      "_________________________________________________________________\n"
     ]
    }
   ],
   "source": [
    "# build the 2 models\n",
    "\n",
    "pretrained_model = build_model(d_model,n_heads,n_layers,units,encodings,vocab_size,\n",
    "                               maxlen,batch,pretrained=True)\n",
    "model = build_model(d_model,n_heads,n_layers,units,encodings,vocab_size,maxlen,batch)\n",
    "\n",
    "model.summary()"
   ]
  },
  {
   "cell_type": "code",
   "execution_count": 9,
   "id": "a16127f9",
   "metadata": {},
   "outputs": [
    {
     "data": {
      "text/plain": [
       "<Axes: >"
      ]
     },
     "execution_count": 9,
     "metadata": {},
     "output_type": "execute_result"
    },
    {
     "data": {
      "image/png": "[encoded data removed]",
      "text/plain": [
       "<Figure size 640x480 with 1 Axes>"
      ]
     },
     "metadata": {},
     "output_type": "display_data"
    }
   ],
   "source": [
    "# lr scheduling\n",
    "\n",
    "class BERTLearningRateScheduler:\n",
    "    \n",
    "    def __init__(self,total_steps,init_lr=1e-3):\n",
    "        self.total = total_steps\n",
    "        self.warmup = total_steps // 10\n",
    "        self.decay = total_steps - self.warmup\n",
    "        self.init_lr = init_lr\n",
    "        \n",
    "    def __call__(self,step):\n",
    "        if step <= self.warmup:\n",
    "            lr = self.init_lr * (step / self.warmup)\n",
    "        else:\n",
    "            lr = self.init_lr * max(0,(self.total - step) / (max(1,self.decay)))\n",
    "            \n",
    "        return lr\n",
    "\n",
    "\n",
    "custom_lr_sch = BERTLearningRateScheduler(steps,init_lr=7e-4)\n",
    "sb.lineplot([custom_lr_sch(s) for s in range(1,steps)])"
   ]
  },
  {
   "cell_type": "code",
   "execution_count": 11,
   "id": "3c4f9504",
   "metadata": {},
   "outputs": [],
   "source": [
    "# model training function\n",
    "\n",
    "def train_model(epochs,model,optimizer,loss_fn,custom_lr_sch,save_path):\n",
    "    \n",
    "    @tf.function\n",
    "    def train_step(x,y,model,optimizer,loss_fn):\n",
    "        with tf.GradientTape() as tape:\n",
    "            pred = model(x, training=True)\n",
    "            loss = loss_fn(y, pred)\n",
    "        weights = model.trainable_weights\n",
    "        grads = tape.gradient(loss,weights)\n",
    "        optimizer.apply_gradients(zip(grads,weights))\n",
    "        return loss\n",
    "\n",
    "    @tf.function\n",
    "    def test_step(x,y,model,loss_fn):\n",
    "        pred = model(x, training=False)\n",
    "        loss = loss_fn(y, pred)\n",
    "        return loss\n",
    "    \n",
    "    losses = {\"train\":[],'valid':[]}\n",
    "    \n",
    "    for e in range(1,epochs+1):\n",
    "        print(f'epochs : {e}/{epochs}')\n",
    "        loss = 0\n",
    "        for i,(x,y) in enumerate(tqdm(train)):\n",
    "            lr = custom_lr_sch(i+1)\n",
    "            optimizer.learning_rate.assign(lr)\n",
    "            loss += train_step(x,y,model,optimizer,loss_fn)\n",
    "\n",
    "        loss = round(loss.numpy()/i, 4)\n",
    "\n",
    "        print('train loss :',loss)\n",
    "\n",
    "        losses['train'].append(loss)\n",
    "\n",
    "        loss = 0\n",
    "        for i,(x,y) in enumerate(valid):\n",
    "            loss += test_step(x,y,model,loss_fn)\n",
    "\n",
    "        loss = round(loss.numpy()/i, 4)\n",
    "        print('val loss :',loss)\n",
    "\n",
    "        if e == 1:\n",
    "            model.save_weights(save_path)\n",
    "            print('best weights saved')\n",
    "\n",
    "        elif min(losses['valid']) > loss:\n",
    "            model.save_weights(save_path)\n",
    "            print('best weights saved')\n",
    "\n",
    "        losses['valid'].append(loss)\n",
    "        print()"
   ]
  },
  {
   "cell_type": "code",
   "execution_count": 12,
   "id": "f41db134",
   "metadata": {},
   "outputs": [
    {
     "name": "stdout",
     "output_type": "stream",
     "text": [
      "epochs : 1/2\n"
     ]
    },
    {
     "data": {
      "application/vnd.jupyter.widget-view+json": {
       "model_id": "66f47f13f2564fa39cc7321de55892d4",
       "version_major": 2,
       "version_minor": 0
      },
      "text/plain": [
       "  0%|          | 0/1250 [00:00<?, ?it/s]"
      ]
     },
     "metadata": {},
     "output_type": "display_data"
    },
    {
     "name": "stderr",
     "output_type": "stream",
     "text": [
      "2024-04-04 13:38:30.456702: I external/local_tsl/tsl/platform/default/subprocess.cc:304] Start cannot spawn child process: No such file or directory\n",
      "2024-04-04 13:38:30.854825: I external/local_xla/xla/stream_executor/cuda/cuda_dnn.cc:454] Loaded cuDNN version 8907\n",
      "2024-04-04 13:38:31.889441: I external/local_xla/xla/service/service.cc:168] XLA service 0x77aebf38eb50 initialized for platform CUDA (this does not guarantee that XLA will be used). Devices:\n",
      "2024-04-04 13:38:31.889465: I external/local_xla/xla/service/service.cc:176]   StreamExecutor device (0): NVIDIA GeForce RTX 2060, Compute Capability 7.5\n",
      "2024-04-04 13:38:31.893746: I tensorflow/compiler/mlir/tensorflow/utils/dump_mlir_util.cc:269] disabling MLIR crash reproducer, set env var `MLIR_CRASH_REPRODUCER_DIRECTORY` to enable.\n",
      "WARNING: All log messages before absl::InitializeLog() is called are written to STDERR\n",
      "I0000 00:00:1712218111.979070   27331 device_compiler.h:186] Compiled cluster using XLA!  This line is logged at most once for the lifetime of the process.\n"
     ]
    },
    {
     "name": "stdout",
     "output_type": "stream",
     "text": [
      "train loss : 0.4504\n",
      "val loss : 0.3653\n",
      "best weights saved\n",
      "\n",
      "epochs : 2/2\n"
     ]
    },
    {
     "data": {
      "application/vnd.jupyter.widget-view+json": {
       "model_id": "3f6da39d60f640188824da3ecf13cf18",
       "version_major": 2,
       "version_minor": 0
      },
      "text/plain": [
       "  0%|          | 0/1250 [00:00<?, ?it/s]"
      ]
     },
     "metadata": {},
     "output_type": "display_data"
    },
    {
     "name": "stdout",
     "output_type": "stream",
     "text": [
      "train loss : 0.31\n",
      "val loss : 0.3671\n",
      "\n"
     ]
    }
   ],
   "source": [
    "# train  model and load best saved weights\n",
    "\n",
    "opt = tf.keras.optimizers.AdamW(weight_decay=0.001)\n",
    "loss_fn = tf.keras.losses.BinaryCrossentropy()\n",
    "\n",
    "train_model(2,model,opt,loss_fn,custom_lr_sch,'model.h5')\n",
    "\n",
    "model.load_weights('model.h5')"
   ]
  },
  {
   "cell_type": "code",
   "execution_count": 13,
   "id": "1b000377",
   "metadata": {},
   "outputs": [
    {
     "name": "stdout",
     "output_type": "stream",
     "text": [
      "epochs : 1/2\n"
     ]
    },
    {
     "data": {
      "application/vnd.jupyter.widget-view+json": {
       "model_id": "8d34fa311f29403183e9eb7c52b02393",
       "version_major": 2,
       "version_minor": 0
      },
      "text/plain": [
       "  0%|          | 0/1250 [00:00<?, ?it/s]"
      ]
     },
     "metadata": {},
     "output_type": "display_data"
    },
    {
     "name": "stdout",
     "output_type": "stream",
     "text": [
      "train loss : 0.4054\n",
      "val loss : 0.3469\n",
      "best weights saved\n",
      "\n",
      "epochs : 2/2\n"
     ]
    },
    {
     "data": {
      "application/vnd.jupyter.widget-view+json": {
       "model_id": "66c51d8f3cce4808a93aa76baf5fcc5e",
       "version_major": 2,
       "version_minor": 0
      },
      "text/plain": [
       "  0%|          | 0/1250 [00:00<?, ?it/s]"
      ]
     },
     "metadata": {},
     "output_type": "display_data"
    },
    {
     "name": "stdout",
     "output_type": "stream",
     "text": [
      "train loss : 0.2834\n",
      "val loss : 0.3526\n",
      "\n"
     ]
    }
   ],
   "source": [
    "# train pretrained model and load best saved weights\n",
    "\n",
    "opt = tf.keras.optimizers.AdamW(weight_decay=0.001)\n",
    "loss_fn = tf.keras.losses.BinaryCrossentropy()\n",
    "\n",
    "train_model(2,pretrained_model,opt,loss_fn,custom_lr_sch,'pretrained_model.h5')\n",
    "pretrained_model.load_weights('pretrained_model.h5')"
   ]
  },
  {
   "cell_type": "code",
   "execution_count": 14,
   "id": "ec2d677e",
   "metadata": {},
   "outputs": [],
   "source": [
    "def predict(data,model):\n",
    "    preds = []\n",
    "    out = []\n",
    "    for b,(x,y) in enumerate(data):\n",
    "        pred = model(x, training=False).numpy()\n",
    "        pred = np.round(pred[:,0])\n",
    "        preds.extend(pred)\n",
    "        out.extend(y.numpy())\n",
    "        \n",
    "    return preds,out     "
   ]
  },
  {
   "cell_type": "code",
   "execution_count": 15,
   "id": "a183c596",
   "metadata": {},
   "outputs": [],
   "source": [
    "# get predictions\n",
    "\n",
    "pred1,yval = predict(valid,model)\n",
    "pred2,yval = predict(valid,pretrained_model)"
   ]
  },
  {
   "cell_type": "code",
   "execution_count": 16,
   "id": "6164a34e",
   "metadata": {},
   "outputs": [],
   "source": [
    "from sklearn.metrics import classification_report, f1_score, confusion_matrix, roc_curve, roc_auc_score"
   ]
  },
  {
   "cell_type": "code",
   "execution_count": 17,
   "id": "7e184a78",
   "metadata": {},
   "outputs": [
    {
     "name": "stdout",
     "output_type": "stream",
     "text": [
      "              precision    recall  f1-score   support\n",
      "\n",
      "           0       0.83      0.85      0.84      5035\n",
      "           1       0.84      0.83      0.84      4965\n",
      "\n",
      "    accuracy                           0.84     10000\n",
      "   macro avg       0.84      0.84      0.84     10000\n",
      "weighted avg       0.84      0.84      0.84     10000\n",
      "\n"
     ]
    }
   ],
   "source": [
    "# model classification report\n",
    "\n",
    "print(classification_report(yval,pred1))"
   ]
  },
  {
   "cell_type": "code",
   "execution_count": 18,
   "id": "287f0d3c",
   "metadata": {},
   "outputs": [
    {
     "name": "stdout",
     "output_type": "stream",
     "text": [
      "              precision    recall  f1-score   support\n",
      "\n",
      "           0       0.84      0.86      0.85      5035\n",
      "           1       0.86      0.84      0.85      4965\n",
      "\n",
      "    accuracy                           0.85     10000\n",
      "   macro avg       0.85      0.85      0.85     10000\n",
      "weighted avg       0.85      0.85      0.85     10000\n",
      "\n"
     ]
    }
   ],
   "source": [
    "# pretrained model classification report\n",
    "\n",
    "print(classification_report(yval,pred2))"
   ]
  },
  {
   "cell_type": "code",
   "execution_count": 19,
   "id": "f0629102",
   "metadata": {},
   "outputs": [
    {
     "name": "stdout",
     "output_type": "stream",
     "text": [
      "Non-Pretrained Model\n",
      "ROC AUC score : 0.8373458299456673\n",
      "F1 scores : 0.8351581508515814\n",
      "\n",
      "Pretrained Model\n",
      "ROC AUC score : 0.8494023207137151\n",
      "F1 scores : 0.8464442403836343\n"
     ]
    }
   ],
   "source": [
    "# model and pretrained model F1 and ROC/AUC score\n",
    "\n",
    "fpr1,tpr1,_ = roc_curve(yval,pred1,pos_label=1)\n",
    "fpr2,tpr2,_ = roc_curve(yval,pred2,pos_label=1)\n",
    "\n",
    "print('Non-Pretrained Model')\n",
    "print('ROC AUC score :',roc_auc_score(yval,pred1))\n",
    "print('F1 scores :',f1_score(yval,pred1))\n",
    "print()\n",
    "print('Pretrained Model')\n",
    "print('ROC AUC score :',roc_auc_score(yval,pred2))\n",
    "print('F1 scores :',f1_score(yval,pred2))"
   ]
  },
  {
   "cell_type": "code",
   "execution_count": 20,
   "id": "dddac835",
   "metadata": {},
   "outputs": [
    {
     "data": {
      "text/plain": [
       "[]"
      ]
     },
     "execution_count": 20,
     "metadata": {},
     "output_type": "execute_result"
    },
    {
     "data": {
      "image/png": "[encoded data removed]",
      "text/plain": [
       "<Figure size 640x480 with 1 Axes>"
      ]
     },
     "metadata": {},
     "output_type": "display_data"
    }
   ],
   "source": [
    "# ROC curve\n",
    "plt.plot(fpr1,tpr1)\n",
    "plt.plot(fpr2,tpr2)\n",
    "plt.plot()"
   ]
  },
  {
   "cell_type": "code",
   "execution_count": 21,
   "id": "f8150abb",
   "metadata": {},
   "outputs": [
    {
     "data": {
      "text/plain": [
       "<Axes: >"
      ]
     },
     "execution_count": 21,
     "metadata": {},
     "output_type": "execute_result"
    },
    {
     "data": {
      "image/png": "[encoded data removed]",
      "text/plain": [
       "<Figure size 640x480 with 2 Axes>"
      ]
     },
     "metadata": {},
     "output_type": "display_data"
    }
   ],
   "source": [
    "sb.heatmap(confusion_matrix(yval,pred1),cmap='Blues',annot=True,fmt='d')"
   ]
  },
  {
   "cell_type": "code",
   "execution_count": 22,
   "id": "447b485c",
   "metadata": {},
   "outputs": [
    {
     "data": {
      "text/plain": [
       "<Axes: >"
      ]
     },
     "execution_count": 22,
     "metadata": {},
     "output_type": "execute_result"
    },
    {
     "data": {
      "image/png": "[encoded data removed]",
      "text/plain": [
       "<Figure size 640x480 with 2 Axes>"
      ]
     },
     "metadata": {},
     "output_type": "display_data"
    }
   ],
   "source": [
    "sb.heatmap(confusion_matrix(yval,pred2),cmap='Blues',annot=True,fmt='d')"
   ]
  },
  {
   "cell_type": "code",
   "execution_count": 23,
   "id": "563f4fa0",
   "metadata": {},
   "outputs": [
    {
     "data": {
      "application/vnd.jupyter.widget-view+json": {
       "model_id": "276752d6b3514dfa92dddf987e5dfb66",
       "version_major": 2,
       "version_minor": 0
      },
      "text/plain": [
       "  0%|          | 0/7613 [00:00<?, ?it/s]"
      ]
     },
     "metadata": {},
     "output_type": "display_data"
    }
   ],
   "source": [
    "# unseen data (Disaster Tweets)\n",
    "\n",
    "batch = 8\n",
    "\n",
    "df = pd.read_csv('/home/bibek/notebooks/train.csv')\n",
    "\n",
    "text = df.text.tolist()\n",
    "try:\n",
    "    y = df.sentiment.map({'positive':1,'negative':0}).values\n",
    "except:\n",
    "    y = df.target.values\n",
    "\n",
    "train,valid,steps = prepare_data(text,y,batch)"
   ]
  },
  {
   "cell_type": "code",
   "execution_count": 24,
   "id": "56d75f9f",
   "metadata": {},
   "outputs": [
    {
     "name": "stdout",
     "output_type": "stream",
     "text": [
      "Model: \"model_3\"\n",
      "_________________________________________________________________\n",
      " Layer (type)                Output Shape              Param #   \n",
      "=================================================================\n",
      " input_4 (InputLayer)        [(8, 128)]                0         \n",
      "                                                                 \n",
      " bert_3 (BERT)               (8, 128, 128)             3153024   \n",
      "                                                                 \n",
      " global_average_pooling1d_3  (8, 128)                  0         \n",
      "  (GlobalAveragePooling1D)                                       \n",
      "                                                                 \n",
      " dense_3 (Dense)             (8, 1)                    129       \n",
      "                                                                 \n",
      "=================================================================\n",
      "Total params: 3153153 (12.03 MB)\n",
      "Trainable params: 3153153 (12.03 MB)\n",
      "Non-trainable params: 0 (0.00 Byte)\n",
      "_________________________________________________________________\n"
     ]
    },
    {
     "data": {
      "image/png": "[encoded data removed]",
      "text/plain": [
       "<Figure size 640x480 with 1 Axes>"
      ]
     },
     "metadata": {},
     "output_type": "display_data"
    }
   ],
   "source": [
    "\n",
    "\n",
    "pretrained_model = build_model(d_model,n_heads,n_layers,units,encodings,vocab_size,\n",
    "                               maxlen,batch,pretrained=True)\n",
    "model = build_model(d_model,n_heads,n_layers,units,encodings,vocab_size,maxlen,batch)\n",
    "\n",
    "custom_lr_sch = BERTLearningRateScheduler(steps,init_lr=7e-4)\n",
    "sb.lineplot([custom_lr_sch(s) for s in range(1,steps)])\n",
    "\n",
    "model.summary()"
   ]
  },
  {
   "cell_type": "code",
   "execution_count": 25,
   "id": "d5c167ed",
   "metadata": {},
   "outputs": [],
   "source": [
    "# Training model with same params"
   ]
  },
  {
   "cell_type": "code",
   "execution_count": 26,
   "id": "eec04f11",
   "metadata": {},
   "outputs": [
    {
     "name": "stdout",
     "output_type": "stream",
     "text": [
      "epochs : 1/2\n"
     ]
    },
    {
     "data": {
      "application/vnd.jupyter.widget-view+json": {
       "model_id": "43dc337e998d4e4aa39e9fd19f378fed",
       "version_major": 2,
       "version_minor": 0
      },
      "text/plain": [
       "  0%|          | 0/761 [00:00<?, ?it/s]"
      ]
     },
     "metadata": {},
     "output_type": "display_data"
    },
    {
     "name": "stdout",
     "output_type": "stream",
     "text": [
      "train loss : 0.589\n",
      "val loss : 0.5172\n",
      "best weights saved\n",
      "\n",
      "epochs : 2/2\n"
     ]
    },
    {
     "data": {
      "application/vnd.jupyter.widget-view+json": {
       "model_id": "eb0384cdc8e645a68a3e6065aad54c65",
       "version_major": 2,
       "version_minor": 0
      },
      "text/plain": [
       "  0%|          | 0/761 [00:00<?, ?it/s]"
      ]
     },
     "metadata": {},
     "output_type": "display_data"
    },
    {
     "name": "stdout",
     "output_type": "stream",
     "text": [
      "train loss : 0.4348\n",
      "val loss : 0.4976\n",
      "best weights saved\n",
      "\n"
     ]
    }
   ],
   "source": [
    "opt = tf.keras.optimizers.AdamW(weight_decay=0.001)\n",
    "loss_fn = tf.keras.losses.BinaryCrossentropy()\n",
    "\n",
    "train_model(2,model,opt,loss_fn,custom_lr_sch,'model.h5')\n",
    "\n",
    "model.load_weights('model.h5')"
   ]
  },
  {
   "cell_type": "code",
   "execution_count": 27,
   "id": "fbd55e1a",
   "metadata": {},
   "outputs": [
    {
     "name": "stdout",
     "output_type": "stream",
     "text": [
      "epochs : 1/2\n"
     ]
    },
    {
     "data": {
      "application/vnd.jupyter.widget-view+json": {
       "model_id": "f0ca7bad3ebe4441a8e7ec111492b098",
       "version_major": 2,
       "version_minor": 0
      },
      "text/plain": [
       "  0%|          | 0/761 [00:00<?, ?it/s]"
      ]
     },
     "metadata": {},
     "output_type": "display_data"
    },
    {
     "name": "stdout",
     "output_type": "stream",
     "text": [
      "train loss : 0.5321\n",
      "val loss : 0.4663\n",
      "best weights saved\n",
      "\n",
      "epochs : 2/2\n"
     ]
    },
    {
     "data": {
      "application/vnd.jupyter.widget-view+json": {
       "model_id": "2f565191dc8d43a784f18a3d14bcae80",
       "version_major": 2,
       "version_minor": 0
      },
      "text/plain": [
       "  0%|          | 0/761 [00:00<?, ?it/s]"
      ]
     },
     "metadata": {},
     "output_type": "display_data"
    },
    {
     "name": "stdout",
     "output_type": "stream",
     "text": [
      "train loss : 0.3657\n",
      "val loss : 0.4855\n",
      "\n"
     ]
    }
   ],
   "source": [
    "opt = tf.keras.optimizers.AdamW(weight_decay=0.001)\n",
    "loss_fn = tf.keras.losses.BinaryCrossentropy()\n",
    "\n",
    "train_model(2,pretrained_model,opt,loss_fn,custom_lr_sch,'pretrained_model.h5')\n",
    "\n",
    "pretrained_model.load_weights('pretrained_model.h5')"
   ]
  },
  {
   "cell_type": "code",
   "execution_count": 28,
   "id": "c415431f",
   "metadata": {},
   "outputs": [],
   "source": [
    "pred1,yval = predict(valid,model)\n",
    "pred2,yval = predict(valid,pretrained_model)"
   ]
  },
  {
   "cell_type": "code",
   "execution_count": 29,
   "id": "7bd9211d",
   "metadata": {},
   "outputs": [
    {
     "name": "stdout",
     "output_type": "stream",
     "text": [
      "              precision    recall  f1-score   support\n",
      "\n",
      "           0       0.82      0.80      0.81       886\n",
      "           1       0.73      0.75      0.74       637\n",
      "\n",
      "    accuracy                           0.78      1523\n",
      "   macro avg       0.77      0.77      0.77      1523\n",
      "weighted avg       0.78      0.78      0.78      1523\n",
      "\n"
     ]
    }
   ],
   "source": [
    "print(classification_report(yval,pred1))"
   ]
  },
  {
   "cell_type": "code",
   "execution_count": 30,
   "id": "8ba220ec",
   "metadata": {},
   "outputs": [
    {
     "name": "stdout",
     "output_type": "stream",
     "text": [
      "              precision    recall  f1-score   support\n",
      "\n",
      "           0       0.83      0.81      0.82       886\n",
      "           1       0.74      0.77      0.76       637\n",
      "\n",
      "    accuracy                           0.79      1523\n",
      "   macro avg       0.79      0.79      0.79      1523\n",
      "weighted avg       0.79      0.79      0.79      1523\n",
      "\n"
     ]
    }
   ],
   "source": [
    "print(classification_report(yval,pred2))"
   ]
  },
  {
   "cell_type": "code",
   "execution_count": 31,
   "id": "bb6deb68",
   "metadata": {},
   "outputs": [
    {
     "name": "stdout",
     "output_type": "stream",
     "text": [
      "ROC AUC score : 0.7736160968989089\n",
      "F1 scores : 0.7382239382239383\n",
      "\n",
      "ROC AUC score : 0.7883348512177922\n",
      "F1 scores : 0.7553846153846154\n"
     ]
    }
   ],
   "source": [
    "fpr1,tpr1,_ = roc_curve(yval,pred1,pos_label=1)\n",
    "fpr2,tpr2,_ = roc_curve(yval,pred2,pos_label=1)\n",
    "\n",
    "print('ROC AUC score :',roc_auc_score(yval,pred1))\n",
    "print('F1 scores :',f1_score(yval,pred1))\n",
    "print()\n",
    "print('ROC AUC score :',roc_auc_score(yval,pred2))\n",
    "print('F1 scores :',f1_score(yval,pred2))"
   ]
  },
  {
   "cell_type": "code",
   "execution_count": 32,
   "id": "8a2640c4",
   "metadata": {},
   "outputs": [
    {
     "data": {
      "text/plain": [
       "[]"
      ]
     },
     "execution_count": 32,
     "metadata": {},
     "output_type": "execute_result"
    },
    {
     "data": {
      "image/png": "[encoded data removed]",
      "text/plain": [
       "<Figure size 640x480 with 1 Axes>"
      ]
     },
     "metadata": {},
     "output_type": "display_data"
    }
   ],
   "source": [
    "plt.plot(fpr1,tpr1)\n",
    "plt.plot(fpr2,tpr2)\n",
    "plt.plot()"
   ]
  },
  {
   "cell_type": "code",
   "execution_count": 33,
   "id": "5d671ea5",
   "metadata": {},
   "outputs": [
    {
     "data": {
      "text/html": [
       "<div>\n",
       "<style scoped>\n",
       "    .dataframe tbody tr th:only-of-type {\n",
       "        vertical-align: middle;\n",
       "    }\n",
       "\n",
       "    .dataframe tbody tr th {\n",
       "        vertical-align: top;\n",
       "    }\n",
       "\n",
       "    .dataframe thead th {\n",
       "        text-align: right;\n",
       "    }\n",
       "</style>\n",
       "<table border=\"1\" class=\"dataframe\">\n",
       "  <thead>\n",
       "    <tr style=\"text-align: right;\">\n",
       "      <th></th>\n",
       "      <th>Text</th>\n",
       "      <th>Label</th>\n",
       "    </tr>\n",
       "  </thead>\n",
       "  <tbody>\n",
       "    <tr>\n",
       "      <th>0</th>\n",
       "      <td>Budget to set scene for election\\n \\n Gordon B...</td>\n",
       "      <td>0</td>\n",
       "    </tr>\n",
       "    <tr>\n",
       "      <th>1</th>\n",
       "      <td>Army chiefs in regiments decision\\n \\n Militar...</td>\n",
       "      <td>0</td>\n",
       "    </tr>\n",
       "    <tr>\n",
       "      <th>2</th>\n",
       "      <td>Howard denies split over ID cards\\n \\n Michael...</td>\n",
       "      <td>0</td>\n",
       "    </tr>\n",
       "    <tr>\n",
       "      <th>3</th>\n",
       "      <td>Observers to monitor UK election\\n \\n Minister...</td>\n",
       "      <td>0</td>\n",
       "    </tr>\n",
       "    <tr>\n",
       "      <th>4</th>\n",
       "      <td>Kilroy names election seat target\\n \\n Ex-chat...</td>\n",
       "      <td>0</td>\n",
       "    </tr>\n",
       "    <tr>\n",
       "      <th>...</th>\n",
       "      <td>...</td>\n",
       "      <td>...</td>\n",
       "    </tr>\n",
       "    <tr>\n",
       "      <th>2220</th>\n",
       "      <td>India opens skies to competition\\n \\n India wi...</td>\n",
       "      <td>4</td>\n",
       "    </tr>\n",
       "    <tr>\n",
       "      <th>2221</th>\n",
       "      <td>Yukos bankruptcy 'not US matter'\\n \\n Russian ...</td>\n",
       "      <td>4</td>\n",
       "    </tr>\n",
       "    <tr>\n",
       "      <th>2222</th>\n",
       "      <td>Survey confirms property slowdown\\n \\n Governm...</td>\n",
       "      <td>4</td>\n",
       "    </tr>\n",
       "    <tr>\n",
       "      <th>2223</th>\n",
       "      <td>High fuel prices hit BA's profits\\n \\n British...</td>\n",
       "      <td>4</td>\n",
       "    </tr>\n",
       "    <tr>\n",
       "      <th>2224</th>\n",
       "      <td>US trade gap hits record in 2004\\n \\n The gap ...</td>\n",
       "      <td>4</td>\n",
       "    </tr>\n",
       "  </tbody>\n",
       "</table>\n",
       "<p>2225 rows × 2 columns</p>\n",
       "</div>"
      ],
      "text/plain": [
       "                                                   Text  Label\n",
       "0     Budget to set scene for election\\n \\n Gordon B...      0\n",
       "1     Army chiefs in regiments decision\\n \\n Militar...      0\n",
       "2     Howard denies split over ID cards\\n \\n Michael...      0\n",
       "3     Observers to monitor UK election\\n \\n Minister...      0\n",
       "4     Kilroy names election seat target\\n \\n Ex-chat...      0\n",
       "...                                                 ...    ...\n",
       "2220  India opens skies to competition\\n \\n India wi...      4\n",
       "2221  Yukos bankruptcy 'not US matter'\\n \\n Russian ...      4\n",
       "2222  Survey confirms property slowdown\\n \\n Governm...      4\n",
       "2223  High fuel prices hit BA's profits\\n \\n British...      4\n",
       "2224  US trade gap hits record in 2004\\n \\n The gap ...      4\n",
       "\n",
       "[2225 rows x 2 columns]"
      ]
     },
     "execution_count": 33,
     "metadata": {},
     "output_type": "execute_result"
    }
   ],
   "source": [
    "df = pd.read_csv('df_file.csv')\n",
    "df"
   ]
  },
  {
   "cell_type": "code",
   "execution_count": 70,
   "id": "eea5177e",
   "metadata": {},
   "outputs": [
    {
     "name": "stdout",
     "output_type": "stream",
     "text": [
      "['Budget to set scene for election\\n \\n Gordon Brown will seek to put the economy at the centre of Labour\\'s bid for a third term in power when he delivers his ninth Budget at 1230 GMT. He is expected to stress the importance of continued economic stability, with low unemployment and interest rates. The chancellor is expected to freeze petrol duty and raise the stamp duty threshold from Â£60,000. But the Conservatives and Lib Dems insist voters face higher taxes and more means-testing under Labour.\\n \\n Treasury officials have said there will not be a pre-election giveaway, but Mr Brown is thought to have about Â£2bn to spare.\\n \\n - Increase in the stamp duty threshold from Â£60,000 \\n  - A freeze on petrol duty \\n  - An extension of tax credit scheme for poorer families \\n  - Possible help for pensioners The stamp duty threshold rise is intended to help first time buyers - a likely theme of all three of the main parties\\' general election manifestos. Ten years ago, buyers had a much greater chance of avoiding stamp duty, with close to half a million properties, in England and Wales alone, selling for less than Â£60,000. Since then, average UK property prices have more than doubled while the starting threshold for stamp duty has not increased. Tax credits As a result, the number of properties incurring stamp duty has rocketed as has the government\\'s tax take. The Liberal Democrats unveiled their own proposals to raise the stamp duty threshold to Â£150,000 in February.\\n \\n The Tories are also thought likely to propose increased thresholds, with shadow chancellor Oliver Letwin branding stamp duty a \"classic Labour stealth tax\". The Tories say whatever the chancellor gives away will be clawed back in higher taxes if Labour is returned to power. Shadow Treasury chief secretary George Osborne said: \"Everyone who looks at the British economy at the moment says there has been a sharp deterioration in the public finances, that there is a black hole,\" he said. \"If Labour is elected there will be a very substantial tax increase in the Budget after the election, of the order of around Â£10bn.\"\\n \\n But Mr Brown\\'s former advisor Ed Balls, now a parliamentary hopeful, said an examination of Tory plans for the economy showed there would be a Â£35bn difference in investment by the end of the next parliament between the two main parties. He added: \"I don\\'t accept there is any need for any changes to the plans we have set out to meet our spending commitments.\"\\n \\n For the Lib Dems David Laws said: \"The chancellor will no doubt tell us today how wonderfully the economy is doing,\" he said. \"But a lot of that is built on an increase in personal and consumer debt over the last few years - that makes the economy quite vulnerable potentially if interest rates ever do have to go up in a significant way.\" SNP leader Alex Salmond said his party would introduce a Â£2,000 grant for first time buyers, reduce corporation tax and introduce a citizens pension free from means testing. Plaid Cymru\\'s economics spokesman Adam Price said he wanted help to get people on the housing ladder and an increase in the minimum wage to Â£5.60 an hour.\\n', 'Army chiefs in regiments decision\\n \\n Military chiefs are expected to meet to make a final decision on the future of Scotland\\'s Army regiments.\\n \\n A committee of the Army Board, which is made up of the most senior defence figures, will discuss plans for restructuring regiments on Monday. The proposals include cutting Scotland\\'s six single-battalion regiments to five and merging these into a super regiment. The plans have faced stiff opposition from campaigners and politicians alike. The committee\\'s decision must be ratified by Defence Secretary Geoff Hoon and Prime Minister Tony Blair. It is expected that it will be made public next week. When ministers announced a reorganisation of the Army it drew a question mark over the futures of the Black Watch, the Kings Own Scottish Borderers, the Royal Scots, the Royal Highland Fusiliers and the Argyll and Sutherland Highlanders. In October, the Council of Scottish Colonels proposed the merger of the Royal Scots and the King\\'s Own Scottish Borderers into a single battalion.\\n \\n Under their vision, it would be one of five in the new super regiment. The proposals to either merge or amalgamate the six regiments into a super regiment sparked a political outcry, with Labour backbenchers and opposition politicians opposing the plan. They felt the timing was insensitive because the Black Watch was in the frontline in Iraq, suffering casualties. The Save the Scottish Regiments campaigners were so angered they threatened to stand against Labour at the next general election.\\n \\n Speaking ahead of the expected Army Board meeting, a spokesman said: \"The government and the Army Board have spent the past four months attempting to trick serving soldiers and the public into thinking their planned changes for the Scottish regiments are for the good of the Army and for that of the serving soldier. \"They are very much not for the good and will destroy Scotland\\'s regiments by moulding them into a single super regiment which will lead to severe recruitment problems, a loss of local connections to those regiments and a loss to Scotland of an important part of her heritage and, most importantly, her future - the regiments are the envy of armies around the world.\" An alternative blueprint had been put forward by Labour MP Eric Joyce, who proposed going ahead with the merger while preserving the other regiments. For a brief time, there was speculation the prime minister might consider the plan, but that now seems unlikely. Speaking in Scotland last week, Mr Blair said the aim was to preserve tradition but introduce a more effective structure and hinted that a super regiment was likely. He said: \"They don\\'t want to get rid of the history or the traditions of the regiment or the local connections - far from it, all they want to do is make sure they can transfer people easily across regiments and deploy them more flexibly.\" The prime minister said he hoped campaigners\\' concerns would be taken into account but the need for effective change had to be paramount.\\n', 'Howard denies split over ID cards\\n \\n Michael Howard has denied his shadow cabinet was split over its decision to back controversial Labour plans to introduce ID cards.\\n \\n The Tory leader said his front bench team had reached a \"collective view\" after holding a \"good discussion\", but admitted it was \"not an easy issue\". He had decided to support the plans as the police said they would help fight terror, crime and illegal immigration. The Lib Dems have pledged to oppose the bill when it is debated next Monday.\\n \\n Tory sources say senior party figures had argued vociferously against the ID card scheme. Among those reported to have serious reservations over the strategy were senior shadow cabinet members David Davis, Oliver Letwin and Tim Yeo. But Mr Howard denied Mr Yeo, his transport and environment spokesman, said the plans \"stink\". He also said he was confident shadow home secretary Mr Davis would \"set out the position very clearly\" when he stands up to debate the matter next week. Mr Howard said the police had said ID cards could \"help them foil a terror bomb plot in which people could lose their lives\". He added: \"When the police say that you have to take them seriously\".\\n \\n He acknowledged there were \"good libertarian arguments\" against the cards, but said the shadow Cabinet had weighed up all the \"conflicting interests\" before reaching its decision. \"I don\\'t pretend that it is an easy decision but at the end of the day a decision has to be taken.\" He also denied he was afraid of looking \"soft\" on the issue, compared to Labour. The Conservatives announced their support for the government plans on Monday evening.\\n \\n Sources within the party told the BBC Mr Howard had always been in favour of ID cards, and tried to introduce them when he was Home Secretary. But the Tories insisted they would hold ministers to account over the precise purpose of the scheme.\\n \\n They said they would also press Labour over whether objectives could be met and whether the Home Office would be able to deliver them. And they pledged to assess the cost effectiveness of ID cards and whether people\\'s privacy would be properly protected. \"It is important to remember that this bill will take a decade to come into full effect,\" a spokesman said. Lib Dem home affairs spokesman Mark Oaten has branded the ID scheme a waste of money and \"deeply flawed\". He said: \"This has all the signs of Michael Howard overruling colleagues\\' concerns over ID cards.\"\\n \\n The chairman of the Bar Council, Guy Mansfield QC warned there was a real risk that people on the \"margins of society\" would be driven into the hands of extremists. \"What is going to happen to young Asian men when there has been a bomb gone off somewhere? They are going to be stopped. If they haven\\'t [ID cards] they are going to be detained.\" Tory ex-minister Douglas Hogg said he opposed the plans for ID cards branding them a \"regressive\" step which would intrude into the lives of ordinary citizens without any counterbalancing benefits. He predicted ultimately carrying the cards would become compulsory and that would lead to large numbers of Britain\\'s ethnic minorities being stopped by police.\\n', 'Observers to monitor UK election\\n \\n Ministers will invite international observers to check the forthcoming UK general election is fairly run.\\n \\n The move comes amid claims the poll could be marred by electoral fraud. A report by two MPs committees called on Thursday for urgent changes to the electoral registration system to combat vote rigging and boost turnout. But in a written response to Labour MP Gordon Prentice, the government said it would normally invite observers to any UK election.\\n \\n Junior constitutional affairs minister Christopher Leslie said: \"I fully expect us to repeat our previous practice of doing so once the date for the next general election is announced.\" The government has looked at ways of boosting voter turnout, which fell to 59% in the last general election in 2001.\\n \\n But trial all-postal ballots in four English regions last summer were hit by delays and some fraud allegations. Liberal Democrat peer Lord Greaves called last week for international observers at the general election - saying otherwise there could be months of court challenges \"on a scale not seen since the 19th Century\". Thursday\\'s report was drawn up by two committees scrutinising the work of the Office of the Deputy Prime Minister (ODPM) and the Department for Constitutional Affairs (DCA). It said that, with the growth of postal voting, there was a strong case to tighten up fraud protection by requiring voters to register individually, rather than by household. It also said about three million people eligible to vote are not registered to do so.\\n \\n Figures for the 2001 general election suggest 29% of people aged between 18 and 24, and 19% of black voters were not on the electoral roll. Young people in shared accommodation are thought to miss out because no one acts as head of the household to fill in the form. ODPM committee chairman Andrew Bennett said individual voter registration, as opposed to registration by household, should be quickly introduced as it could \"dramatically reduce the chances of fraud\". But his counterpart on the DCA committee, Alan Beith, said it should be delayed \"until measures likely to increase registration have been put in place and proved effective.\" Shadow Constitutional Affairs Secretary Oliver Heald accused the government of \"dragging its feet\" over \"this badly needed measure\". \"It is vital that we move ahead with the Northern Ireland system of individual electoral registration to safeguard the integrity of the Britain\\'s electoral system,\" he said.\\n \\n The report said individual registration should be treated carefully as 12% of voters disappeared from the electoral roll in Northern Ireland when it was introduced in 2002. The report said the government should consider fines for unregistered voters, but accepted many experts said it would be an expensive system that would be hard to enforce. It said incentives to register, such as Â£20 council tax rebate, were likely to be seen as \"gimmicks\" and risked undermining the integrity of the system, MPs said. Instead they called for \"imaginative campaigns\" to boost interest.\\n', 'Kilroy names election seat target\\n \\n Ex-chat show host Robert Kilroy-Silk is to contest the Derbyshire seat of Erewash at the next general election.\\n \\n Labour\\'s Elizabeth Blackman won the seat in 1997 and has a 6,932 majority. She says she will fight on her record \"as a hard-working constituency MP\". Mr Kilroy-Silk announced his plans a day after launching his new party, Veritas, the Latin for truth. The East Midlands MEP, who quit the UK Independence Party, wants his new group to \"change the face\" of UK politics. His choice of election constituency quashes speculation that he would stand against Defence Secretary Geoff Hoon in Ashfield, Nottinghamshire. UKIP won 31% of the vote in Erewash in last June\\'s European elections - with Mr Kilroy-Silk among their candidates for the region. Until 1997, Erewash had been held by the Tories since 1970. Ms Blackman said she was proud of the government\\'s achievements in the area. She declined to give her view of Mr Kilroy-Silk at this point.\\n \\n On Thursday, he told a London news conference that Veritas would avoid the old parties\\' \"lies and spin\". He said \"our country\" was being \"stolen from us\" by mass immigration and promised a \"firm but fair\" policy on immigration. Veritas says it hopes to contest most seats at the forthcoming general election but plans to announce detailed policies on crime, tax, pensions, health and defence over the next few weeks.\\n \\n UKIP leader Roger Knapman says he is glad to see the back of Mr Kilroy-Silk. Labour campaign spokesman Fraser Kemp said Veritas was joining \"an already crowded field on the right of British politics\". Mr Kilroy-Silk was joined in the new venture by one of UKIP\\'s two London Assembly members, Damien Hockney, who is now Veritas\\' deputy leader.\\n \\n UKIP\\'s chairman Petrina Holdsworth has said the group will just be a parody of the party the men have left. Mr Kilroy-Silk quit UKIP last week after months of tension as he vied unsuccessfully for the leadership of that party. He said he was ashamed to be a member of a UKIP whose leadership had \"gone AWOL\" after the great opportunity offered by its third place at last June\\'s European elections. UKIP\\'s leader, Roger Knapman, has said he is glad to see the back of Mr Kilroy-Silk. \"He has remarkable ability to influence people but, sadly, after the [European] election it became clear that he was more interested in the Robert Kilroy-Silk Party than the UK Independence Party so it was nice knowing him, now \\'goodbye\\',\" he said. UKIP officials also argue Mr Kilroy-Silk has not been \"straightforward\" in attacking the party he once wanted to lead.\\n']\n"
     ]
    }
   ],
   "source": [
    "print(df.Text.tolist()[:5])"
   ]
  },
  {
   "cell_type": "code",
   "execution_count": 35,
   "id": "bf389546",
   "metadata": {},
   "outputs": [
    {
     "data": {
      "text/plain": [
       "Label\n",
       "1    511\n",
       "4    510\n",
       "0    417\n",
       "2    401\n",
       "3    386\n",
       "Name: count, dtype: int64"
      ]
     },
     "execution_count": 35,
     "metadata": {},
     "output_type": "execute_result"
    }
   ],
   "source": [
    "df['Label'].value_counts()"
   ]
  },
  {
   "cell_type": "code",
   "execution_count": 36,
   "id": "c05f1fc2",
   "metadata": {},
   "outputs": [
    {
     "data": {
      "application/vnd.jupyter.widget-view+json": {
       "model_id": "38b39c9c48dc42fb83b901092c3268e0",
       "version_major": 2,
       "version_minor": 0
      },
      "text/plain": [
       "  0%|          | 0/2225 [00:00<?, ?it/s]"
      ]
     },
     "metadata": {},
     "output_type": "display_data"
    }
   ],
   "source": [
    "batch = 8\n",
    "\n",
    "text = df['Text'].apply(lambda x: str(x)).tolist()\n",
    "text = ['. '.join(t.split('\\n')) for t in text]\n",
    "y = df['Label'].values\n",
    "\n",
    "train,valid,steps = prepare_data(text,y,batch)"
   ]
  },
  {
   "cell_type": "code",
   "execution_count": 37,
   "id": "c6883e9c",
   "metadata": {},
   "outputs": [
    {
     "name": "stdout",
     "output_type": "stream",
     "text": [
      "Model: \"model_5\"\n",
      "_________________________________________________________________\n",
      " Layer (type)                Output Shape              Param #   \n",
      "=================================================================\n",
      " input_6 (InputLayer)        [(8, 128)]                0         \n",
      "                                                                 \n",
      " bert_5 (BERT)               (8, 128, 128)             3153024   \n",
      "                                                                 \n",
      " global_average_pooling1d_5  (8, 128)                  0         \n",
      "  (GlobalAveragePooling1D)                                       \n",
      "                                                                 \n",
      " dense_5 (Dense)             (8, 5)                    645       \n",
      "                                                                 \n",
      "=================================================================\n",
      "Total params: 3153669 (12.03 MB)\n",
      "Trainable params: 3153669 (12.03 MB)\n",
      "Non-trainable params: 0 (0.00 Byte)\n",
      "_________________________________________________________________\n"
     ]
    },
    {
     "data": {
      "image/png": "[encoded data removed]",
      "text/plain": [
       "<Figure size 640x480 with 1 Axes>"
      ]
     },
     "metadata": {},
     "output_type": "display_data"
    }
   ],
   "source": [
    "pretrained_model = build_model(d_model,n_heads,n_layers,units,encodings,vocab_size,\n",
    "                               maxlen,batch,pretrained=True,n_classes=5)\n",
    "model = build_model(d_model,n_heads,n_layers,units,encodings,vocab_size,maxlen,batch,n_classes=5)\n",
    "\n",
    "custom_lr_sch = BERTLearningRateScheduler(steps,init_lr=7e-4)\n",
    "sb.lineplot([custom_lr_sch(s) for s in range(1,steps)])\n",
    "\n",
    "model.summary()"
   ]
  },
  {
   "cell_type": "code",
   "execution_count": 38,
   "id": "702b7ed5",
   "metadata": {},
   "outputs": [
    {
     "name": "stdout",
     "output_type": "stream",
     "text": [
      "epochs : 1/2\n"
     ]
    },
    {
     "data": {
      "application/vnd.jupyter.widget-view+json": {
       "model_id": "5f065ce2cad34e70977e74d5a8770835",
       "version_major": 2,
       "version_minor": 0
      },
      "text/plain": [
       "  0%|          | 0/222 [00:00<?, ?it/s]"
      ]
     },
     "metadata": {},
     "output_type": "display_data"
    },
    {
     "name": "stdout",
     "output_type": "stream",
     "text": [
      "train loss : 1.4577\n",
      "val loss : 0.8197\n",
      "best weights saved\n",
      "\n",
      "epochs : 2/2\n"
     ]
    },
    {
     "data": {
      "application/vnd.jupyter.widget-view+json": {
       "model_id": "be1240e78fab4f2188e6f268d2320305",
       "version_major": 2,
       "version_minor": 0
      },
      "text/plain": [
       "  0%|          | 0/222 [00:00<?, ?it/s]"
      ]
     },
     "metadata": {},
     "output_type": "display_data"
    },
    {
     "name": "stdout",
     "output_type": "stream",
     "text": [
      "train loss : 0.5042\n",
      "val loss : 0.235\n",
      "best weights saved\n",
      "\n"
     ]
    }
   ],
   "source": [
    "# train  model and load best saved weights\n",
    "\n",
    "opt = tf.keras.optimizers.AdamW(weight_decay=0.001)\n",
    "loss_fn = tf.keras.losses.SparseCategoricalCrossentropy()\n",
    "\n",
    "train_model(2,model,opt,loss_fn,custom_lr_sch,'model.h5')\n",
    "\n",
    "model.load_weights('model.h5')"
   ]
  },
  {
   "cell_type": "code",
   "execution_count": 39,
   "id": "6949a178",
   "metadata": {},
   "outputs": [
    {
     "name": "stdout",
     "output_type": "stream",
     "text": [
      "epochs : 1/2\n"
     ]
    },
    {
     "data": {
      "application/vnd.jupyter.widget-view+json": {
       "model_id": "cbed3f275a9a4eec9a2b934edde39930",
       "version_major": 2,
       "version_minor": 0
      },
      "text/plain": [
       "  0%|          | 0/222 [00:00<?, ?it/s]"
      ]
     },
     "metadata": {},
     "output_type": "display_data"
    },
    {
     "name": "stdout",
     "output_type": "stream",
     "text": [
      "train loss : 0.6687\n",
      "val loss : 0.1823\n",
      "best weights saved\n",
      "\n",
      "epochs : 2/2\n"
     ]
    },
    {
     "data": {
      "application/vnd.jupyter.widget-view+json": {
       "model_id": "a8c8e3792dc74b6da4305c9df91892f4",
       "version_major": 2,
       "version_minor": 0
      },
      "text/plain": [
       "  0%|          | 0/222 [00:00<?, ?it/s]"
      ]
     },
     "metadata": {},
     "output_type": "display_data"
    },
    {
     "name": "stdout",
     "output_type": "stream",
     "text": [
      "train loss : 0.1092\n",
      "val loss : 0.1297\n",
      "best weights saved\n",
      "\n"
     ]
    }
   ],
   "source": [
    "# train pretrained model and load best saved weights\n",
    "\n",
    "opt = tf.keras.optimizers.AdamW(weight_decay=0.001)\n",
    "loss_fn = tf.keras.losses.SparseCategoricalCrossentropy()\n",
    "\n",
    "train_model(2,pretrained_model,opt,loss_fn,custom_lr_sch,'pretrained_model.h5')\n",
    "pretrained_model.load_weights('pretrained_model.h5')"
   ]
  },
  {
   "cell_type": "code",
   "execution_count": 45,
   "id": "7e6bd039",
   "metadata": {},
   "outputs": [],
   "source": [
    "def predict(data,model):\n",
    "    preds = []\n",
    "    out = []\n",
    "    for b,(x,y) in enumerate(data):\n",
    "        pred = model(x, training=False).numpy()\n",
    "        pred = np.argmax(pred,axis=-1)\n",
    "        preds.extend(pred)\n",
    "        out.extend(y.numpy())\n",
    "        \n",
    "    return preds,out"
   ]
  },
  {
   "cell_type": "code",
   "execution_count": 46,
   "id": "8118dfbd",
   "metadata": {},
   "outputs": [],
   "source": [
    "pred1,yval = predict(valid,model)\n",
    "pred2,_ = predict(valid,pretrained_model)\n"
   ]
  },
  {
   "cell_type": "code",
   "execution_count": 47,
   "id": "0879f8e3",
   "metadata": {},
   "outputs": [
    {
     "name": "stdout",
     "output_type": "stream",
     "text": [
      "              precision    recall  f1-score   support\n",
      "\n",
      "           0       0.93      0.96      0.95        85\n",
      "           1       0.97      0.99      0.98       110\n",
      "           2       0.92      0.91      0.92        78\n",
      "           3       0.87      0.87      0.87        79\n",
      "           4       0.92      0.88      0.90        93\n",
      "\n",
      "    accuracy                           0.93       445\n",
      "   macro avg       0.92      0.92      0.92       445\n",
      "weighted avg       0.93      0.93      0.93       445\n",
      "\n"
     ]
    }
   ],
   "source": [
    "print(classification_report(yval,pred1))"
   ]
  },
  {
   "cell_type": "code",
   "execution_count": 48,
   "id": "38370231",
   "metadata": {},
   "outputs": [
    {
     "name": "stdout",
     "output_type": "stream",
     "text": [
      "              precision    recall  f1-score   support\n",
      "\n",
      "           0       0.96      0.94      0.95        85\n",
      "           1       0.97      0.97      0.97       110\n",
      "           2       0.96      0.99      0.97        78\n",
      "           3       0.94      0.97      0.96        79\n",
      "           4       0.96      0.92      0.94        93\n",
      "\n",
      "    accuracy                           0.96       445\n",
      "   macro avg       0.96      0.96      0.96       445\n",
      "weighted avg       0.96      0.96      0.96       445\n",
      "\n"
     ]
    }
   ],
   "source": [
    "print(classification_report(yval,pred2))"
   ]
  },
  {
   "cell_type": "code",
   "execution_count": 53,
   "id": "07bb86f9",
   "metadata": {},
   "outputs": [
    {
     "data": {
      "text/plain": [
       "0.9277670000414061"
      ]
     },
     "execution_count": 53,
     "metadata": {},
     "output_type": "execute_result"
    }
   ],
   "source": [
    "f1_score(yval,pred1,average='weighted')"
   ]
  },
  {
   "cell_type": "code",
   "execution_count": 54,
   "id": "22290a9d",
   "metadata": {},
   "outputs": [
    {
     "data": {
      "text/plain": [
       "0.9594443839661916"
      ]
     },
     "execution_count": 54,
     "metadata": {},
     "output_type": "execute_result"
    }
   ],
   "source": [
    "f1_score(yval,pred2,average='weighted')"
   ]
  },
  {
   "cell_type": "code",
   "execution_count": 67,
   "id": "8d8ba194",
   "metadata": {},
   "outputs": [
    {
     "data": {
      "text/plain": [
       "<Axes: >"
      ]
     },
     "execution_count": 67,
     "metadata": {},
     "output_type": "execute_result"
    },
    {
     "data": {
      "image/png": "[encoded data removed]",
      "text/plain": [
       "<Figure size 640x480 with 2 Axes>"
      ]
     },
     "metadata": {},
     "output_type": "display_data"
    }
   ],
   "source": [
    "sb.heatmap(confusion_matrix(yval,pred1),cmap='Blues',annot=True,fmt='d')"
   ]
  },
  {
   "cell_type": "code",
   "execution_count": 68,
   "id": "428c923e",
   "metadata": {},
   "outputs": [
    {
     "data": {
      "text/plain": [
       "<Axes: >"
      ]
     },
     "execution_count": 68,
     "metadata": {},
     "output_type": "execute_result"
    },
    {
     "data": {
      "image/png": "[encoded data removed]",
      "text/plain": [
       "<Figure size 640x480 with 2 Axes>"
      ]
     },
     "metadata": {},
     "output_type": "display_data"
    }
   ],
   "source": [
    "sb.heatmap(confusion_matrix(yval,pred2),cmap='Blues',annot=True,fmt='d')"
   ]
  },
  {
   "cell_type": "code",
   "execution_count": null,
   "id": "69c3b21e",
   "metadata": {},
   "outputs": [],
   "source": []
  }
 ],
 "metadata": {
  "kernelspec": {
   "display_name": "Python 3 (ipykernel)",
   "language": "python",
   "name": "python3"
  },
  "language_info": {
   "codemirror_mode": {
    "name": "ipython",
    "version": 3
   },
   "file_extension": ".py",
   "mimetype": "text/x-python",
   "name": "python",
   "nbconvert_exporter": "python",
   "pygments_lexer": "ipython3",
   "version": "3.10.12"
  }
 },
 "nbformat": 4,
 "nbformat_minor": 5
}
