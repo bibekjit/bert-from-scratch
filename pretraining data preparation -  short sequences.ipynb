{
 "cells": [
  {
   "cell_type": "code",
   "execution_count": 1,
   "id": "b0954621",
   "metadata": {},
   "outputs": [],
   "source": [
    "import numpy as np\n",
    "import seaborn as sb\n",
    "import json\n",
    "import pandas as pd\n",
    "import nltk\n",
    "from nltk.tokenize import TreebankWordTokenizer,sent_tokenize\n",
    "import matplotlib.pyplot as plt\n",
    "from tqdm.auto import tqdm\n",
    "import random\n",
    "import re, pickle\n",
    "import contractions as con\n",
    "from string import punctuation\n",
    "from collections import Counter\n",
    "\n",
    "tk = TreebankWordTokenizer()"
   ]
  },
  {
   "cell_type": "code",
   "execution_count": 2,
   "id": "52dd9802",
   "metadata": {},
   "outputs": [],
   "source": [
    "# load datasets\n",
    "\n",
    "twitter = pd.read_csv('/home/bibek/notebooks/tweet_16.csv',encoding='latin-1')\n",
    "twitter = twitter[twitter.columns[-1]]\n",
    "\n",
    "reddit = pd.read_csv('/home/bibek/Downloads/reddit.csv',encoding='latin-1').full_text\n",
    "imdb_reviews = pd.read_csv('IMDB Dataset.csv').review\n",
    "movie_plots = pd.read_csv('wiki_movie_plots_deduped.csv',encoding='latin-1').Plot"
   ]
  },
  {
   "cell_type": "code",
   "execution_count": 3,
   "id": "9db51bc7",
   "metadata": {},
   "outputs": [
    {
     "data": {
      "text/plain": [
       "1748912"
      ]
     },
     "execution_count": 3,
     "metadata": {},
     "output_type": "execute_result"
    }
   ],
   "source": [
    "# consolidate data\n",
    "\n",
    "text = []\n",
    "\n",
    "text.extend(twitter)\n",
    "text.extend(reddit)\n",
    "text.extend(movie_plots)\n",
    "text.extend(imdb_reviews)\n",
    "\n",
    "len(text)"
   ]
  },
  {
   "cell_type": "code",
   "execution_count": 4,
   "id": "a24ee0ab",
   "metadata": {},
   "outputs": [],
   "source": [
    "def preprocess_text(x):\n",
    "    \"\"\"\n",
    "    cleaning tweets -> \n",
    "    @user -> USER\n",
    "    urls -> LINK\n",
    "    keep only !,.:#? and add space \n",
    "    \"\"\"\n",
    "    x = str(x).replace('&amp;',' and ').replace('<br />','').replace('&quot;','').replace('&lt;','')\n",
    "    x = x.lower()\n",
    "    x = re.sub(r'[^\\x00-\\x7F]+', \"'\",x)\n",
    "    url_pattern = r'http\\S+|www\\S+'\n",
    "    x = re.sub(url_pattern, 'LINK', x).split()\n",
    "    for i,w in enumerate(x):\n",
    "        if '@' in w:\n",
    "            x[i] = 'USER'\n",
    "    x = ' '.join(x)\n",
    "    punct_to_keep = \"\"\"!,.:#?\"-;/%$'\"\"\"\n",
    "    punct = ''.join([p for p in punctuation if p not in punct_to_keep])\n",
    "    trans = str.maketrans(punct, ' ' * len(punct))\n",
    "    x = x.translate(trans)\n",
    "    x = ''.join(x)\n",
    "    x = re.sub(r'([!\"#$%&\\()*+,-./:;<=>?@\\\\^_`{|}~])\\s*\\1+', r'\\1', x)\n",
    "    x = re.sub(r'([!\"#$%&\\()*+,-./:;<=>?@\\\\^_`{|}~])', r' \\1 ', x)\n",
    "    x = re.sub(r'\\s+', ' ', x).strip().replace(\"'s \",\" 's \")\n",
    "    return x\n",
    "\n"
   ]
  },
  {
   "cell_type": "code",
   "execution_count": 5,
   "id": "a582c8ef",
   "metadata": {},
   "outputs": [],
   "source": [
    "np.random.shuffle(text)"
   ]
  },
  {
   "cell_type": "code",
   "execution_count": 6,
   "id": "3109689b",
   "metadata": {
    "scrolled": false
   },
   "outputs": [
    {
     "name": "stdout",
     "output_type": "stream",
     "text": [
      "says off to EGI  basag friends, here i come (headspin) http://plurk.com/p/111hyl\n",
      "\n",
      "says off to egi basag friends , here i come headspin LINK\n",
      "-----------------------------------------------\n",
      "i wish people would @reply me  i need conversation\n",
      "\n",
      "i wish people would USER me i need conversation\n",
      "-----------------------------------------------\n",
      "@Custardcuppcake ony the insistance of following &quot;nicole&quot; because she is sooo cool \n",
      "\n",
      "USER ony the insistance of following nicole because she is sooo cool\n",
      "-----------------------------------------------\n",
      "hanging out in raykas house cause she's too scared to be alone  gotta love the bestfraaannn\n",
      "\n",
      "hanging out in raykas house cause she 's too scared to be alone gotta love the bestfraaannn\n",
      "-----------------------------------------------\n",
      "@carolynaaa28 btw that man i told you about yesterday, he finally died yesterday morning \n",
      "\n",
      "USER btw that man i told you about yesterday , he finally died yesterday morning\n",
      "-----------------------------------------------\n",
      "@hellosunshine05 thanks  no but seriously once we're older we have to go there!\n",
      "\n",
      "USER thanks no but seriously once we're older we have to go there !\n",
      "-----------------------------------------------\n",
      "@DDUBzLveableLeo @gold1989 Just did news search and saw!  Good for him!  HIs brother could have had one too if he &amp; mgmt had cooperated. \n",
      "\n",
      "USER USER just did news search and saw ! good for him ! his brother could have had one too if he and mgmt had cooperated .\n",
      "-----------------------------------------------\n",
      "I'm totally burning stood out here in the sun \n",
      "\n",
      "i'm totally burning stood out here in the sun\n",
      "-----------------------------------------------\n",
      "@ben_stiller_ parenting calls... i get it. have fun man. they don't stay little long enough \n",
      "\n",
      "USER parenting calls . i get it . have fun man . they don't stay little long enough\n",
      "-----------------------------------------------\n",
      "The way you make me feel \n",
      "\n",
      "the way you make me feel\n",
      "-----------------------------------------------\n"
     ]
    }
   ],
   "source": [
    "# sample cleaned text\n",
    "\n",
    "idx = np.random.randint(0,len(text) - 1,10)\n",
    "\n",
    "for i in idx:\n",
    "    print(text[i])\n",
    "    print()\n",
    "    print(preprocess_text(text[i]))\n",
    "    print('-----------------------------------------------')"
   ]
  },
  {
   "cell_type": "code",
   "execution_count": 7,
   "id": "fb6caa5b",
   "metadata": {},
   "outputs": [
    {
     "data": {
      "application/vnd.jupyter.widget-view+json": {
       "model_id": "",
       "version_major": 2,
       "version_minor": 0
      },
      "text/plain": [
       "  0%|          | 0/1748912 [00:00<?, ?it/s]"
      ]
     },
     "metadata": {},
     "output_type": "display_data"
    }
   ],
   "source": [
    "# clean text\n",
    "\n",
    "clean_text = [preprocess_text(x) for x in tqdm(text)]"
   ]
  },
  {
   "cell_type": "code",
   "execution_count": 8,
   "id": "ec5c3e67",
   "metadata": {},
   "outputs": [],
   "source": [
    "minlen = 20\n",
    "maxlen = 50"
   ]
  },
  {
   "cell_type": "code",
   "execution_count": 9,
   "id": "a7d42fe6",
   "metadata": {},
   "outputs": [],
   "source": [
    "# import pretrained custom tokenizer\n",
    "\n",
    "from bpe_tokenizer import BPETokenizer\n",
    "\n",
    "if __name__ == \"__main__\":\n",
    "\n",
    "    with open('tokenizer.pkl','rb') as f:\n",
    "        tokenizer = pickle.load(f)\n",
    "        "
   ]
  },
  {
   "cell_type": "code",
   "execution_count": 10,
   "id": "25dd56fc",
   "metadata": {},
   "outputs": [
    {
     "data": {
      "application/vnd.jupyter.widget-view+json": {
       "model_id": "",
       "version_major": 2,
       "version_minor": 0
      },
      "text/plain": [
       "  0%|          | 0/1748912 [00:00<?, ?it/s]"
      ]
     },
     "metadata": {},
     "output_type": "display_data"
    }
   ],
   "source": [
    "# split long text into smaller chunks\n",
    "\n",
    "def split_long_text(text,minlen=100,maxlen=200):\n",
    "    sents = sent_tokenize(text)\n",
    "    tmp = []\n",
    "    sent = ''\n",
    "    for s in sents:\n",
    "        if len((s + sent).split()) <= maxlen:\n",
    "            if s.split()[-1] not in punctuation:\n",
    "                sent = sent + s + '.'\n",
    "            else:\n",
    "                sent = sent + s\n",
    "            sent = sent.strip()\n",
    "            sent = re.sub(r'([!\"#$%&\\()*+,-./:;<=>?@\\\\^_`{|}~])', r' \\1 ', sent)\n",
    "            re.sub(r'\\s+', ' ', sent)\n",
    "        else:\n",
    "            sent = re.sub(r'([!\"#$%&\\()*+,-./:;<=>?@\\\\^_`{|}~])', r' \\1 ', sent)\n",
    "            tmp.append(sent)\n",
    "            sent = s\n",
    "    \n",
    "    sent = re.sub(r'([!\"#$%&\\()*+,-./:;<=>?@\\\\^_`{|}~])', r' \\1 ', sent)\n",
    "    sent = re.sub(r'\\s+', ' ', sent)\n",
    "    tmp.append(sent)\n",
    "    \n",
    "    return tmp\n",
    "    \n",
    "\n",
    "\n",
    "text_data = []\n",
    "\n",
    "for text in tqdm(clean_text):\n",
    "    if len(text.split()) >= minlen:\n",
    "        splitted_text = split_long_text(text,minlen=minlen,maxlen=maxlen)\n",
    "        text_data.extend(splitted_text)"
   ]
  },
  {
   "cell_type": "code",
   "execution_count": 11,
   "id": "126dbc1b",
   "metadata": {},
   "outputs": [
    {
     "name": "stdout",
     "output_type": "stream",
     "text": [
      "Number of sequences : 1293431\n"
     ]
    }
   ],
   "source": [
    "print('Number of sequences :',len(text_data))"
   ]
  },
  {
   "cell_type": "code",
   "execution_count": 12,
   "id": "d633a37b",
   "metadata": {},
   "outputs": [
    {
     "data": {
      "application/vnd.jupyter.widget-view+json": {
       "model_id": "",
       "version_major": 2,
       "version_minor": 0
      },
      "text/plain": [
       "  0%|          | 0/1293431 [00:00<?, ?it/s]"
      ]
     },
     "metadata": {},
     "output_type": "display_data"
    },
    {
     "data": {
      "text/plain": [
       "(492, 2)"
      ]
     },
     "execution_count": 12,
     "metadata": {},
     "output_type": "execute_result"
    }
   ],
   "source": [
    "# tokenize sequences\n",
    "\n",
    "token_seq = []\n",
    "\n",
    "for seq in tqdm(text_data):\n",
    "    seq = seq.strip()\n",
    "    seq = '<cls> ' + seq + ' <sep>'\n",
    "    seq = tokenizer.tokenize(seq)\n",
    "    token_seq.append(seq)\n",
    "\n",
    "maxlen = max([len(x) for x in token_seq])\n",
    "minlen = min([len(x) for x in token_seq])\n",
    "maxlen,minlen"
   ]
  },
  {
   "cell_type": "code",
   "execution_count": 13,
   "id": "a1069aef",
   "metadata": {},
   "outputs": [
    {
     "data": {
      "image/png": "[encoded data removed]",
      "text/plain": [
       "<Figure size 640x480 with 1 Axes>"
      ]
     },
     "metadata": {},
     "output_type": "display_data"
    }
   ],
   "source": [
    "# visualize token count in sequences\n",
    "\n",
    "plt.hist([len(x) for x in token_seq],bins=50)\n",
    "plt.show()"
   ]
  },
  {
   "cell_type": "code",
   "execution_count": 14,
   "id": "7ce118af",
   "metadata": {},
   "outputs": [
    {
     "data": {
      "text/plain": [
       "1175934"
      ]
     },
     "execution_count": 14,
     "metadata": {},
     "output_type": "execute_result"
    }
   ],
   "source": [
    "# only keeping sequences with minimum 20 and maximum 60 tokens\n",
    "\n",
    "token_seq = [x for x in token_seq if 20 <= len(x) <= 60]\n",
    "len(token_seq)"
   ]
  },
  {
   "cell_type": "code",
   "execution_count": 15,
   "id": "efb150f6",
   "metadata": {},
   "outputs": [
    {
     "data": {
      "image/png": "[encoded data removed]",
      "text/plain": [
       "<Figure size 640x480 with 1 Axes>"
      ]
     },
     "metadata": {},
     "output_type": "display_data"
    }
   ],
   "source": [
    "plt.hist([len(x) for x in token_seq],bins=50)\n",
    "plt.show()"
   ]
  },
  {
   "cell_type": "code",
   "execution_count": 16,
   "id": "eb319dd2",
   "metadata": {
    "scrolled": false
   },
   "outputs": [
    {
     "name": "stdout",
     "output_type": "stream",
     "text": [
      "USER happy mother 's day to you vanda\n",
      "-------------------------------------------------------\n",
      "USER happy mother 's day to you van ## da\n",
      "=========================================================\n",
      "i almost forgot what it felt like to be happy . and i thank him for remimding me . and momma too\n",
      "-------------------------------------------------------\n",
      "i almost forgot what it felt like to be happy . and i thank him for re ## mi ## m ## ding me . and momma too\n",
      "=========================================================\n",
      "seems like os 10 . 5 . 7 corrupted the sleepimage file on my imac g5 : LINK\n",
      "-------------------------------------------------------\n",
      "seems like os 10 . 5 . 7 corrupted the sleep ## image file on my ima ## c g ## 5 : LINK\n",
      "=========================================================\n",
      "help ! i signed up for daily twittascope and i can't unsubscribe ! anyone know how i can do this ?\n",
      "-------------------------------------------------------\n",
      "help ! i signed up for daily twit ## ta ## scope and i can't un ## subs ## crib ## e ! anyone know how i can do this ?\n",
      "=========================================================\n",
      "i wish for the whole truth everytime you speak . maths\n",
      "-------------------------------------------------------\n",
      "i wish for the whole truth everytime you speak . maths\n",
      "=========================================================\n",
      "USER simon said aidan wasnt as gd as last night tho ooh finally vlog ! and yes diversity were amazing ! ahhhh !\n",
      "-------------------------------------------------------\n",
      "USER simon said aidan wasnt as g ## d as last night tho ooh finally v ## log ! and yes diversity were amazing ! ahh ## hh !\n",
      "=========================================================\n",
      "USER yay that 's the way to go , retail therapy cures everything\n",
      "-------------------------------------------------------\n",
      "USER yay that 's the way to go , retail therapy cures everything\n",
      "=========================================================\n",
      "USER sorry to hear that . the good thing is you could have a new car as early as next week ! that 's party worthy , sister !\n",
      "-------------------------------------------------------\n",
      "USER sorry to hear that . the good thing is you could have a new car as early as next week ! that 's party worthy , sister !\n",
      "=========================================================\n",
      "passing time with free airtel wi - fi USER new terminal 1d , by the way my lappy 's battery is running out fast and no switch to charge\n",
      "-------------------------------------------------------\n",
      "passing time with free air ## tel w ## i - fi USER new terminal 1 ## d , by the way my lap ## p ## y 's battery is running out fast and no switch to charge\n",
      "=========================================================\n",
      "a moment of content unavailable sadness . movie is uk - only LINK\n",
      "-------------------------------------------------------\n",
      "a moment of content unavailable sadness . movie is uk - only LINK\n",
      "=========================================================\n"
     ]
    }
   ],
   "source": [
    "# sample subword-split\n",
    "\n",
    "idx = np.random.randint(0,len(clean_text),10)\n",
    "\n",
    "\n",
    "for i in idx:\n",
    "    seq = clean_text[i].split()\n",
    "    seq = ' '.join([tokenizer._split_oov(x) for x in seq])\n",
    "    print(clean_text[i])\n",
    "    print('-------------------------------------------------------')\n",
    "    print(seq)\n",
    "    print('=========================================================')"
   ]
  },
  {
   "cell_type": "code",
   "execution_count": 17,
   "id": "18b06b7b",
   "metadata": {},
   "outputs": [],
   "source": [
    "# pad token sequences\n",
    "\n",
    "token_seq = np.asarray([tokenizer.add_padding(seq,maxlen=60) for seq in token_seq])"
   ]
  },
  {
   "cell_type": "code",
   "execution_count": 18,
   "id": "905ef41e",
   "metadata": {},
   "outputs": [
    {
     "data": {
      "text/plain": [
       "(1175934, 60)"
      ]
     },
     "execution_count": 18,
     "metadata": {},
     "output_type": "execute_result"
    }
   ],
   "source": [
    "token_seq.shape"
   ]
  },
  {
   "cell_type": "code",
   "execution_count": 19,
   "id": "a8ddb52a",
   "metadata": {},
   "outputs": [
    {
     "data": {
      "text/plain": [
       "'the, ., ,, to, and, a, of, is, in, that, <sep>, <pad>, <cls>, ##'"
      ]
     },
     "execution_count": 19,
     "metadata": {},
     "output_type": "execute_result"
    }
   ],
   "source": [
    "def get_dont_mask_tokens(vocab):\n",
    "    tokens = list(dict(sorted(vocab.tokens.items(), key=lambda x: x[1], reverse=True)))[:10]\n",
    "    tokens = tokens\n",
    "    tokens = [vocab.w2i[t] for t in tokens] + [2,0,4,5]\n",
    "    return np.asarray(tokens,np.int32)\n",
    "\n",
    "dont_mask_tokens = get_dont_mask_tokens(tokenizer)\n",
    "', '.join([tokenizer.i2w[t] for t in dont_mask_tokens])"
   ]
  },
  {
   "cell_type": "code",
   "execution_count": 20,
   "id": "1ea46025",
   "metadata": {
    "scrolled": false
   },
   "outputs": [
    {
     "data": {
      "text/plain": [
       "(array([    4,    14, 19948,    73,  2755,   100,   135,    77,  1093,\n",
       "          392,  5656, 19947,     8,    96,    65,  1922, 19946,   112,\n",
       "           66,    19,     6,  1125,    11,    96,   161,  8463,    12,\n",
       "            3,     9,  4120,  5974,    19,   955,  1543,   100,   119,\n",
       "           10,     6,   542, 15878,  2334,     5,  7036,   596,    49,\n",
       "           46,     6,    66, 19951,     2,     0,     0,     0,     0,\n",
       "            0,     0,     0,     0,     0,     0], dtype=int32),\n",
       " array([    4,    14, 19948,    73,  2755,   100,   135,    77,  1093,\n",
       "          392,  5656, 19947,     8,    96,    65,  1922,     1,   112,\n",
       "           66,    19,     6,  1125,    11,    96,   161,  8463,    12,\n",
       "            3,     9,  4120,  5974,    19,   955,     1,     1,   119,\n",
       "           10,     6,     1, 15878,  2334,     5,     1,   596,    49,\n",
       "            1,     6,    66, 19951,     2,     0,     0,     0,     0,\n",
       "            0,     0,     0,     0,     0,     0], dtype=int32))"
      ]
     },
     "execution_count": 20,
     "metadata": {},
     "output_type": "execute_result"
    }
   ],
   "source": [
    "def create_masked_data(sequence,vocab_size,for_train=True,dont_mask_toks=np.asarray([2,0,4,5],np.int32)):\n",
    "    \n",
    "    seq = np.asarray(sequence,dtype=np.int32)\n",
    "    \n",
    "    # mask 12% of tokens\n",
    "    end = np.where(seq == 2)[0][0]\n",
    "    masked_seq = seq.copy()\n",
    "    n_mask = int(len(np.where(seq>0)[0])*0.12)\n",
    "    mask = ~np.isin(seq, dont_mask_toks)\n",
    "    to_mask_idx = np.where(mask)[0]\n",
    "    to_mask_prob = n_mask/len(to_mask_idx)\n",
    "    probs = np.linspace(0,1,len(to_mask_idx))\n",
    "    np.random.shuffle(probs)\n",
    "    to_mask = masked_seq[to_mask_idx].copy()\n",
    "    to_mask = np.where(probs>=to_mask_prob,to_mask,1)\n",
    "    masked_seq[to_mask_idx] = to_mask\n",
    "    masked_idx = np.where(masked_seq == 1)[0]\n",
    "    \n",
    "    # replace 1% of tokens with random tokens (only for training data) \n",
    "    if for_train:\n",
    "        non_masked_idx = np.where(masked_seq > 5)[0]\n",
    "        num_tok_to_replace = int((len(seq) - 2) * 0.015)\n",
    "        rand_idx = non_masked_idx[np.random.randint(0,len(non_masked_idx)-1,num_tok_to_replace)]\n",
    "        rand_replacements = np.random.randint(6,vocab_size,num_tok_to_replace)\n",
    "        masked_seq[rand_idx] = rand_replacements\n",
    "        \n",
    "    return seq,masked_seq\n",
    "\n",
    "i = np.random.randint(0,len(token_seq))\n",
    "create_masked_data(token_seq[i],len(tokenizer.i2w),for_train=True)"
   ]
  },
  {
   "cell_type": "code",
   "execution_count": 21,
   "id": "bf45e38d",
   "metadata": {},
   "outputs": [
    {
     "name": "stdout",
     "output_type": "stream",
     "text": [
      "<cls> it 's also easier than many other zero waste habits , and much more effective . your time for the planet is much better invested in <unk> a vegan recipe for dinner tonight than most of the stuff minimalist influence ## rs talk about all the time ! <sep>\n",
      "\n",
      "<cls> it 's also easier than many other <mask> waste <mask> , and much more effective . your time for the <mask> is much better invested in <mask> a vegan recipe for dinner tonight than most of the stuff <mask> <mask> ## rs talk about all the time ! <sep>\n",
      "\n",
      "zero habits planet <unk> minimalist influence\n"
     ]
    }
   ],
   "source": [
    "seq,masked = create_masked_data(token_seq[i],len(tokenizer.i2w),for_train=True)\n",
    "\n",
    "print(' '.join([tokenizer.i2w[t] for t in seq if t != 0]))\n",
    "print()\n",
    "print(' '.join([tokenizer.i2w[t] for t in masked if t != 0]))\n",
    "print()\n",
    "idx = np.where(masked == 1)[0]\n",
    "print(' '.join([tokenizer.i2w[t] for t in seq[idx] if t != 0]))"
   ]
  },
  {
   "cell_type": "code",
   "execution_count": 22,
   "id": "eaaf9247",
   "metadata": {},
   "outputs": [],
   "source": [
    "np.random.shuffle(token_seq)"
   ]
  },
  {
   "cell_type": "code",
   "execution_count": 23,
   "id": "404d367a",
   "metadata": {},
   "outputs": [],
   "source": [
    "# dictionary for storing train and val sets\n",
    "\n",
    "pretraining_data = {'train':{'seq':[],'masked_seq':[]},\n",
    "                    'valid':{'seq':[],'masked_seq':[]}}"
   ]
  },
  {
   "cell_type": "code",
   "execution_count": 24,
   "id": "1b5caf1a",
   "metadata": {},
   "outputs": [
    {
     "data": {
      "application/vnd.jupyter.widget-view+json": {
       "model_id": "0b6ce2850fa74bbb96dd18805ba2d048",
       "version_major": 2,
       "version_minor": 0
      },
      "text/plain": [
       "  0%|          | 0/1175934 [00:00<?, ?it/s]"
      ]
     },
     "metadata": {},
     "output_type": "display_data"
    }
   ],
   "source": [
    "# split train and val\n",
    "\n",
    "train,valid = [],[]\n",
    "size = len(tokenizer.i2w)\n",
    "val_size = 100000\n",
    "\n",
    "for i,seq in enumerate(tqdm(token_seq)):\n",
    "    \n",
    "    if i >= val_size:\n",
    "        seq,masked_seq = create_masked_data(seq,size,for_train=True)\n",
    "        if len(seq) > 0:\n",
    "            train.append((seq,masked_seq))\n",
    "        \n",
    "    else:\n",
    "        seq,masked_seq = create_masked_data(seq,size,for_train=False)\n",
    "        if len(seq) > 0:\n",
    "            valid.append((seq,masked_seq))\n",
    "        \n",
    "\n",
    "        "
   ]
  },
  {
   "cell_type": "code",
   "execution_count": 25,
   "id": "c6457d25",
   "metadata": {},
   "outputs": [
    {
     "data": {
      "text/plain": [
       "(1075934, 100000)"
      ]
     },
     "execution_count": 25,
     "metadata": {},
     "output_type": "execute_result"
    }
   ],
   "source": [
    "np.random.shuffle(train)\n",
    "np.random.shuffle(valid)   \n",
    "\n",
    "len(train),len(valid)"
   ]
  },
  {
   "cell_type": "code",
   "execution_count": 26,
   "id": "545127c8",
   "metadata": {},
   "outputs": [],
   "source": [
    "# store train and val sets\n",
    "\n",
    "for seq,masked in train:\n",
    "    pretraining_data['train']['masked_seq'].append(masked)\n",
    "    pretraining_data['train']['seq'].append(seq)\n",
    "    \n",
    "for seq,masked in valid:\n",
    "    pretraining_data['valid']['masked_seq'].append(masked)\n",
    "    pretraining_data['valid']['seq'].append(seq)"
   ]
  },
  {
   "cell_type": "code",
   "execution_count": 27,
   "id": "f739985e",
   "metadata": {},
   "outputs": [],
   "source": [
    "# data and tokenizer\n",
    "\n",
    "with open('short-length pretraining data.pkl','wb') as f:\n",
    "    pickle.dump(pretraining_data,f)\n",
    "    \n",
    "with open('tokenizer.pkl','wb') as f:\n",
    "    pickle.dump(tokenizer,f)"
   ]
  }
 ],
 "metadata": {
  "kernelspec": {
   "display_name": "Python 3 (ipykernel)",
   "language": "python",
   "name": "python3"
  },
  "language_info": {
   "codemirror_mode": {
    "name": "ipython",
    "version": 3
   },
   "file_extension": ".py",
   "mimetype": "text/x-python",
   "name": "python",
   "nbconvert_exporter": "python",
   "pygments_lexer": "ipython3",
   "version": "3.10.12"
  }
 },
 "nbformat": 4,
 "nbformat_minor": 5
}
