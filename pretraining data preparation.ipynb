{
 "cells": [
  {
   "cell_type": "code",
   "execution_count": 1,
   "id": "c700566e",
   "metadata": {},
   "outputs": [],
   "source": [
    "import numpy as np\n",
    "import seaborn as sb\n",
    "import json\n",
    "import pandas as pd\n",
    "import nltk\n",
    "from nltk.tokenize import TreebankWordTokenizer,sent_tokenize\n",
    "import matplotlib.pyplot as plt\n",
    "from tqdm import tqdm\n",
    "import random\n",
    "import re, pickle\n",
    "from tokenizers import ByteLevelBPETokenizer\n",
    "import contractions as con\n",
    "import string\n",
    "\n",
    "tk = TreebankWordTokenizer()"
   ]
  },
  {
   "cell_type": "code",
   "execution_count": 2,
   "id": "9f0a153d",
   "metadata": {},
   "outputs": [],
   "source": [
    "# load only the required data\n",
    "df = pd.read_csv('IMDB Dataset.csv')"
   ]
  },
  {
   "cell_type": "code",
   "execution_count": 3,
   "id": "1ad2ea12",
   "metadata": {},
   "outputs": [],
   "source": [
    "def clean_text(text):\n",
    "    # Create a translation table that maps all punctuation characters to spaces\n",
    "    text = [con.fix(w) for w in text.split()]\n",
    "    text = ' '.join(text).lower()\n",
    "    translation_table = str.maketrans(string.punctuation, ' ' * len(string.punctuation))\n",
    "    \n",
    "    # remove url\n",
    "    url_pattern = r'http\\S+|www\\S+'\n",
    "    text = re.sub(url_pattern, '', text)\n",
    "    \n",
    "    # Use the translate method to replace punctuation with spaces\n",
    "    result_string = text.translate(translation_table)\n",
    "    \n",
    "    # remove punctuations\n",
    "    text = re.sub(r'\\s+', ' ', result_string)\n",
    "    text = tk.tokenize(text)\n",
    "    text = [w for w in text if w.isalpha()]\n",
    "    text = ' '.join(text)\n",
    "    return text\n"
   ]
  },
  {
   "cell_type": "code",
   "execution_count": 4,
   "id": "124ef579",
   "metadata": {},
   "outputs": [],
   "source": [
    "df.review = df.review.apply(lambda x: x.replace('<br />',' '))"
   ]
  },
  {
   "cell_type": "code",
   "execution_count": 5,
   "id": "5eb863e9",
   "metadata": {},
   "outputs": [
    {
     "name": "stdout",
     "output_type": "stream",
     "text": [
      "Ann-Margret did the best job she has ever done in her history of film making. I felt as if she WAS Mrs. Frey. There might be one or two films of Ann-Margret's I have not seen since her film debut in \"Pocket full of Miracles\" with Betty Davis in 1961. I feel she has been totally under-rated in the industry. Though she was nominated for an Emmy Award for this role in \"Who Will Love My Children,\" she was overlooked. Like she was nominated for an Academy Award for her roles in \"Carnal Knowledge\" and \"Tommy,\" she was snubbed. Over all, I think everyone did a superb acting job including all the children in \"Who Will Love My Children.\" Yes, it is a sad movie (as true stories can be), but well worth the time. Thank you.\n",
      "\n"
     ]
    },
    {
     "data": {
      "text/plain": [
       "'ann margret did the best job she has ever done in her history of film making i felt as if she was mrs frey there might be one or two films of ann margret s i have not seen since her film debut in pocket full of miracles with betty davis in i feel she has been totally under rated in the industry though she was nominated for an emmy award for this role in who will love my children she was overlooked like she was nominated for an academy award for her roles in carnal knowledge and tommy she was snubbed over all i think everyone did a superb acting job including all the children in who will love my children yes it is a sad movie as true stories can be but well worth the time thank you'"
      ]
     },
     "execution_count": 5,
     "metadata": {},
     "output_type": "execute_result"
    }
   ],
   "source": [
    "i = np.random.randint(0,49000)\n",
    "\n",
    "print(df.review[i])\n",
    "print()\n",
    "clean_text(df.review[i])"
   ]
  },
  {
   "cell_type": "code",
   "execution_count": 6,
   "id": "f9664c00",
   "metadata": {},
   "outputs": [],
   "source": [
    "# segregate sentences from each sample and clean text\n",
    "df['sentences'] = df.review.apply(lambda x: sent_tokenize(x))\n",
    "df['sentences'] = df.sentences.apply(lambda x: [clean_text(sent) for sent in x])\n",
    "df['clean_text'] = df.sentences.apply(lambda x: ' '.join(x))\n"
   ]
  },
  {
   "cell_type": "code",
   "execution_count": 7,
   "id": "0a7175dc",
   "metadata": {},
   "outputs": [
    {
     "data": {
      "text/plain": [
       "<AxesSubplot: >"
      ]
     },
     "execution_count": 7,
     "metadata": {},
     "output_type": "execute_result"
    },
    {
     "data": {
      "image/png": "[encoded data removed]",
      "text/plain": [
       "<Figure size 640x480 with 1 Axes>"
      ]
     },
     "metadata": {},
     "output_type": "display_data"
    }
   ],
   "source": [
    "# word count distribution\n",
    "df.clean_text.apply(lambda x: len(x.split())).hist(bins=50)"
   ]
  },
  {
   "cell_type": "code",
   "execution_count": 8,
   "id": "f53eb68b",
   "metadata": {},
   "outputs": [
    {
     "data": {
      "text/plain": [
       "<AxesSubplot: >"
      ]
     },
     "execution_count": 8,
     "metadata": {},
     "output_type": "execute_result"
    },
    {
     "data": {
      "image/png": "[encoded data removed]",
      "text/plain": [
       "<Figure size 640x480 with 1 Axes>"
      ]
     },
     "metadata": {},
     "output_type": "display_data"
    }
   ],
   "source": [
    "# sentence count distribution\n",
    "df.sentences.apply(lambda x: len(x)).hist(bins=50)"
   ]
  },
  {
   "cell_type": "code",
   "execution_count": 9,
   "id": "fcd378ad",
   "metadata": {},
   "outputs": [
    {
     "data": {
      "text/plain": [
       "0.8807"
      ]
     },
     "execution_count": 9,
     "metadata": {},
     "output_type": "execute_result"
    }
   ],
   "source": [
    "# get samples with atleast 100 words\n",
    "minlen = 100\n",
    "df['word_count'] = df.clean_text.apply(lambda x: len(x.split()))\n",
    "data = df[df.word_count >= minlen].copy()\n",
    "data = data.reset_index(drop=True)\n",
    "len(data)/len(df)"
   ]
  },
  {
   "cell_type": "code",
   "execution_count": 10,
   "id": "91cc456f",
   "metadata": {},
   "outputs": [],
   "source": [
    "# vocabulary class\n",
    "\n",
    "class Vocabulary:\n",
    "    def __init__(self):\n",
    "        self.special_toks = ['<pad>','<mask>','<unk>','<cls>','<sep>']\n",
    "        self.w2i = {'<pad>':0,'<sep>':2,'<mask>':1,'<unk>':3,'<cls>':4}\n",
    "        self.i2w = {self.w2i[k]:k for k in self.w2i}\n",
    "        self.size = len(self.special_toks)\n",
    "        self.wc = {}\n",
    "        \n",
    "    def __call__(self,text):\n",
    "        \n",
    "        for sent in text:\n",
    "            words = sent.split()\n",
    "            for w in words:\n",
    "                if w not in self.w2i and w not in self.special_toks:\n",
    "                    self.w2i[w] = self.size\n",
    "                    self.i2w[self.size] = w\n",
    "                    self.size += 1\n",
    "                    \n",
    "                    self.wc[w] = 1\n",
    "                    \n",
    "                else:\n",
    "                    self.wc[w] += 1\n",
    "                    \n",
    "        self.wc = dict(sorted(self.wc.items(), key=lambda x: x[1], reverse=True))\n",
    "        \n",
    "    def tokenize(self,seq):\n",
    "        seq = seq.split()\n",
    "        for i,w in enumerate(seq):\n",
    "            if w not in self.wc:\n",
    "                seq[i] = 3\n",
    "            else:\n",
    "                seq[i] = self.w2i[w]\n",
    "                \n",
    "        return seq\n",
    "                \n",
    "    def add_padding(self,seq,maxlen):\n",
    "        padding = [0]*(maxlen - len(seq))\n",
    "        return seq + padding\n",
    "        \n",
    "        "
   ]
  },
  {
   "cell_type": "code",
   "execution_count": 11,
   "id": "16c39bd4",
   "metadata": {},
   "outputs": [
    {
     "name": "stdout",
     "output_type": "stream",
     "text": [
      "vocabulary size : 95935 words\n",
      "number of sequences : 61704\n"
     ]
    }
   ],
   "source": [
    "# create sample for train and test\n",
    "# min input sequence length is will be 100 and max will be 200\n",
    "\n",
    "def split_long_text(text,minlen=100,maxlen=200):\n",
    "    splitted_text = []\n",
    "    if len(text.split()) > maxlen:\n",
    "        seq = text.split()\n",
    "        n_div = len(seq) // maxlen + 1\n",
    "        for i in range(n_div):\n",
    "            tmp = seq[i*maxlen:(i+1)*maxlen]\n",
    "            if len(tmp) >= minlen:\n",
    "                splitted_text.append(tmp)\n",
    "    elif maxlen >= len(text.split()) >= minlen:\n",
    "        splitted_text.append(text.split())\n",
    "                \n",
    "    return splitted_text\n",
    "\n",
    "text_data = []\n",
    "\n",
    "for text in data.clean_text:\n",
    "    splitted_text = split_long_text(text)\n",
    "    text_data.extend(splitted_text)\n",
    "    \n",
    "text_data = [' '.join(x).replace(' s ',' ') for x in text_data]\n",
    "\n",
    "np.random.shuffle(text_data)\n",
    "\n",
    "# create vocabulary\n",
    "vocab = Vocabulary()\n",
    "vocab(text_data)\n",
    "vocab.wc\n",
    "print('vocabulary size :',vocab.size,'words')\n",
    "print('number of sequences :',len(text_data))"
   ]
  },
  {
   "cell_type": "code",
   "execution_count": 12,
   "id": "468365df",
   "metadata": {},
   "outputs": [],
   "source": [
    "# tokenize sequences\n",
    "token_seq = [vocab.tokenize(x) for x in text_data]\n",
    "maxlen = max([len(x) for x in token_seq])"
   ]
  },
  {
   "cell_type": "code",
   "execution_count": 13,
   "id": "a8ae3d8b",
   "metadata": {},
   "outputs": [],
   "source": [
    "# create sentence pairs\n",
    "\n",
    "sent_pairs = []\n",
    "\n",
    "for seq in token_seq:\n",
    "    if len(token_seq) <= maxlen - 3:\n",
    "        s1 = [4]+seq[:len(seq)//2]+[2]\n",
    "        s2 = seq[len(seq)//2:]+[2]\n",
    "    else:\n",
    "        seq[0] = vocab.w2i['<cls>']\n",
    "        seq[len(seq)//2] = 2\n",
    "        s1 = seq[:len(seq)//2 + 1]\n",
    "        seq[-1] = 2\n",
    "        s2 = seq[len(seq)//2 + 1:]\n",
    "    sent_pairs.append((s1,s2))    \n",
    "    \n",
    "random.shuffle(sent_pairs)"
   ]
  },
  {
   "cell_type": "code",
   "execution_count": 14,
   "id": "cffc4429",
   "metadata": {},
   "outputs": [
    {
     "name": "stdout",
     "output_type": "stream",
     "text": [
      "<cls> vastly underrated black comedy the finest in a series of grand guignol movies to follow baby jane reynolds and winters are mothers of young convicted murderers a nod to compulsion who run away to hide in hollywood they run a school for would be movie tots a bunch of hilariously untalented kids attended by awful stage moms debbie in her blonde wig i am a harlow you are more a marion davies she tells winters leads the tots <sep> their concert and wins a rich dad weaver she also does a deliciously funny tango and over all gives an outstanding performance unlike anything she would done before the atmosphere is a fine mix of comic and eerie it looks wonderful with great period detail lots of lovely swipes at hollywood and the terrifying movie tot micheal macliammoir has a ball as the drama coach hamilton starr he purrs two r but prophetic nonetheless see it and love <sep>\n",
      "\n",
      "<cls> did not catch gilmore girls when it first came out so still doing some catch up on the first season i read through most of the users comments and for the negative ones i have to ask what show are you watching this show is a classic great lines characters and good acting and best of all not your standard <sep> word but it is reminiscent of rosencrantz and guildernstern are dead i love the way the story builds up slowly at first then gradually escalates i also enjoy the fact that no explanation is given for what happens in the film that and the fact that the story plays out mainly in just the one set are the only respects in which this film is similar to cube i recommend <sep>\n"
     ]
    }
   ],
   "source": [
    "# segregate sentence pairs \"next\" and \"not next\"\n",
    " \n",
    "is_next = sent_pairs[:len(sent_pairs)//2]\n",
    "is_next = [(x[0]+x[1],1) for x in is_next]\n",
    "\n",
    "not_next = sent_pairs[len(sent_pairs)//2:]\n",
    "not_next0 = [x[0] for x in not_next]\n",
    "not_next1 = [x[1] for x in not_next]\n",
    "random.shuffle(not_next1)\n",
    "not_next = [(not_next0[i]+not_next1[i],0) for i in range(len(not_next))]\n",
    "\n",
    "i = np.random.randint(0,len(is_next))\n",
    "print(' '.join([vocab.i2w[x] for x in is_next[i][0] if x>0]))\n",
    "print()\n",
    "print(' '.join([vocab.i2w[x] for x in not_next[i][0] if x>0]))"
   ]
  },
  {
   "cell_type": "code",
   "execution_count": 15,
   "id": "0ec3de36",
   "metadata": {},
   "outputs": [
    {
     "data": {
      "text/plain": [
       "(array([    4,   298,   197,   251,   440, 27346,   200,    34,   865,\n",
       "        27346,    92, 11132,   219,   206,   174,   128,   551,    92,\n",
       "          108,  1564,   291, 13302,    95, 10213,   393,    20,  1183,\n",
       "          144,   143,    40,  1129,  1130,    92,   190,    40,   113,\n",
       "         5636,   291,   321,    20,   321,   225,    13,    14,  1294,\n",
       "           23,  2594,   149,   587,   437,     5,   324,  6693,  8556,\n",
       "        15199,   144,   189,     2,   230,    23,    40,  3491,   156,\n",
       "          157, 10968, 18500,   170,   197,   455,  2000,    95,   159,\n",
       "          171,  1644,   149,   150,   159,   455,   152,    25,    22,\n",
       "          452,   185,    69,   113,   460,   150,  2401,     6,   403,\n",
       "           18,     6,   551,   807,   533,   236,  1762,   682,   270,\n",
       "           18,   381,    14,  4409,  3872,   225,   200,   216,   159,\n",
       "         1200,   372,  4928,   161,   162,   202,   253,     6,  2124,\n",
       "         2912,   270,   237,    14,  9060,   232,     6,  2036,   408,\n",
       "          221,    34,   432,   512,    20, 12491,   381,    95,    13,\n",
       "           14,   718,   181,     6,  3568,   424,   455,   236,     6,\n",
       "        54520, 47259,   785,  2592,   785, 17383,   555,    40,   801,\n",
       "         2517,   265,  7373,     2,     0,     0,     0,     0,     0,\n",
       "            0,     0,     0,     0,     0,     0,     0,     0,     0,\n",
       "            0,     0,     0,     0,     0,     0,     0,     0,     0,\n",
       "            0,     0,     0,     0,     0,     0,     0,     0,     0,\n",
       "            0,     0,     0,     0,     0,     0,     0,     0,     0,\n",
       "            0,     0]),\n",
       " array([0, 0, 0, 0, 0, 0, 0, 0, 0, 0, 0, 0, 0, 0, 0, 0, 0, 0, 0, 0, 0, 0,\n",
       "        0, 0, 0, 0, 0, 0, 0, 0, 0, 0, 0, 0, 0, 0, 0, 0, 0, 0, 0, 0, 0, 0,\n",
       "        0, 0, 0, 0, 0, 0, 0, 0, 0, 0, 0, 0, 0, 0, 1, 1, 1, 1, 1, 1, 1, 1,\n",
       "        1, 1, 1, 1, 1, 1, 1, 1, 1, 1, 1, 1, 1, 1, 1, 1, 1, 1, 1, 1, 1, 1,\n",
       "        1, 1, 1, 1, 1, 1, 1, 1, 1, 1, 1, 1, 1, 1, 1, 1, 1, 1, 1, 1, 1, 1,\n",
       "        1, 1, 1, 1, 1, 1, 1, 1, 1, 1, 1, 1, 1, 1, 1, 1, 1, 1, 1, 1, 1, 1,\n",
       "        1, 1, 1, 1, 1, 1, 1, 1, 1, 1, 1, 1, 1, 1, 1, 1, 1, 1, 1, 1, 1, 1,\n",
       "        1, 1, 1, 0, 0, 0, 0, 0, 0, 0, 0, 0, 0, 0, 0, 0, 0, 0, 0, 0, 0, 0,\n",
       "        0, 0, 0, 0, 0, 0, 0, 0, 0, 0, 0, 0, 0, 0, 0, 0, 0, 0, 0, 0, 0, 0,\n",
       "        0, 0]),\n",
       " 0)"
      ]
     },
     "execution_count": 15,
     "metadata": {},
     "output_type": "execute_result"
    }
   ],
   "source": [
    "# create segments for sentence\n",
    "\n",
    "def create_segments(x,maxlen=200):\n",
    "    seq,out = x\n",
    "    seq = vocab.add_padding(seq,maxlen)\n",
    "    assert maxlen >= len(seq)\n",
    "    seq = np.asarray(seq)\n",
    "    seg = np.zeros(seq.shape,dtype=np.int32)\n",
    "    sep_idx = np.where(seq == 2)[0]\n",
    "    seg[sep_idx[0]+1:sep_idx[1]+1] = 1\n",
    "    return seq,seg,out\n",
    "\n",
    "create_segments(not_next[1],maxlen=maxlen)   "
   ]
  },
  {
   "cell_type": "code",
   "execution_count": 16,
   "id": "896ffa6e",
   "metadata": {},
   "outputs": [],
   "source": [
    "is_next = [create_segments(x,maxlen) for x in is_next]\n",
    "not_next = [create_segments(x,maxlen) for x in not_next]"
   ]
  },
  {
   "cell_type": "code",
   "execution_count": 17,
   "id": "bd8cb0ab",
   "metadata": {},
   "outputs": [
    {
     "data": {
      "text/plain": [
       "'<sep>, <pad>, <cls>, the, and, a, of, is, to, in, it, i, this, that, not, was, as, with, for'"
      ]
     },
     "execution_count": 17,
     "metadata": {},
     "output_type": "execute_result"
    }
   ],
   "source": [
    "# don't mask most frequent stopwords (for MLM)\n",
    "\n",
    "with open('D:/stop_words_english.txt','r',encoding='utf-8') as f:\n",
    "    stopwords = f.readlines()\n",
    "stopwords = [w.replace('\\n','') for w in stopwords]\n",
    "\n",
    "def get_dont_mask_tokens(word_count,stopwords,word2idx):\n",
    "    tokens = [vocab.w2i['<sep>'],vocab.w2i['<pad>'],vocab.w2i['<cls>']]\n",
    "    count = 0\n",
    "    for x in word_count:\n",
    "        if x not in stopwords:\n",
    "            break\n",
    "        tokens.append(word2idx[x])\n",
    "        count += 1\n",
    "        \n",
    "    return np.asarray(tokens,np.int32)\n",
    "\n",
    "dont_mask_tokens = get_dont_mask_tokens(vocab.wc,stopwords,vocab.w2i)\n",
    "', '.join([vocab.i2w[t] for t in dont_mask_tokens])"
   ]
  },
  {
   "cell_type": "code",
   "execution_count": 18,
   "id": "f3eabe56",
   "metadata": {},
   "outputs": [
    {
     "data": {
      "text/plain": [
       "(array([    4,  2830,     6,   322,  3049,   206,  2205,   149,   170,\n",
       "          171,  4310,   232,   144,   189,    69,   200,    34,   455,\n",
       "          437,  2405,   189,     6,   209,   321,   396,   544,     6,\n",
       "         6279,    34,   232,   187,     6,   403,    18,     6,   189,\n",
       "           34,   651,  1273,     6,   407,    34,   543,     6,   529,\n",
       "           47,     6,   938,  1627,  2275,   279,   938,     6,   938,\n",
       "          356,   159,   357,    20,   434,    22,    40,  2657,   322,\n",
       "           13,  1673,     6,  6279,   180,   183,    13,  2290,  5929,\n",
       "           90,    13,   190,   159,  1426,   379,    20,   190,     5,\n",
       "          200,   180,   183,    95,   143,  1118,    20,  2070,   200,\n",
       "          280,     6,  1063,   198,    13,  1673,   200,    90,     6,\n",
       "         1840,     2,   107,   232,   437,  1186,    95,  4614,   187,\n",
       "          181,   378,   183,   495,   206,   329,     6,  2781,    95,\n",
       "         1760,    58,  1399,   270,    18,   318,  1703,   144,    34,\n",
       "          177,    40,   201,   189,    61,   226,    61,   438,  6757,\n",
       "          434,   983,     5, 12770,    14,  7042,  7985,    95, 12806,\n",
       "        45205,     6,   242, 32597,    34,   427,   428,  3736,     2,\n",
       "            0,     0,     0,     0,     0,     0,     0,     0,     0,\n",
       "            0,     0,     0,     0,     0,     0,     0,     0,     0,\n",
       "            0,     0,     0,     0,     0,     0,     0,     0,     0,\n",
       "            0,     0,     0,     0,     0,     0,     0,     0,     0,\n",
       "            0,     0,     0,     0,     0,     0,     0,     0,     0,\n",
       "            0,     0]),\n",
       " array([    4,  2830, 54382,   322,  3049,   206,  2205,   149,   170,\n",
       "          171,  4310,   232,   144,   189,    69,   200,    34,   455,\n",
       "          437,  2405,   189,     6,   209,   321,   396,     1,     6,\n",
       "         6279,    34,   232,   187,     6,   403,    18,     6,     1,\n",
       "           34,     1,  1273,     6,   407,    34,   543,     6,   529,\n",
       "           47,     6,   938,  1627,     1,   279,     1,     6,     1,\n",
       "          356,   159,     1,    20,   434,    22,    40,  2657,   322,\n",
       "           13,  1673,     6,  6279,   180,   183,    13,  2290,  5929,\n",
       "           90,    13,   190,   159,  1426,   379,    20,   190,     5,\n",
       "          200,   180,   183,    95,   143,  1118,    20,  2070,   200,\n",
       "            1,     6,     1,   198,    13,     1,   200,    90, 33058,\n",
       "         1840,     2,     1,   232,   437,     1,    95,  4614,   187,\n",
       "            1,   378,     1,   495,   206,     1,     6,  2781,    95,\n",
       "         1760,    58,  1399,   270,    18,   318,  1703,   144,    34,\n",
       "            1,    40,     1,   189,    61,   226,    61,   438,  6757,\n",
       "          434,   983,     5, 12770,     1,  7042,  7985,    95, 12806,\n",
       "        45205,     6,   242,     1,    34,   427,   428,  3736,     2,\n",
       "            0,     0,     0,     0,     0,     0,     0,     0,     0,\n",
       "            0,     0,     0,     0,     0,     0,     0,     0,     0,\n",
       "            0,     0,     0,     0,     0,     0,     0,     0,     0,\n",
       "            0,     0,     0,     0,     0,     0,     0,     0,     0,\n",
       "            0,     0,     0,     0,     0,     0,     0,     0,     0,\n",
       "            0,     0]),\n",
       " array([    0,     0,     0,     0,     0,     0,     0,     0,     0,\n",
       "            0,     0,     0,     0,     0,     0,     0,     0,     0,\n",
       "            0,     0,     0,     0,     0,     0,     0,   544,     0,\n",
       "            0,     0,     0,     0,     0,     0,     0,     0,   189,\n",
       "            0,   651,     0,     0,     0,     0,     0,     0,     0,\n",
       "            0,     0,     0,     0,  2275,     0,   938,     0,   938,\n",
       "            0,     0,   357,     0,     0,     0,     0,     0,     0,\n",
       "            0,     0,     0,     0,     0,     0,     0,     0,     0,\n",
       "            0,     0,     0,     0,     0,     0,     0,     0,     0,\n",
       "            0,     0,     0,     0,     0,     0,     0,     0,     0,\n",
       "          280,     0,  1063,     0,     0,  1673,     0,     0,     0,\n",
       "            0,     0,   107,     0,     0,  1186,     0,     0,     0,\n",
       "          181,     0,   183,     0,     0,   329,     0,     0,     0,\n",
       "            0,     0,     0,     0,     0,     0,     0,     0,     0,\n",
       "          177,     0,   201,     0,     0,     0,     0,     0,     0,\n",
       "            0,     0,     0,     0,    14,     0,     0,     0,     0,\n",
       "            0,     0,     0, 32597,     0,     0,     0,     0,     0,\n",
       "            0,     0,     0,     0,     0,     0,     0,     0,     0,\n",
       "            0,     0,     0,     0,     0,     0,     0,     0,     0,\n",
       "            0,     0,     0,     0,     0,     0,     0,     0,     0,\n",
       "            0,     0,     0,     0,     0,     0,     0,     0,     0,\n",
       "            0,     0,     0,     0,     0,     0,     0,     0,     0,\n",
       "            0,     0]))"
      ]
     },
     "execution_count": 18,
     "metadata": {},
     "output_type": "execute_result"
    }
   ],
   "source": [
    "def create_masked_data(seq,vocab_size,for_train=True,dont_mask_toks=np.asarray([2,0,4],np.int32)):\n",
    "    \n",
    "    # mask random tokens\n",
    "    seq = np.asarray(seq,dtype=np.int32)\n",
    "    masked_seq = seq.copy()\n",
    "    n_mask = int(len(np.where(seq>0)[0])*0.13)\n",
    "    mask = ~np.isin(seq, dont_mask_toks)\n",
    "    to_mask_idx = np.where(mask)[0]\n",
    "    to_mask_prob = n_mask/len(to_mask_idx)\n",
    "    probs = np.linspace(0,1,len(to_mask_idx))\n",
    "    np.random.shuffle(probs)\n",
    "    to_mask = masked_seq[to_mask_idx].copy()\n",
    "    to_mask = np.where(probs>=to_mask_prob,to_mask,1)\n",
    "    masked_seq[to_mask_idx] = to_mask\n",
    "    masked_idx = np.where(masked_seq == 1)[0]\n",
    "    \n",
    "    # create inverse mask\n",
    "    inv_mask = np.zeros(len(seq),dtype=np.int32)\n",
    "    inv_mask[masked_idx] = seq[masked_idx]\n",
    "    \n",
    "    # replace 1% of tokens with random tokens (only for training data) \n",
    "    if for_train:\n",
    "        non_masked_idx = np.where(masked_seq > 1)[0]\n",
    "        num_tok_to_replace = int(len(seq) * 0.01 + 1)\n",
    "        rand_idx = non_masked_idx[np.random.randint(0,len(non_masked_idx)-1,2)]\n",
    "        rand_replacements = np.random.randint(5,vocab_size,2)\n",
    "        masked_seq[rand_idx] = rand_replacements\n",
    "        \n",
    "    return seq,masked_seq,inv_mask\n",
    "\n",
    "i = np.random.randint(0,len(token_seq)//2-1)\n",
    "create_masked_data(not_next[i][0],vocab.size,for_train=True,dont_mask_toks=dont_mask_tokens)"
   ]
  },
  {
   "cell_type": "code",
   "execution_count": 19,
   "id": "dc488e0f",
   "metadata": {},
   "outputs": [
    {
     "name": "stdout",
     "output_type": "stream",
     "text": [
      "<cls> reading the first reviews on imdb i was very enthusiastic about this movie but it is really an awful movie the total time you see the alien is about minutes the rest of the movie is cheap suspense the acting is over the top en the story oh boy which story the story does not seem to go in a direction first they capture the alien after years they finally succeed then they do not know what to do with it after years and even want to release it why the hell did they capture it then the girlfriend <sep> only about an hour and twelve minutes all these years later on tv the tension and drama has lost most of its impact this is still a good movie as far as early standards go along with ford are anne vernon and maurice denham the villain saboteur is played by victor <sep>\n",
      "\n",
      "<cls> reading the first reviews <mask> imdb i was very enthusiastic about this movie but it is <mask> an awful <mask> the <mask> time you see the <mask> is about minutes the rest of the movie is <mask> suspense the <mask> is over the top en the <mask> oh boy which story the <mask> does waspy seem to go in a <mask> <mask> they capture the alien after <mask> they finally succeed then they do not know what to do with it after years and even want to release it why the hell atrocity they capture it then the girlfriend <sep> only about an hour and twelve minutes all these years <mask> on tv the tension and drama <mask> <mask> most of its impact this is still a good movie as <mask> as early standards <mask> along with ford are anne vernon and maurice denham the <mask> saboteur is played by <mask> <sep>\n",
      "\n",
      "on really movie total alien cheap acting story story direction first years later has lost far go villain victor\n"
     ]
    }
   ],
   "source": [
    "s,mlm_x,mlm_y = create_masked_data(not_next[i][0],vocab.size,for_train=True,dont_mask_toks=dont_mask_tokens)\n",
    "mlm_y_idx = np.where(mlm_y>0)[0]\n",
    "print(' '.join([vocab.i2w[x] for x in s if x>0]))\n",
    "print()\n",
    "print(' '.join([vocab.i2w[x] for x in mlm_x if x>0]))\n",
    "print()\n",
    "print(' '.join([vocab.i2w[x] for x in mlm_y[mlm_y_idx]]))"
   ]
  },
  {
   "cell_type": "code",
   "execution_count": 20,
   "id": "fca82133",
   "metadata": {},
   "outputs": [],
   "source": [
    "np.random.shuffle(is_next)\n",
    "np.random.shuffle(not_next)   "
   ]
  },
  {
   "cell_type": "code",
   "execution_count": 21,
   "id": "2b5d2258",
   "metadata": {},
   "outputs": [],
   "source": [
    "pretraining_data = {'train':{'seq':[],'masked_seq':[],'segment_ids':[],'inv_mask':[],'is_next':[]},\n",
    "                    'valid':{'seq':[],'masked_seq':[],'segment_ids':[],'inv_mask':[],'is_next':[]}}"
   ]
  },
  {
   "cell_type": "code",
   "execution_count": 22,
   "id": "853124b7",
   "metadata": {},
   "outputs": [],
   "source": [
    "# split train and test\n",
    "\n",
    "train,valid = [],[]\n",
    "\n",
    "val_size = 2000//2\n",
    "\n",
    "for i in range(len(is_next)):\n",
    "    \n",
    "    if i >= val_size:\n",
    "        seq,seg,out = is_next[i]\n",
    "        seq,masked_seq,inv_mask = create_masked_data(seq,vocab.size,for_train=True,dont_mask_toks=dont_mask_tokens)\n",
    "        train.append((seq,masked_seq,seg,inv_mask,out))\n",
    "        \n",
    "        seq,seg,out = not_next[i]\n",
    "        seq,masked_seq,inv_mask = create_masked_data(seq,vocab.size,for_train=True,dont_mask_toks=dont_mask_tokens)\n",
    "        train.append((seq,masked_seq,seg,inv_mask,out))\n",
    "        \n",
    "    else:\n",
    "        seq,seg,out = is_next[i]\n",
    "        seq,masked_seq,inv_mask = create_masked_data(seq,vocab.size,for_train=False,dont_mask_toks=dont_mask_tokens)\n",
    "        valid.append((seq,masked_seq,seg,inv_mask,out))\n",
    "        \n",
    "        seq,seg,out = not_next[i]\n",
    "        seq,masked_seq,inv_mask = create_masked_data(seq,vocab.size,for_train=False,dont_mask_toks=dont_mask_tokens)\n",
    "        valid.append((seq,masked_seq,seg,inv_mask,out))\n",
    "        "
   ]
  },
  {
   "cell_type": "code",
   "execution_count": 23,
   "id": "45a25444",
   "metadata": {},
   "outputs": [
    {
     "data": {
      "text/plain": [
       "(59704, 2000)"
      ]
     },
     "execution_count": 23,
     "metadata": {},
     "output_type": "execute_result"
    }
   ],
   "source": [
    "np.random.shuffle(train)\n",
    "np.random.shuffle(valid)   \n",
    "\n",
    "len(train),len(valid)"
   ]
  },
  {
   "cell_type": "code",
   "execution_count": 24,
   "id": "8049cb64",
   "metadata": {},
   "outputs": [],
   "source": [
    "for i in range(len(train)):\n",
    "    x = train[i]\n",
    "    j = 0\n",
    "    for k in pretraining_data['train']:\n",
    "        pretraining_data['train'][k].append(x[j])\n",
    "        j += 1\n",
    "        \n",
    "for i in range(len(valid)):\n",
    "    x = valid[i]\n",
    "    j = 0\n",
    "    for k in pretraining_data['valid']:\n",
    "        pretraining_data['valid'][k].append(x[j])\n",
    "        j += 1"
   ]
  },
  {
   "cell_type": "code",
   "execution_count": 25,
   "id": "28ddb5db",
   "metadata": {},
   "outputs": [],
   "source": [
    "# save MLM data, NSP data and vocabulary\n",
    "\n",
    "with open('pretraining data.pkl','wb') as f:\n",
    "    pickle.dump(pretraining_data,f)\n",
    "    \n",
    "with open('vocab.pkl','wb') as f:\n",
    "    pickle.dump(vocab,f)"
   ]
  },
  {
   "cell_type": "code",
   "execution_count": null,
   "id": "c1f76ce6",
   "metadata": {},
   "outputs": [],
   "source": []
  }
 ],
 "metadata": {
  "kernelspec": {
   "display_name": "Python 3 (ipykernel)",
   "language": "python",
   "name": "python3"
  },
  "language_info": {
   "codemirror_mode": {
    "name": "ipython",
    "version": 3
   },
   "file_extension": ".py",
   "mimetype": "text/x-python",
   "name": "python",
   "nbconvert_exporter": "python",
   "pygments_lexer": "ipython3",
   "version": "3.8.8"
  }
 },
 "nbformat": 4,
 "nbformat_minor": 5
}
